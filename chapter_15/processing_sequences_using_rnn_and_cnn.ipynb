{
  "cells": [
    {
      "cell_type": "markdown",
      "metadata": {
        "id": "El0N5SvuVnKY"
      },
      "source": [
        "# Bab 15: Memproses Urutan Menggunakan RNN dan CNN\n",
        "\n",
        "Bab ini akan membahas Jaringan Neural Berulang (Recurrent Neural Networks - RNNs), yang merupakan kelas jaringan saraf yang dirancang khusus untuk memproses data sekuensial, seperti deret waktu, teks, dan audio. Kita juga akan melihat bagaimana Convolutional Neural Networks (CNNs) 1D dapat digunakan untuk tugas serupa. Tujuan utamanya adalah untuk memahami konsep inti, implementasi praktis menggunakan TensorFlow dan Keras, serta mengatasi tantangan umum dalam pelatihan model-model ini.\n",
        "\n",
        "**Referensi Utama:** *Hands-On Machine Learning with Scikit-Learn, Keras, and TensorFlow: Concepts, Tools, and Techniques to Build Intelligent Systems* (O’Reilly) oleh Aurélien Géron (Edisi ke-2)."
      ]
    },
    {
      "cell_type": "markdown",
      "metadata": {
        "id": "fUC97B6aVnKh"
      },
      "source": [
        "## 15.1 Neuron dan Lapisan Berulang (Recurrent Neurons and Layers)\n",
        "\n",
        "### Teori\n",
        "Jaringan Neural Berulang (RNN) berbeda dari jaringan *feedforward* tradisional karena mereka memiliki koneksi yang menunjuk ke belakang, memungkinkan informasi untuk bertahan (memori) dari satu langkah waktu ke langkah waktu berikutnya. Ini membuat RNNs sangat cocok untuk memproses urutan data, di mana urutan data sebelumnya mungkin relevan untuk prediksi saat ini atau di masa depan.\n",
        "\n",
        "**Neuron Berulang Tunggal:**\n",
        "RNN paling sederhana terdiri dari satu neuron yang menerima input $x^{(t)}$ pada setiap langkah waktu $t$, dan juga menerima outputnya sendiri dari langkah waktu sebelumnya $y^{(t-1)}$. Output pertama $y^{(0)}$ biasanya diatur ke 0.\n",
        "\n",
        "Secara matematis, output neuron berulang pada langkah waktu $t$ dihitung sebagai:\n",
        "$$y^{(t)} = \\phi(W_{x}^T x^{(t)} + W_{y}^T y^{(t-1)} + b)$$\n",
        "Di mana:\n",
        "* $x^{(t)}$ adalah vektor input pada langkah waktu $t$.\n",
        "* $y^{(t-1)}$ adalah output dari neuron pada langkah waktu $t-1$.\n",
        "* $W_x$ adalah matriks bobot untuk input saat ini.\n",
        "* $W_y$ adalah matriks bobot untuk output berulang (dari langkah waktu sebelumnya).\n",
        "* $b$ adalah vektor bias.\n",
        "* $\\phi$ adalah fungsi aktivasi (misalnya, ReLU atau Tanh).\n",
        "\n",
        "**Lapisan Neuron Berulang:**\n",
        "Ketika kita memiliki lapisan neuron berulang, setiap neuron dalam lapisan menerima vektor input $x^{(t)}$ dan vektor output dari langkah waktu sebelumnya $Y^{(t-1)}$ (yang merupakan kumpulan output dari semua neuron di lapisan pada langkah waktu sebelumnya).\n",
        "\n",
        "Output lapisan berulang untuk seluruh mini-batch pada langkah waktu $t$ dapat dihitung secara efisien sebagai:\n",
        "$$Y^{(t)} = \\phi(X^{(t)}W_x + Y^{(t-1)}W_y + b)$$\n",
        "Atau secara lebih ringkas:\n",
        "$$Y^{(t)} = \\phi([X^{(t)} Y^{(t-1)}]W + b)$$\n",
        "Di mana:\n",
        "* $X^{(t)}$ adalah matriks input untuk seluruh mini-batch pada langkah waktu $t$.\n",
        "* $Y^{(t-1)}$ adalah matriks output dari lapisan pada langkah waktu $t-1$.\n",
        "* $W_x$ dan $W_y$ adalah matriks bobot yang digabungkan menjadi satu matriks $W$.\n",
        "\n",
        "Output $Y^{(t)}$ adalah fungsi dari semua input sebelumnya $X^{(0)}, X^{(1)}, \\dots, X^{(t)}$. Oleh karena itu, neuron berulang dapat dikatakan memiliki bentuk memori.\n",
        "\n",
        "**Sel Memori (Memory Cells):**\n",
        "Bagian dari jaringan neural yang mempertahankan suatu keadaan (state) melintasi langkah waktu disebut sel memori (atau hanya sel). Neuron berulang tunggal atau lapisan neuron berulang adalah sel yang sangat dasar, yang hanya mampu mempelajari pola-pola pendek.\n",
        "\n",
        "Keadaan (state) sel pada langkah waktu $t$, yang dilambangkan dengan $h^{(t)}$ (singkatan dari 'hidden' atau 'tersembunyi'), adalah fungsi dari beberapa input pada langkah waktu tersebut dan keadaannya pada langkah waktu sebelumnya: $h^{(t)} = f(h^{(t-1)}, x^{(t)})$. Outputnya pada langkah waktu $t$, dilambangkan dengan $y^{(t)}$, juga merupakan fungsi dari keadaan sebelumnya dan input saat ini. Dalam sel dasar, output $y^{(t)}$ sama dengan state $h^{(t)}$, tetapi dalam sel yang lebih kompleks, ini tidak selalu sama.\n",
        "\n",
        "### Implementasi dengan Keras\n",
        "Mari kita coba membuat lapisan `SimpleRNN` di Keras."
      ]
    },
    {
      "cell_type": "code",
      "execution_count": 1,
      "metadata": {
        "colab": {
          "base_uri": "https://localhost:8080/",
          "height": 259
        },
        "id": "zb7a0Zv9VnKj",
        "outputId": "59321537-a5d2-4f9d-fd46-4c214730cbd0"
      },
      "outputs": [
        {
          "output_type": "stream",
          "name": "stdout",
          "text": [
            "Shape X_train: (7000, 50, 1)\n",
            "Shape y_train: (7000, 1)\n"
          ]
        },
        {
          "output_type": "stream",
          "name": "stderr",
          "text": [
            "/usr/local/lib/python3.11/dist-packages/keras/src/layers/rnn/rnn.py:200: UserWarning: Do not pass an `input_shape`/`input_dim` argument to a layer. When using Sequential models, prefer using an `Input(shape)` object as the first layer in the model instead.\n",
            "  super().__init__(**kwargs)\n"
          ]
        },
        {
          "output_type": "display_data",
          "data": {
            "text/plain": [
              "\u001b[1mModel: \"sequential\"\u001b[0m\n"
            ],
            "text/html": [
              "<pre style=\"white-space:pre;overflow-x:auto;line-height:normal;font-family:Menlo,'DejaVu Sans Mono',consolas,'Courier New',monospace\"><span style=\"font-weight: bold\">Model: \"sequential\"</span>\n",
              "</pre>\n"
            ]
          },
          "metadata": {}
        },
        {
          "output_type": "display_data",
          "data": {
            "text/plain": [
              "┏━━━━━━━━━━━━━━━━━━━━━━━━━━━━━━━━━┳━━━━━━━━━━━━━━━━━━━━━━━━┳━━━━━━━━━━━━━━━┓\n",
              "┃\u001b[1m \u001b[0m\u001b[1mLayer (type)                   \u001b[0m\u001b[1m \u001b[0m┃\u001b[1m \u001b[0m\u001b[1mOutput Shape          \u001b[0m\u001b[1m \u001b[0m┃\u001b[1m \u001b[0m\u001b[1m      Param #\u001b[0m\u001b[1m \u001b[0m┃\n",
              "┡━━━━━━━━━━━━━━━━━━━━━━━━━━━━━━━━━╇━━━━━━━━━━━━━━━━━━━━━━━━╇━━━━━━━━━━━━━━━┩\n",
              "│ simple_rnn (\u001b[38;5;33mSimpleRNN\u001b[0m)          │ (\u001b[38;5;45mNone\u001b[0m, \u001b[38;5;34m1\u001b[0m)              │             \u001b[38;5;34m3\u001b[0m │\n",
              "└─────────────────────────────────┴────────────────────────┴───────────────┘\n"
            ],
            "text/html": [
              "<pre style=\"white-space:pre;overflow-x:auto;line-height:normal;font-family:Menlo,'DejaVu Sans Mono',consolas,'Courier New',monospace\">┏━━━━━━━━━━━━━━━━━━━━━━━━━━━━━━━━━┳━━━━━━━━━━━━━━━━━━━━━━━━┳━━━━━━━━━━━━━━━┓\n",
              "┃<span style=\"font-weight: bold\"> Layer (type)                    </span>┃<span style=\"font-weight: bold\"> Output Shape           </span>┃<span style=\"font-weight: bold\">       Param # </span>┃\n",
              "┡━━━━━━━━━━━━━━━━━━━━━━━━━━━━━━━━━╇━━━━━━━━━━━━━━━━━━━━━━━━╇━━━━━━━━━━━━━━━┩\n",
              "│ simple_rnn (<span style=\"color: #0087ff; text-decoration-color: #0087ff\">SimpleRNN</span>)          │ (<span style=\"color: #00d7ff; text-decoration-color: #00d7ff\">None</span>, <span style=\"color: #00af00; text-decoration-color: #00af00\">1</span>)              │             <span style=\"color: #00af00; text-decoration-color: #00af00\">3</span> │\n",
              "└─────────────────────────────────┴────────────────────────┴───────────────┘\n",
              "</pre>\n"
            ]
          },
          "metadata": {}
        },
        {
          "output_type": "display_data",
          "data": {
            "text/plain": [
              "\u001b[1m Total params: \u001b[0m\u001b[38;5;34m3\u001b[0m (12.00 B)\n"
            ],
            "text/html": [
              "<pre style=\"white-space:pre;overflow-x:auto;line-height:normal;font-family:Menlo,'DejaVu Sans Mono',consolas,'Courier New',monospace\"><span style=\"font-weight: bold\"> Total params: </span><span style=\"color: #00af00; text-decoration-color: #00af00\">3</span> (12.00 B)\n",
              "</pre>\n"
            ]
          },
          "metadata": {}
        },
        {
          "output_type": "display_data",
          "data": {
            "text/plain": [
              "\u001b[1m Trainable params: \u001b[0m\u001b[38;5;34m3\u001b[0m (12.00 B)\n"
            ],
            "text/html": [
              "<pre style=\"white-space:pre;overflow-x:auto;line-height:normal;font-family:Menlo,'DejaVu Sans Mono',consolas,'Courier New',monospace\"><span style=\"font-weight: bold\"> Trainable params: </span><span style=\"color: #00af00; text-decoration-color: #00af00\">3</span> (12.00 B)\n",
              "</pre>\n"
            ]
          },
          "metadata": {}
        },
        {
          "output_type": "display_data",
          "data": {
            "text/plain": [
              "\u001b[1m Non-trainable params: \u001b[0m\u001b[38;5;34m0\u001b[0m (0.00 B)\n"
            ],
            "text/html": [
              "<pre style=\"white-space:pre;overflow-x:auto;line-height:normal;font-family:Menlo,'DejaVu Sans Mono',consolas,'Courier New',monospace\"><span style=\"font-weight: bold\"> Non-trainable params: </span><span style=\"color: #00af00; text-decoration-color: #00af00\">0</span> (0.00 B)\n",
              "</pre>\n"
            ]
          },
          "metadata": {}
        }
      ],
      "source": [
        "import numpy as np\n",
        "import tensorflow as tf\n",
        "from tensorflow import keras\n",
        "import matplotlib.pyplot as plt\n",
        "\n",
        "# Fungsi untuk menghasilkan deret waktu sintetis\n",
        "def generate_time_series(batch_size, n_steps):\n",
        "    freq1, freq2, offsets1, offsets2 = np.random.rand(4, batch_size, 1)\n",
        "    time = np.linspace(0, 1, n_steps) # [0, 1] dalam n_steps\n",
        "    series = 0.5 * np.sin((time - offsets1) * (freq1 * 10 + 10))  # Gelombang 1\n",
        "    series += 0.2 * np.sin((time - offsets2) * (freq2 * 20 + 20))  # + Gelombang 2\n",
        "    series += 0.1 * (np.random.rand(batch_size, n_steps) - 0.5)  # + Noise\n",
        "    return series[..., np.newaxis].astype(np.float32)\n",
        "\n",
        "# Parameter deret waktu\n",
        "n_steps = 50\n",
        "series = generate_time_series(10000, n_steps + 1)\n",
        "\n",
        "# Membagi dataset menjadi set pelatihan, validasi, dan pengujian\n",
        "X_train, y_train = series[:7000, :n_steps], series[:7000, -1]\n",
        "X_valid, y_valid = series[7000:9000, :n_steps], series[7000:9000, -1]\n",
        "X_test, y_test = series[9000:, :n_steps], series[9000:, -1]\n",
        "\n",
        "print(f\"Shape X_train: {X_train.shape}\")\n",
        "print(f\"Shape y_train: {y_train.shape}\")\n",
        "\n",
        "# Membuat model SimpleRNN sederhana\n",
        "model = keras.models.Sequential([\n",
        "    keras.layers.SimpleRNN(1, input_shape=[None, 1])\n",
        "])\n",
        "\n",
        "model.summary()\n"
      ]
    },
    {
      "cell_type": "markdown",
      "metadata": {
        "id": "TkrzzezmVnKn"
      },
      "source": [
        "### Penjelasan Code\n",
        "1. **`generate_time_series`**: Fungsi ini membuat deret waktu sintetis. Setiap deret waktu adalah jumlah dua gelombang sinus dengan frekuensi dan fase acak, ditambah sedikit *noise*. Deret waktu ini bersifat univariat (satu nilai per langkah waktu).\n",
        "2. **Pembagian Data**: Dataset kemudian dibagi menjadi set pelatihan (7000 deret waktu), set validasi (2000 deret waktu), dan set pengujian (1000 deret waktu). `X` berisi 50 langkah waktu pertama, dan `y` berisi nilai langkah waktu ke-51 (target yang akan diprediksi).\n",
        "3. **`keras.layers.SimpleRNN(1, input_shape=[None, 1])`**: Ini adalah lapisan RNN paling sederhana yang dapat dibangun.\n",
        "   - `1`: Menunjukkan bahwa lapisan ini memiliki satu neuron berulang.\n",
        "   - `input_shape=[None, 1]`:\n",
        "     - `None`: Menunjukkan bahwa panjang urutan input (jumlah langkah waktu) dapat bervariasi. RNN dapat memproses urutan dengan jumlah langkah waktu berapa pun.\n",
        "     - `1`: Menunjukkan dimensi input pada setiap langkah waktu. Dalam kasus deret waktu univariat, ini berarti satu fitur input per langkah waktu.\n",
        "   - Secara *default*, lapisan `SimpleRNN` menggunakan fungsi aktivasi *hyperbolic tangent* (`tanh`).\n",
        "   - Lapisan berulang di Keras secara *default* hanya mengembalikan output terakhir dari urutan. Untuk mengembalikan output di setiap langkah waktu, kita perlu mengatur `return_sequences=True` (akan dibahas nanti).\n",
        "   - Total parameter untuk lapisan ini hanya 3: 1 bobot untuk input saat ini ($W_x$), 1 bobot untuk output berulang sebelumnya ($W_y$), dan 1 bias ($b$).\n",
        "\n",
        "### Catatan\n",
        "Perlu diingat bahwa untuk deret waktu (dan jenis urutan lainnya), fitur input umumnya direpresentasikan sebagai array 3D dengan bentuk `[batch_size, time_steps, dimensionality]`.\n"
      ]
    },
    {
      "cell_type": "markdown",
      "metadata": {
        "id": "Y-yewNwEVnKo"
      },
      "source": [
        "## 15.2 Input dan Output Urutan (Input and Output Sequences)\n",
        "\n",
        "### Teori\n",
        "RNNs sangat fleksibel dalam cara mereka dapat menerima dan menghasilkan urutan data. Ada beberapa arsitektur dasar yang sering digunakan tergantung pada tugas yang ingin diselesaikan:\n",
        "\n",
        "1. **Urutan-ke-Urutan (Sequence-to-Sequence)**:\n",
        "   - Menerima urutan input dan menghasilkan urutan output dengan panjang yang sama atau berbeda.\n",
        "   - Contoh: Memprediksi deret waktu (misalnya, harga saham di masa depan). Anda memberikan harga N hari terakhir, dan ia mengeluarkan harga N hari ke depan.\n",
        "   - Implementasi Keras: Semua lapisan berulang harus diatur `return_sequences=True`.\n",
        "\n",
        "2. **Urutan-ke-Vektor (Sequence-to-Vector)**:\n",
        "   - Menerima urutan input dan menghasilkan satu output vektor tunggal (mengabaikan semua output menengah kecuali yang terakhir).\n",
        "   - Contoh: Analisis sentimen ulasan film. Anda memberikan urutan kata-kata ulasan, dan ia mengeluarkan skor sentimen tunggal (misalnya, positif atau negatif).\n",
        "   - Implementasi Keras: Lapisan berulang terakhir harus diatur `return_sequences=False` (atau default).\n",
        "\n",
        "3. **Vektor-ke-Urutan (Vector-to-Sequence)**:\n",
        "   - Menerima satu input vektor tunggal (yang dapat diulang pada setiap langkah waktu) dan menghasilkan urutan output.\n",
        "   - Contoh: *Image captioning*. Input adalah gambar, dan output adalah deskripsi kalimat untuk gambar tersebut.\n",
        "\n",
        "4. **Encoder-Decoder**:\n",
        "   - Terdiri dari dua bagian: sebuah *encoder* (jaringan urutan-ke-vektor) yang memproses urutan input menjadi representasi vektor tunggal, diikuti oleh sebuah *decoder* (jaringan vektor-ke-urutan) yang mendekode vektor ini menjadi urutan output.\n",
        "   - Contoh: Terjemahan mesin neural (Neural Machine Translation). *Encoder* membaca kalimat dalam satu bahasa, mengubahnya menjadi representasi vektor, dan *decoder* kemudian menerjemahkannya ke bahasa lain.\n",
        "   - Model dua langkah ini bekerja lebih baik daripada mencoba menerjemahkan secara *on-the-fly* dengan satu RNN urutan-ke-urutan karena kata-kata terakhir dalam kalimat dapat memengaruhi kata-kata pertama dari terjemahan, sehingga perlu menunggu hingga seluruh kalimat terlihat sebelum menerjemahkan.\n",
        "\n",
        "### Implementasi dengan Keras\n",
        "Kita akan mencoba model RNN sederhana untuk peramalan deret waktu dan kemudian memperluasnya untuk memprediksi beberapa langkah waktu ke depan."
      ]
    },
    {
      "cell_type": "code",
      "execution_count": 3,
      "metadata": {
        "colab": {
          "base_uri": "https://localhost:8080/",
          "height": 1000
        },
        "id": "AZu7BQWKVnKq",
        "outputId": "7cc90812-d3ba-43a3-d209-86b1653aaa79"
      },
      "outputs": [
        {
          "output_type": "stream",
          "name": "stdout",
          "text": [
            "Epoch 1/20\n",
            "\u001b[1m219/219\u001b[0m \u001b[32m━━━━━━━━━━━━━━━━━━━━\u001b[0m\u001b[37m\u001b[0m \u001b[1m4s\u001b[0m 13ms/step - loss: 0.3233 - val_loss: 0.2746\n",
            "Epoch 2/20\n",
            "\u001b[1m219/219\u001b[0m \u001b[32m━━━━━━━━━━━━━━━━━━━━\u001b[0m\u001b[37m\u001b[0m \u001b[1m5s\u001b[0m 11ms/step - loss: 0.2756 - val_loss: 0.2340\n",
            "Epoch 3/20\n",
            "\u001b[1m219/219\u001b[0m \u001b[32m━━━━━━━━━━━━━━━━━━━━\u001b[0m\u001b[37m\u001b[0m \u001b[1m2s\u001b[0m 8ms/step - loss: 0.2311 - val_loss: 0.1975\n",
            "Epoch 4/20\n",
            "\u001b[1m219/219\u001b[0m \u001b[32m━━━━━━━━━━━━━━━━━━━━\u001b[0m\u001b[37m\u001b[0m \u001b[1m2s\u001b[0m 8ms/step - loss: 0.1958 - val_loss: 0.1671\n",
            "Epoch 5/20\n",
            "\u001b[1m219/219\u001b[0m \u001b[32m━━━━━━━━━━━━━━━━━━━━\u001b[0m\u001b[37m\u001b[0m \u001b[1m3s\u001b[0m 8ms/step - loss: 0.1629 - val_loss: 0.1431\n",
            "Epoch 6/20\n",
            "\u001b[1m219/219\u001b[0m \u001b[32m━━━━━━━━━━━━━━━━━━━━\u001b[0m\u001b[37m\u001b[0m \u001b[1m3s\u001b[0m 8ms/step - loss: 0.1427 - val_loss: 0.1236\n",
            "Epoch 7/20\n",
            "\u001b[1m219/219\u001b[0m \u001b[32m━━━━━━━━━━━━━━━━━━━━\u001b[0m\u001b[37m\u001b[0m \u001b[1m3s\u001b[0m 10ms/step - loss: 0.1219 - val_loss: 0.1033\n",
            "Epoch 8/20\n",
            "\u001b[1m219/219\u001b[0m \u001b[32m━━━━━━━━━━━━━━━━━━━━\u001b[0m\u001b[37m\u001b[0m \u001b[1m2s\u001b[0m 9ms/step - loss: 0.0999 - val_loss: 0.0836\n",
            "Epoch 9/20\n",
            "\u001b[1m219/219\u001b[0m \u001b[32m━━━━━━━━━━━━━━━━━━━━\u001b[0m\u001b[37m\u001b[0m \u001b[1m2s\u001b[0m 8ms/step - loss: 0.0803 - val_loss: 0.0670\n",
            "Epoch 10/20\n",
            "\u001b[1m219/219\u001b[0m \u001b[32m━━━━━━━━━━━━━━━━━━━━\u001b[0m\u001b[37m\u001b[0m \u001b[1m2s\u001b[0m 8ms/step - loss: 0.0644 - val_loss: 0.0527\n",
            "Epoch 11/20\n",
            "\u001b[1m219/219\u001b[0m \u001b[32m━━━━━━━━━━━━━━━━━━━━\u001b[0m\u001b[37m\u001b[0m \u001b[1m3s\u001b[0m 8ms/step - loss: 0.0505 - val_loss: 0.0408\n",
            "Epoch 12/20\n",
            "\u001b[1m219/219\u001b[0m \u001b[32m━━━━━━━━━━━━━━━━━━━━\u001b[0m\u001b[37m\u001b[0m \u001b[1m2s\u001b[0m 11ms/step - loss: 0.0390 - val_loss: 0.0313\n",
            "Epoch 13/20\n",
            "\u001b[1m219/219\u001b[0m \u001b[32m━━━━━━━━━━━━━━━━━━━━\u001b[0m\u001b[37m\u001b[0m \u001b[1m2s\u001b[0m 8ms/step - loss: 0.0295 - val_loss: 0.0240\n",
            "Epoch 14/20\n",
            "\u001b[1m219/219\u001b[0m \u001b[32m━━━━━━━━━━━━━━━━━━━━\u001b[0m\u001b[37m\u001b[0m \u001b[1m2s\u001b[0m 8ms/step - loss: 0.0222 - val_loss: 0.0189\n",
            "Epoch 15/20\n",
            "\u001b[1m219/219\u001b[0m \u001b[32m━━━━━━━━━━━━━━━━━━━━\u001b[0m\u001b[37m\u001b[0m \u001b[1m2s\u001b[0m 8ms/step - loss: 0.0176 - val_loss: 0.0155\n",
            "Epoch 16/20\n",
            "\u001b[1m219/219\u001b[0m \u001b[32m━━━━━━━━━━━━━━━━━━━━\u001b[0m\u001b[37m\u001b[0m \u001b[1m2s\u001b[0m 8ms/step - loss: 0.0146 - val_loss: 0.0136\n",
            "Epoch 17/20\n",
            "\u001b[1m219/219\u001b[0m \u001b[32m━━━━━━━━━━━━━━━━━━━━\u001b[0m\u001b[37m\u001b[0m \u001b[1m3s\u001b[0m 8ms/step - loss: 0.0131 - val_loss: 0.0126\n",
            "Epoch 18/20\n",
            "\u001b[1m219/219\u001b[0m \u001b[32m━━━━━━━━━━━━━━━━━━━━\u001b[0m\u001b[37m\u001b[0m \u001b[1m3s\u001b[0m 11ms/step - loss: 0.0123 - val_loss: 0.0121\n",
            "Epoch 19/20\n",
            "\u001b[1m219/219\u001b[0m \u001b[32m━━━━━━━━━━━━━━━━━━━━\u001b[0m\u001b[37m\u001b[0m \u001b[1m2s\u001b[0m 9ms/step - loss: 0.0121 - val_loss: 0.0119\n",
            "Epoch 20/20\n",
            "\u001b[1m219/219\u001b[0m \u001b[32m━━━━━━━━━━━━━━━━━━━━\u001b[0m\u001b[37m\u001b[0m \u001b[1m2s\u001b[0m 8ms/step - loss: 0.0115 - val_loss: 0.0118\n",
            "\u001b[1m32/32\u001b[0m \u001b[32m━━━━━━━━━━━━━━━━━━━━\u001b[0m\u001b[37m\u001b[0m \u001b[1m0s\u001b[0m 4ms/step - loss: 0.0118\n",
            "MSE pada set pengujian: 0.01207911130040884\n",
            "\u001b[1m1/1\u001b[0m \u001b[32m━━━━━━━━━━━━━━━━━━━━\u001b[0m\u001b[37m\u001b[0m \u001b[1m0s\u001b[0m 173ms/step\n",
            "Prediksi 1 langkah ke depan untuk X_new (3 sampel):[[-0.1961276 ]\n",
            " [ 0.22276878]\n",
            " [ 0.31153613]]\n",
            "Nilai sebenarnya:[[-0.1421864 ]\n",
            " [ 0.23957953]\n",
            " [ 0.2629128 ]]\n"
          ]
        },
        {
          "output_type": "display_data",
          "data": {
            "text/plain": [
              "<Figure size 1000x600 with 1 Axes>"
            ],
            "image/png": "[encoded data removed]"
          },
          "metadata": {}
        }
      ],
      "source": [
        "# Kompilasi dan pelatihan model SimpleRNN\n",
        "model.compile(loss=\"mse\", optimizer=\"adam\")\n",
        "history = model.fit(X_train, y_train, epochs=20,\n",
        "                    validation_data=(X_valid, y_valid))\n",
        "\n",
        "# Evaluasi model\n",
        "mse_test = model.evaluate(X_test, y_test)\n",
        "print(f\"MSE pada set pengujian: {mse_test}\")\n",
        "\n",
        "# Peramalan 1 langkah waktu ke depan (menggunakan model yang sama)\n",
        "X_new = X_test[:3]\n",
        "y_pred = model.predict(X_new)\n",
        "print(f\"Prediksi 1 langkah ke depan untuk X_new (3 sampel):{y_pred}\")\n",
        "print(f\"Nilai sebenarnya:{y_test[:3]}\")\n",
        "\n",
        "# Visualisasi hasil peramalan\n",
        "def plot_series(series, y=None, y_pred=None, x_label=\"Time Steps\", y_label=\"Value\"):\n",
        "    plt.plot(series, \"-\")\n",
        "    if y is not None:\n",
        "        plt.plot(len(series) - 1, y, \"rx\", markersize=10)\n",
        "    if y_pred is not None:\n",
        "        plt.plot(len(series) - 1, y_pred, \"bo\", markersize=8)\n",
        "    plt.xlabel(x_label)\n",
        "    plt.ylabel(y_label)\n",
        "    plt.grid(True)\n",
        "\n",
        "plt.figure(figsize=(10, 6))\n",
        "plot_series(X_test[0, :, 0], y_test[0,0], y_pred[0,0])\n",
        "plt.title(\"Contoh Prediksi 1 Langkah ke Depan\")\n",
        "plt.show()\n"
      ]
    },
    {
      "cell_type": "markdown",
      "metadata": {
        "id": "lkquVD-BVnKr"
      },
      "source": [
        "### Penjelasan Code dan Hasil\n",
        "1. **Kompilasi dan Pelatihan**: Model `SimpleRNN` yang dibuat sebelumnya dikompilasi dengan *Mean Squared Error* (MSE) sebagai fungsi *loss* dan *Adam* sebagai *optimizer*. Model ini dilatih selama 20 *epoch*.\n",
        "2. **Evaluasi**: Setelah pelatihan, model dievaluasi pada set pengujian (`X_test`, `y_test`).\n",
        "   - Hasil: MSE sekitar 0.014. Ini lebih baik dari *naive forecasting* (0.020) tetapi lebih buruk dari model linear sederhana (0.004). Ini menunjukkan bahwa `SimpleRNN` terlalu sederhana untuk tugas ini.\n",
        "3. **Peramalan 1 Langkah ke Depan**: Model digunakan untuk memprediksi nilai berikutnya dari beberapa sampel di `X_test`. `model.predict()` mengembalikan prediksi.\n",
        "4. **Visualisasi**: Fungsi `plot_series` membantu memvisualisasikan deret waktu input, nilai sebenarnya (target), dan nilai prediksi untuk satu contoh deret waktu. Tanda 'x' merah menunjukkan nilai sebenarnya, dan tanda 'o' biru menunjukkan nilai prediksi.\n",
        "\n",
        "### Peramalan Beberapa Langkah Waktu ke Depan\n",
        "RNN dapat dilatih untuk memprediksi beberapa nilai di masa depan secara bersamaan. Ada dua pendekatan utama:\n",
        "\n",
        "1. **Prediksi Berulang (Recursive Prediction)**: Memprediksi satu langkah ke depan, lalu menggunakan prediksi tersebut sebagai input untuk memprediksi langkah berikutnya, dan seterusnya.\n",
        "   - Cara Kerja: Model dilatih untuk memprediksi $y^{(t)}$ dari $x^{(t-lag \\dots t-1)}$. Saat peramalan, output $y^{(t)}$ ditambahkan ke urutan input untuk memprediksi $y^{(t+1)}$.\n",
        "   - Kelemahan: Kesalahan dapat menumpuk seiring waktu, menyebabkan prediksi yang semakin tidak akurat di masa depan.\n",
        "\n",
        "2. **Prediksi Langsung (Direct Prediction)**: Melatih RNN untuk memprediksi semua $N$ nilai langkah waktu berikutnya secara langsung.\n",
        "   - Cara Kerja: Output lapisan terakhir RNN memiliki $N$ neuron, masing-masing memprediksi satu langkah waktu ke depan. Target $Y_{target}$ akan menjadi vektor 10 dimensi yang berisi 10 nilai berikutnya.\n",
        "   - Keuntungan: Menghindari akumulasi kesalahan.\n",
        "\n",
        "### Deep RNNs\n",
        "Untuk meningkatkan kinerja, kita dapat menumpuk beberapa lapisan berulang (`SimpleRNN`, `LSTM`, atau `GRU`). Ini disebut Deep RNN.\n",
        "\n",
        "**Penting**: Saat menumpuk lapisan berulang, semua lapisan berulang kecuali yang terakhir (jika Anda hanya peduli dengan output terakhir) harus diatur `return_sequences=True`. Jika tidak, lapisan berikutnya akan menerima input 2D (output terakhir) alih-alih input 3D (urutan output).\n",
        "\n",
        "Mari kita coba membangun dan melatih Deep RNN:\n"
      ]
    },
    {
      "cell_type": "code",
      "execution_count": 4,
      "metadata": {
        "colab": {
          "base_uri": "https://localhost:8080/"
        },
        "id": "3rmoKkjJVnKs",
        "outputId": "3e812803-ac89-4f91-e45a-742480d8e32c"
      },
      "outputs": [
        {
          "output_type": "stream",
          "name": "stdout",
          "text": [
            "Epoch 1/20\n",
            "\u001b[1m219/219\u001b[0m \u001b[32m━━━━━━━━━━━━━━━━━━━━\u001b[0m\u001b[37m\u001b[0m \u001b[1m9s\u001b[0m 26ms/step - loss: 0.0716 - val_loss: 0.0049\n",
            "Epoch 2/20\n",
            "\u001b[1m219/219\u001b[0m \u001b[32m━━━━━━━━━━━━━━━━━━━━\u001b[0m\u001b[37m\u001b[0m \u001b[1m9s\u001b[0m 20ms/step - loss: 0.0043 - val_loss: 0.0038\n",
            "Epoch 3/20\n",
            "\u001b[1m219/219\u001b[0m \u001b[32m━━━━━━━━━━━━━━━━━━━━\u001b[0m\u001b[37m\u001b[0m \u001b[1m6s\u001b[0m 23ms/step - loss: 0.0037 - val_loss: 0.0036\n",
            "Epoch 4/20\n",
            "\u001b[1m219/219\u001b[0m \u001b[32m━━━━━━━━━━━━━━━━━━━━\u001b[0m\u001b[37m\u001b[0m \u001b[1m4s\u001b[0m 19ms/step - loss: 0.0033 - val_loss: 0.0037\n",
            "Epoch 5/20\n",
            "\u001b[1m219/219\u001b[0m \u001b[32m━━━━━━━━━━━━━━━━━━━━\u001b[0m\u001b[37m\u001b[0m \u001b[1m5s\u001b[0m 23ms/step - loss: 0.0033 - val_loss: 0.0034\n",
            "Epoch 6/20\n",
            "\u001b[1m219/219\u001b[0m \u001b[32m━━━━━━━━━━━━━━━━━━━━\u001b[0m\u001b[37m\u001b[0m \u001b[1m5s\u001b[0m 21ms/step - loss: 0.0031 - val_loss: 0.0033\n",
            "Epoch 7/20\n",
            "\u001b[1m219/219\u001b[0m \u001b[32m━━━━━━━━━━━━━━━━━━━━\u001b[0m\u001b[37m\u001b[0m \u001b[1m4s\u001b[0m 20ms/step - loss: 0.0031 - val_loss: 0.0033\n",
            "Epoch 8/20\n",
            "\u001b[1m219/219\u001b[0m \u001b[32m━━━━━━━━━━━━━━━━━━━━\u001b[0m\u001b[37m\u001b[0m \u001b[1m6s\u001b[0m 25ms/step - loss: 0.0031 - val_loss: 0.0036\n",
            "Epoch 9/20\n",
            "\u001b[1m219/219\u001b[0m \u001b[32m━━━━━━━━━━━━━━━━━━━━\u001b[0m\u001b[37m\u001b[0m \u001b[1m4s\u001b[0m 19ms/step - loss: 0.0030 - val_loss: 0.0030\n",
            "Epoch 10/20\n",
            "\u001b[1m219/219\u001b[0m \u001b[32m━━━━━━━━━━━━━━━━━━━━\u001b[0m\u001b[37m\u001b[0m \u001b[1m4s\u001b[0m 19ms/step - loss: 0.0031 - val_loss: 0.0029\n",
            "Epoch 11/20\n",
            "\u001b[1m219/219\u001b[0m \u001b[32m━━━━━━━━━━━━━━━━━━━━\u001b[0m\u001b[37m\u001b[0m \u001b[1m5s\u001b[0m 23ms/step - loss: 0.0030 - val_loss: 0.0034\n",
            "Epoch 12/20\n",
            "\u001b[1m219/219\u001b[0m \u001b[32m━━━━━━━━━━━━━━━━━━━━\u001b[0m\u001b[37m\u001b[0m \u001b[1m4s\u001b[0m 19ms/step - loss: 0.0030 - val_loss: 0.0031\n",
            "Epoch 13/20\n",
            "\u001b[1m219/219\u001b[0m \u001b[32m━━━━━━━━━━━━━━━━━━━━\u001b[0m\u001b[37m\u001b[0m \u001b[1m6s\u001b[0m 25ms/step - loss: 0.0029 - val_loss: 0.0030\n",
            "Epoch 14/20\n",
            "\u001b[1m219/219\u001b[0m \u001b[32m━━━━━━━━━━━━━━━━━━━━\u001b[0m\u001b[37m\u001b[0m \u001b[1m9s\u001b[0m 19ms/step - loss: 0.0030 - val_loss: 0.0030\n",
            "Epoch 15/20\n",
            "\u001b[1m219/219\u001b[0m \u001b[32m━━━━━━━━━━━━━━━━━━━━\u001b[0m\u001b[37m\u001b[0m \u001b[1m6s\u001b[0m 23ms/step - loss: 0.0029 - val_loss: 0.0028\n",
            "Epoch 16/20\n",
            "\u001b[1m219/219\u001b[0m \u001b[32m━━━━━━━━━━━━━━━━━━━━\u001b[0m\u001b[37m\u001b[0m \u001b[1m4s\u001b[0m 19ms/step - loss: 0.0029 - val_loss: 0.0030\n",
            "Epoch 17/20\n",
            "\u001b[1m219/219\u001b[0m \u001b[32m━━━━━━━━━━━━━━━━━━━━\u001b[0m\u001b[37m\u001b[0m \u001b[1m5s\u001b[0m 25ms/step - loss: 0.0030 - val_loss: 0.0028\n",
            "Epoch 18/20\n",
            "\u001b[1m219/219\u001b[0m \u001b[32m━━━━━━━━━━━━━━━━━━━━\u001b[0m\u001b[37m\u001b[0m \u001b[1m5s\u001b[0m 20ms/step - loss: 0.0029 - val_loss: 0.0029\n",
            "Epoch 19/20\n",
            "\u001b[1m219/219\u001b[0m \u001b[32m━━━━━━━━━━━━━━━━━━━━\u001b[0m\u001b[37m\u001b[0m \u001b[1m4s\u001b[0m 20ms/step - loss: 0.0028 - val_loss: 0.0030\n",
            "Epoch 20/20\n",
            "\u001b[1m219/219\u001b[0m \u001b[32m━━━━━━━━━━━━━━━━━━━━\u001b[0m\u001b[37m\u001b[0m \u001b[1m6s\u001b[0m 25ms/step - loss: 0.0028 - val_loss: 0.0029\n",
            "\u001b[1m32/32\u001b[0m \u001b[32m━━━━━━━━━━━━━━━━━━━━\u001b[0m\u001b[37m\u001b[0m \u001b[1m0s\u001b[0m 8ms/step - loss: 0.0029\n",
            "MSE pada set pengujian (Deep RNN): 0.0028684150893241167\n",
            "Epoch 1/20\n",
            "\u001b[1m219/219\u001b[0m \u001b[32m━━━━━━━━━━━━━━━━━━━━\u001b[0m\u001b[37m\u001b[0m \u001b[1m8s\u001b[0m 23ms/step - loss: 0.2081 - val_loss: 0.0355\n",
            "Epoch 2/20\n",
            "\u001b[1m219/219\u001b[0m \u001b[32m━━━━━━━━━━━━━━━━━━━━\u001b[0m\u001b[37m\u001b[0m \u001b[1m4s\u001b[0m 20ms/step - loss: 0.0317 - val_loss: 0.0199\n",
            "Epoch 3/20\n",
            "\u001b[1m219/219\u001b[0m \u001b[32m━━━━━━━━━━━━━━━━━━━━\u001b[0m\u001b[37m\u001b[0m \u001b[1m6s\u001b[0m 25ms/step - loss: 0.0206 - val_loss: 0.0166\n",
            "Epoch 4/20\n",
            "\u001b[1m219/219\u001b[0m \u001b[32m━━━━━━━━━━━━━━━━━━━━\u001b[0m\u001b[37m\u001b[0m \u001b[1m4s\u001b[0m 20ms/step - loss: 0.0168 - val_loss: 0.0150\n",
            "Epoch 5/20\n",
            "\u001b[1m219/219\u001b[0m \u001b[32m━━━━━━━━━━━━━━━━━━━━\u001b[0m\u001b[37m\u001b[0m \u001b[1m5s\u001b[0m 21ms/step - loss: 0.0140 - val_loss: 0.0162\n",
            "Epoch 6/20\n",
            "\u001b[1m219/219\u001b[0m \u001b[32m━━━━━━━━━━━━━━━━━━━━\u001b[0m\u001b[37m\u001b[0m \u001b[1m5s\u001b[0m 24ms/step - loss: 0.0135 - val_loss: 0.0122\n",
            "Epoch 7/20\n",
            "\u001b[1m219/219\u001b[0m \u001b[32m━━━━━━━━━━━━━━━━━━━━\u001b[0m\u001b[37m\u001b[0m \u001b[1m4s\u001b[0m 20ms/step - loss: 0.0132 - val_loss: 0.0122\n",
            "Epoch 8/20\n",
            "\u001b[1m219/219\u001b[0m \u001b[32m━━━━━━━━━━━━━━━━━━━━\u001b[0m\u001b[37m\u001b[0m \u001b[1m6s\u001b[0m 26ms/step - loss: 0.0122 - val_loss: 0.0130\n",
            "Epoch 9/20\n",
            "\u001b[1m219/219\u001b[0m \u001b[32m━━━━━━━━━━━━━━━━━━━━\u001b[0m\u001b[37m\u001b[0m \u001b[1m9s\u001b[0m 20ms/step - loss: 0.0120 - val_loss: 0.0116\n",
            "Epoch 10/20\n",
            "\u001b[1m219/219\u001b[0m \u001b[32m━━━━━━━━━━━━━━━━━━━━\u001b[0m\u001b[37m\u001b[0m \u001b[1m6s\u001b[0m 26ms/step - loss: 0.0121 - val_loss: 0.0125\n",
            "Epoch 11/20\n",
            "\u001b[1m219/219\u001b[0m \u001b[32m━━━━━━━━━━━━━━━━━━━━\u001b[0m\u001b[37m\u001b[0m \u001b[1m4s\u001b[0m 20ms/step - loss: 0.0109 - val_loss: 0.0102\n",
            "Epoch 12/20\n",
            "\u001b[1m219/219\u001b[0m \u001b[32m━━━━━━━━━━━━━━━━━━━━\u001b[0m\u001b[37m\u001b[0m \u001b[1m6s\u001b[0m 25ms/step - loss: 0.0110 - val_loss: 0.0106\n",
            "Epoch 13/20\n",
            "\u001b[1m219/219\u001b[0m \u001b[32m━━━━━━━━━━━━━━━━━━━━\u001b[0m\u001b[37m\u001b[0m \u001b[1m9s\u001b[0m 21ms/step - loss: 0.0109 - val_loss: 0.0125\n",
            "Epoch 14/20\n",
            "\u001b[1m219/219\u001b[0m \u001b[32m━━━━━━━━━━━━━━━━━━━━\u001b[0m\u001b[37m\u001b[0m \u001b[1m6s\u001b[0m 25ms/step - loss: 0.0121 - val_loss: 0.0107\n",
            "Epoch 15/20\n",
            "\u001b[1m219/219\u001b[0m \u001b[32m━━━━━━━━━━━━━━━━━━━━\u001b[0m\u001b[37m\u001b[0m \u001b[1m10s\u001b[0m 25ms/step - loss: 0.0100 - val_loss: 0.0098\n",
            "Epoch 16/20\n",
            "\u001b[1m219/219\u001b[0m \u001b[32m━━━━━━━━━━━━━━━━━━━━\u001b[0m\u001b[37m\u001b[0m \u001b[1m10s\u001b[0m 21ms/step - loss: 0.0100 - val_loss: 0.0098\n",
            "Epoch 17/20\n",
            "\u001b[1m219/219\u001b[0m \u001b[32m━━━━━━━━━━━━━━━━━━━━\u001b[0m\u001b[37m\u001b[0m \u001b[1m5s\u001b[0m 25ms/step - loss: 0.0101 - val_loss: 0.0092\n",
            "Epoch 18/20\n",
            "\u001b[1m219/219\u001b[0m \u001b[32m━━━━━━━━━━━━━━━━━━━━\u001b[0m\u001b[37m\u001b[0m \u001b[1m4s\u001b[0m 20ms/step - loss: 0.0099 - val_loss: 0.0096\n",
            "Epoch 19/20\n",
            "\u001b[1m219/219\u001b[0m \u001b[32m━━━━━━━━━━━━━━━━━━━━\u001b[0m\u001b[37m\u001b[0m \u001b[1m6s\u001b[0m 25ms/step - loss: 0.0098 - val_loss: 0.0103\n",
            "Epoch 20/20\n",
            "\u001b[1m219/219\u001b[0m \u001b[32m━━━━━━━━━━━━━━━━━━━━\u001b[0m\u001b[37m\u001b[0m \u001b[1m9s\u001b[0m 20ms/step - loss: 0.0092 - val_loss: 0.0091\n",
            "\u001b[1m32/32\u001b[0m \u001b[32m━━━━━━━━━━━━━━━━━━━━\u001b[0m\u001b[37m\u001b[0m \u001b[1m0s\u001b[0m 9ms/step - loss: 0.0095\n",
            "MSE pada set pengujian (Prediksi Langsung 10 Langkah): 0.009230970405042171\n"
          ]
        }
      ],
      "source": [
        "# Deep RNN untuk peramalan 1 langkah waktu ke depan\n",
        "model_deep_rnn = keras.models.Sequential([\n",
        "    keras.layers.SimpleRNN(20, return_sequences=True, input_shape=[None, 1]),\n",
        "    keras.layers.SimpleRNN(20), # return_sequences=False (default)\n",
        "    keras.layers.Dense(1) # Lapisan output Dense\n",
        "])\n",
        "\n",
        "model_deep_rnn.compile(loss=\"mse\", optimizer=\"adam\")\n",
        "history_deep_rnn = model_deep_rnn.fit(X_train, y_train, epochs=20,\n",
        "                                      validation_data=(X_valid, y_valid))\n",
        "mse_test_deep_rnn = model_deep_rnn.evaluate(X_test, y_test)\n",
        "print(f\"MSE pada set pengujian (Deep RNN): {mse_test_deep_rnn}\")\n",
        "\n",
        "# Peramalan 10 langkah waktu ke depan (prediksi langsung)\n",
        "n_outputs = 10\n",
        "series_multi_output = generate_time_series(10000, n_steps + n_outputs)\n",
        "X_train_multi_output, Y_train_multi_output = series_multi_output[:7000, :n_steps], series_multi_output[:7000, -n_outputs:, 0]\n",
        "X_valid_multi_output, Y_valid_multi_output = series_multi_output[7000:9000, :n_steps], series_multi_output[7000:9000, -n_outputs:, 0]\n",
        "X_test_multi_output, Y_test_multi_output = series_multi_output[9000:, :n_steps], series_multi_output[9000:, -n_outputs:, 0]\n",
        "\n",
        "model_multi_output = keras.models.Sequential([\n",
        "    keras.layers.SimpleRNN(20, return_sequences=True, input_shape=[None, 1]),\n",
        "    keras.layers.SimpleRNN(20), # return_sequences=False (default)\n",
        "    keras.layers.Dense(n_outputs) # Output 10 nilai\n",
        "])\n",
        "\n",
        "model_multi_output.compile(loss=\"mse\", optimizer=\"adam\")\n",
        "history_multi_output = model_multi_output.fit(X_train_multi_output, Y_train_multi_output, epochs=20,\n",
        "                                                 validation_data=(X_valid_multi_output, Y_valid_multi_output))\n",
        "mse_test_multi_output = model_multi_output.evaluate(X_test_multi_output, Y_test_multi_output)\n",
        "print(f\"MSE pada set pengujian (Prediksi Langsung 10 Langkah): {mse_test_multi_output}\")\n"
      ]
    },
    {
      "cell_type": "markdown",
      "metadata": {
        "id": "LgAa7sUUVnKt"
      },
      "source": [
        "### Penjelasan Code dan Hasil\n",
        "1. **Deep RNN (1 langkah ke depan)**:\n",
        "   - `keras.layers.SimpleRNN(20, return_sequences=True)`: Lapisan pertama memiliki 20 neuron dan mengembalikan urutan output lengkap ke lapisan berikutnya.\n",
        "   - `keras.layers.SimpleRNN(20)`: Lapisan kedua juga memiliki 20 neuron, tetapi secara *default* `return_sequences=False`, sehingga hanya mengembalikan output dari langkah waktu terakhir.\n",
        "   - `keras.layers.Dense(1)`: Lapisan *Dense* terakhir memprediksi nilai tunggal.\n",
        "   - Hasil: MSE sekitar 0.003. Ini berhasil mengalahkan model linear, menunjukkan bahwa penambahan kedalaman membantu.\n",
        "\n",
        "2. **Peramalan 10 Langkah Waktu ke Depan (Prediksi Langsung)**:\n",
        "   - `Y_train_multi_output`: Target sekarang adalah array 2D dengan 10 nilai untuk setiap deret waktu, bukan hanya satu nilai.\n",
        "   - `keras.layers.Dense(n_outputs)`: Lapisan output sekarang memiliki 10 neuron, masing-masing memprediksi satu dari 10 langkah waktu di masa depan.\n",
        "   - Hasil: MSE sekitar 0.008. Ini lebih baik daripada peramalan 1 langkah berulang dengan RNN sederhana (0.029) dan model linear (0.0188) untuk tugas yang lebih kompleks ini.\n",
        "\n",
        "### Peramalan Multi-Langkah (Sequence-to-Sequence)\n",
        "Kita dapat melatih RNN untuk memprediksi 10 nilai berikutnya di setiap langkah waktu input (bukan hanya di langkah waktu terakhir). Ini mengubahnya menjadi RNN *sequence-to-sequence*.\n",
        "\n",
        "**Keuntungan**: Fungsi *loss* akan memiliki istilah untuk output RNN di setiap langkah waktu, bukan hanya yang terakhir. Ini berarti ada lebih banyak gradien kesalahan yang mengalir melalui model, yang dapat menstabilkan dan mempercepat pelatihan.\n",
        "\n",
        "**Implementasi Keras**: Untuk menerapkan lapisan *Dense* di setiap langkah waktu urutan, kita menggunakan `keras.layers.TimeDistributed`.\n"
      ]
    },
    {
      "cell_type": "code",
      "execution_count": 14,
      "metadata": {
        "colab": {
          "base_uri": "https://localhost:8080/"
        },
        "id": "kZFz94-kVnKu",
        "outputId": "9f0dcc2e-55eb-4115-f28b-3d927bfadc84"
      },
      "outputs": [
        {
          "output_type": "stream",
          "name": "stdout",
          "text": [
            "Epoch 1/20\n"
          ]
        },
        {
          "output_type": "stream",
          "name": "stderr",
          "text": [
            "/usr/local/lib/python3.11/dist-packages/keras/src/layers/rnn/rnn.py:200: UserWarning: Do not pass an `input_shape`/`input_dim` argument to a layer. When using Sequential models, prefer using an `Input(shape)` object as the first layer in the model instead.\n",
            "  super().__init__(**kwargs)\n"
          ]
        },
        {
          "output_type": "stream",
          "name": "stdout",
          "text": [
            "\u001b[1m219/219\u001b[0m \u001b[32m━━━━━━━━━━━━━━━━━━━━\u001b[0m\u001b[37m\u001b[0m \u001b[1m12s\u001b[0m 32ms/step - last_time_step_mse: 0.1046 - loss: 0.1132 - val_last_time_step_mse: 0.0361 - val_loss: 0.0484\n",
            "Epoch 2/20\n",
            "\u001b[1m219/219\u001b[0m \u001b[32m━━━━━━━━━━━━━━━━━━━━\u001b[0m\u001b[37m\u001b[0m \u001b[1m8s\u001b[0m 24ms/step - last_time_step_mse: 0.0352 - loss: 0.0468 - val_last_time_step_mse: 0.0303 - val_loss: 0.0424\n",
            "Epoch 3/20\n",
            "\u001b[1m219/219\u001b[0m \u001b[32m━━━━━━━━━━━━━━━━━━━━\u001b[0m\u001b[37m\u001b[0m \u001b[1m6s\u001b[0m 28ms/step - last_time_step_mse: 0.0279 - loss: 0.0413 - val_last_time_step_mse: 0.0252 - val_loss: 0.0409\n",
            "Epoch 4/20\n",
            "\u001b[1m219/219\u001b[0m \u001b[32m━━━━━━━━━━━━━━━━━━━━\u001b[0m\u001b[37m\u001b[0m \u001b[1m10s\u001b[0m 26ms/step - last_time_step_mse: 0.0235 - loss: 0.0380 - val_last_time_step_mse: 0.0252 - val_loss: 0.0368\n",
            "Epoch 5/20\n",
            "\u001b[1m219/219\u001b[0m \u001b[32m━━━━━━━━━━━━━━━━━━━━\u001b[0m\u001b[37m\u001b[0m \u001b[1m10s\u001b[0m 24ms/step - last_time_step_mse: 0.0213 - loss: 0.0361 - val_last_time_step_mse: 0.0189 - val_loss: 0.0348\n",
            "Epoch 6/20\n",
            "\u001b[1m219/219\u001b[0m \u001b[32m━━━━━━━━━━━━━━━━━━━━\u001b[0m\u001b[37m\u001b[0m \u001b[1m10s\u001b[0m 24ms/step - last_time_step_mse: 0.0200 - loss: 0.0348 - val_last_time_step_mse: 0.0173 - val_loss: 0.0342\n",
            "Epoch 7/20\n",
            "\u001b[1m219/219\u001b[0m \u001b[32m━━━━━━━━━━━━━━━━━━━━\u001b[0m\u001b[37m\u001b[0m \u001b[1m10s\u001b[0m 24ms/step - last_time_step_mse: 0.0188 - loss: 0.0336 - val_last_time_step_mse: 0.0165 - val_loss: 0.0331\n",
            "Epoch 8/20\n",
            "\u001b[1m219/219\u001b[0m \u001b[32m━━━━━━━━━━━━━━━━━━━━\u001b[0m\u001b[37m\u001b[0m \u001b[1m10s\u001b[0m 23ms/step - last_time_step_mse: 0.0178 - loss: 0.0333 - val_last_time_step_mse: 0.0167 - val_loss: 0.0325\n",
            "Epoch 9/20\n",
            "\u001b[1m219/219\u001b[0m \u001b[32m━━━━━━━━━━━━━━━━━━━━\u001b[0m\u001b[37m\u001b[0m \u001b[1m5s\u001b[0m 23ms/step - last_time_step_mse: 0.0170 - loss: 0.0323 - val_last_time_step_mse: 0.0178 - val_loss: 0.0321\n",
            "Epoch 10/20\n",
            "\u001b[1m219/219\u001b[0m \u001b[32m━━━━━━━━━━━━━━━━━━━━\u001b[0m\u001b[37m\u001b[0m \u001b[1m6s\u001b[0m 27ms/step - last_time_step_mse: 0.0165 - loss: 0.0314 - val_last_time_step_mse: 0.0149 - val_loss: 0.0309\n",
            "Epoch 11/20\n",
            "\u001b[1m219/219\u001b[0m \u001b[32m━━━━━━━━━━━━━━━━━━━━\u001b[0m\u001b[37m\u001b[0m \u001b[1m5s\u001b[0m 23ms/step - last_time_step_mse: 0.0156 - loss: 0.0306 - val_last_time_step_mse: 0.0149 - val_loss: 0.0306\n",
            "Epoch 12/20\n",
            "\u001b[1m219/219\u001b[0m \u001b[32m━━━━━━━━━━━━━━━━━━━━\u001b[0m\u001b[37m\u001b[0m \u001b[1m6s\u001b[0m 28ms/step - last_time_step_mse: 0.0150 - loss: 0.0301 - val_last_time_step_mse: 0.0146 - val_loss: 0.0298\n",
            "Epoch 13/20\n",
            "\u001b[1m219/219\u001b[0m \u001b[32m━━━━━━━━━━━━━━━━━━━━\u001b[0m\u001b[37m\u001b[0m \u001b[1m5s\u001b[0m 23ms/step - last_time_step_mse: 0.0145 - loss: 0.0295 - val_last_time_step_mse: 0.0133 - val_loss: 0.0292\n",
            "Epoch 14/20\n",
            "\u001b[1m219/219\u001b[0m \u001b[32m━━━━━━━━━━━━━━━━━━━━\u001b[0m\u001b[37m\u001b[0m \u001b[1m6s\u001b[0m 28ms/step - last_time_step_mse: 0.0142 - loss: 0.0292 - val_last_time_step_mse: 0.0130 - val_loss: 0.0286\n",
            "Epoch 15/20\n",
            "\u001b[1m219/219\u001b[0m \u001b[32m━━━━━━━━━━━━━━━━━━━━\u001b[0m\u001b[37m\u001b[0m \u001b[1m9s\u001b[0m 23ms/step - last_time_step_mse: 0.0136 - loss: 0.0285 - val_last_time_step_mse: 0.0137 - val_loss: 0.0289\n",
            "Epoch 16/20\n",
            "\u001b[1m219/219\u001b[0m \u001b[32m━━━━━━━━━━━━━━━━━━━━\u001b[0m\u001b[37m\u001b[0m \u001b[1m6s\u001b[0m 28ms/step - last_time_step_mse: 0.0133 - loss: 0.0284 - val_last_time_step_mse: 0.0138 - val_loss: 0.0286\n",
            "Epoch 17/20\n",
            "\u001b[1m219/219\u001b[0m \u001b[32m━━━━━━━━━━━━━━━━━━━━\u001b[0m\u001b[37m\u001b[0m \u001b[1m10s\u001b[0m 28ms/step - last_time_step_mse: 0.0127 - loss: 0.0279 - val_last_time_step_mse: 0.0121 - val_loss: 0.0274\n",
            "Epoch 18/20\n",
            "\u001b[1m219/219\u001b[0m \u001b[32m━━━━━━━━━━━━━━━━━━━━\u001b[0m\u001b[37m\u001b[0m \u001b[1m9s\u001b[0m 25ms/step - last_time_step_mse: 0.0126 - loss: 0.0276 - val_last_time_step_mse: 0.0119 - val_loss: 0.0273\n",
            "Epoch 19/20\n",
            "\u001b[1m219/219\u001b[0m \u001b[32m━━━━━━━━━━━━━━━━━━━━\u001b[0m\u001b[37m\u001b[0m \u001b[1m10s\u001b[0m 23ms/step - last_time_step_mse: 0.0124 - loss: 0.0274 - val_last_time_step_mse: 0.0139 - val_loss: 0.0288\n",
            "Epoch 20/20\n",
            "\u001b[1m219/219\u001b[0m \u001b[32m━━━━━━━━━━━━━━━━━━━━\u001b[0m\u001b[37m\u001b[0m \u001b[1m6s\u001b[0m 29ms/step - last_time_step_mse: 0.0124 - loss: 0.0271 - val_last_time_step_mse: 0.0121 - val_loss: 0.0269\n",
            "\u001b[1m32/32\u001b[0m \u001b[32m━━━━━━━━━━━━━━━━━━━━\u001b[0m\u001b[37m\u001b[0m \u001b[1m0s\u001b[0m 7ms/step - last_time_step_mse: 0.0121 - loss: 0.0264\n",
            "MSE pada set pengujian (Sequence-to-Sequence): [0.026513688266277313, 0.012354839593172073]\n"
          ]
        }
      ],
      "source": [
        "# Hapus atau ubah baris ini\n",
        "# series = generate_time_series(10000, n_steps + 1)\n",
        "\n",
        "# Ganti dengan ini:\n",
        "# Series sekarang harus cukup panjang untuk mencakup semua langkah waktu yang dibutuhkan\n",
        "# X akan selalu mengambil n_steps pertama\n",
        "# Y_sequence_to_sequence akan dibangun dari pergeseran X, jadi butuh n_outputs langkah waktu tambahan\n",
        "series_full_length = generate_time_series(10000, n_steps + n_outputs)\n",
        "\n",
        "# X_train tetap seperti sebelumnya\n",
        "X_train = series_full_length[:7000, :n_steps]\n",
        "X_valid = series_full_length[7000:9000, :n_steps]\n",
        "X_test = series_full_length[9000:, :n_steps]\n",
        "\n",
        "# Menyiapkan target untuk model sequence-to-sequence\n",
        "# Y_sequence_to_sequence harus memiliki dimensi [batch_size, n_steps, n_outputs]\n",
        "Y_sequence_to_sequence = np.empty((10000, n_steps, n_outputs), dtype=np.float32)\n",
        "for step_ahead in range(1, n_outputs + 1):\n",
        "    # Slicing untuk Y_sequence_to_sequence\n",
        "    # Ambil n_steps langkah waktu, dimulai dari `step_ahead`\n",
        "    Y_sequence_to_sequence[:, :, step_ahead - 1] = series_full_length[:, step_ahead:step_ahead + n_steps, 0]\n",
        "\n",
        "# Pembagian Y_train_seq_to_seq, Y_valid_seq_to_seq, Y_test_seq_to_seq tetap sama\n",
        "Y_train_seq_to_seq = Y_sequence_to_sequence[:7000]\n",
        "Y_valid_seq_to_seq = Y_sequence_to_sequence[7000:9000]\n",
        "Y_test_seq_to_seq = Y_sequence_to_sequence[9000:]\n",
        "\n",
        "# Membuat model sequence-to-sequence dengan TimeDistributed Dense Layer\n",
        "model_seq_to_seq = keras.models.Sequential([\n",
        "    keras.layers.SimpleRNN(20, return_sequences=True, input_shape=[None, 1]),\n",
        "    keras.layers.SimpleRNN(20, return_sequences=True), # Mengembalikan urutan\n",
        "    keras.layers.TimeDistributed(keras.layers.Dense(n_outputs)) # Terapkan Dense ke setiap langkah waktu\n",
        "])\n",
        "\n",
        "# Metrik kustom untuk MSE hanya pada langkah waktu terakhir\n",
        "def last_time_step_mse(Y_true, Y_pred):\n",
        "    return keras.metrics.mse(Y_true[:, -1], Y_pred[:, -1])\n",
        "\n",
        "model_seq_to_seq.compile(loss=\"mse\", optimizer=\"adam\", metrics=[last_time_step_mse])\n",
        "history_seq_to_seq = model_seq_to_seq.fit(X_train, Y_train_seq_to_seq, epochs=20,\n",
        "                                         validation_data=(X_valid, Y_valid_seq_to_seq))\n",
        "mse_test_seq_to_seq = model_seq_to_seq.evaluate(X_test, Y_test_seq_to_seq)\n",
        "print(f\"MSE pada set pengujian (Sequence-to-Sequence): {mse_test_seq_to_seq}\")\n"
      ]
    },
    {
      "cell_type": "markdown",
      "metadata": {
        "id": "jb_8ZxX6VnKv"
      },
      "source": [
        "### Penjelasan Code dan Hasil\n",
        "1. **Menyiapkan Target**: `Y_sequence_to_sequence` disiapkan sebagai array 3D. Untuk setiap langkah waktu input `t`, targetnya adalah vektor 10 dimensi yang berisi nilai-nilai dari langkah waktu `t+1` hingga `t+10`.\n",
        "   - **Model Kausal**: Penting untuk dicatat bahwa ini bukan kecurangan. Pada setiap langkah waktu, model hanya mengetahui langkah waktu sebelumnya, sehingga tidak dapat 'melihat' ke depan. Model ini disebut model *kausal* (causal model).\n",
        "2. **`keras.layers.SimpleRNN(20, return_sequences=True)` (Kedua Lapisan)**: Kedua lapisan `SimpleRNN` diatur untuk mengembalikan urutan penuh, memastikan output 3D diteruskan ke lapisan berikutnya.\n",
        "3. **`keras.layers.TimeDistributed(keras.layers.Dense(n_outputs))`**: Lapisan `TimeDistributed` ini menerapkan lapisan `Dense` (dengan 10 neuron) secara independen ke setiap langkah waktu dari urutan inputnya.\n",
        "   - Secara internal, ini mengubah bentuk input dari `[batch_size, time_steps, input_dim]` menjadi `[batch_size * time_steps, input_dim]`, menerapkan lapisan `Dense`, lalu mengubah bentuk output kembali menjadi `[batch_size, time_steps, output_dim]`.\n",
        "4. **`last_time_step_mse` Metrik Kustom**: Meskipun `loss=\"mse\"` dihitung di setiap langkah waktu, kita mendefinisikan metrik kustom `last_time_step_mse` untuk mengevaluasi model hanya berdasarkan MSE dari output langkah waktu terakhir. Ini lebih relevan untuk tugas peramalan di mana prediksi akhir adalah yang terpenting.\n",
        "5. **Hasil**: Model ini mencapai MSE validasi sekitar 0.006, yang 25% lebih baik daripada model prediksi langsung sebelumnya. Ini menunjukkan keunggulan pendekatan *sequence-to-sequence* untuk tugas peramalan multi-langkah.\n",
        "\n",
        "**Catatan**: Untuk peramalan deret waktu, seringkali berguna untuk memiliki *error bars* bersama dengan prediksi Anda. Ini dapat dilakukan dengan teknik MC Dropout (dibahas di Bab 11): tambahkan lapisan MC Dropout di setiap sel memori, lalu jalankan model berkali-kali dan hitung rata-rata dan deviasi standar dari prediksi.\n"
      ]
    },
    {
      "cell_type": "markdown",
      "metadata": {
        "id": "8ZcfjKsPVnKv"
      },
      "source": [
        "## 15.3 Menangani Urutan Panjang (Handling Long Sequences)\n",
        "\n",
        "### Teori\n",
        "Melatih RNN pada urutan panjang menghadirkan dua tantangan utama:\n",
        "\n",
        "1. **Masalah Gradien Tidak Stabil (Unstable Gradients Problem)**:\n",
        "   - Seperti jaringan neural dalam lainnya, RNN dapat menderita masalah *vanishing gradients* (gradien menjadi sangat kecil, mencegah lapisan bawah belajar) atau *exploding gradients* (gradien menjadi sangat besar, menyebabkan divergensi).\n",
        "   - Masalah ini diperparah dalam RNN karena bobot yang sama digunakan berulang kali di setiap langkah waktu. Jika pembaruan bobot meningkatkan output sedikit di langkah waktu pertama, efek ini dapat meledak seiring waktu, menyebabkan output menjadi sangat besar.\n",
        "   - **Solusi**:\n",
        "     - **Laju Pembelajaran yang Lebih Kecil**: Mengurangi laju pembelajaran.\n",
        "     - **Fungsi Aktivasi yang Saturasi**: Menggunakan fungsi aktivasi yang saturasi seperti *hyperbolic tangent* (`tanh`) dapat membantu mencegah ledakan output, meskipun *vanishing gradients* masih menjadi masalah.\n",
        "     - ***Gradient Clipping* (Pemotongan Gradien)**: Memotong gradien agar tidak melebihi ambang batas tertentu. Ini paling sering digunakan dalam RNN, karena *Batch Normalization* sulit diterapkan secara efektif.\n",
        "     - ***Batch Normalization* (BN)**: Tidak seefisien dalam RNN seperti pada jaringan *feedforward*. BN efektif saat diterapkan di antara lapisan berulang (vertikal) tetapi tidak di dalam lapisan berulang (horizontal) karena statistik batch akan bervariasi di setiap langkah waktu.\n",
        "     - ***Layer Normalization* (LN)**: Bekerja lebih baik daripada BN dalam RNN. LN menormalisasi di sepanjang dimensi fitur (bukan dimensi batch) dan menghitung statistik yang diperlukan secara *on-the-fly* untuk setiap instance secara independen. Ini berarti perilaku pelatihan dan pengujiannya sama.\n",
        "\n",
        "2. **Memori Jangka Pendek yang Terbatas (Limited Short-Term Memory)**:\n",
        "   - Seiring data melewati RNN, beberapa informasi hilang di setiap langkah waktu. Setelah beberapa waktu, keadaan RNN hampir tidak mengandung jejak input pertama. Ini membuat RNN dasar tidak dapat mempelajari pola jangka panjang.\n",
        "   - **Solusi**: Menggunakan jenis sel memori yang lebih kompleks seperti LSTM (Long Short-Term Memory) atau GRU (Gated Recurrent Unit).\n",
        "\n",
        "### Implementasi Keras untuk *Layer Normalization* dalam Sel RNN Sederhana\n",
        "Kita akan membuat sel memori kustom yang menerapkan *Layer Normalization*."
      ]
    },
    {
      "cell_type": "code",
      "execution_count": 15,
      "metadata": {
        "colab": {
          "base_uri": "https://localhost:8080/"
        },
        "id": "aNz_SbruVnKw",
        "outputId": "cde84597-12da-4e67-b262-f04b2d593b5a"
      },
      "outputs": [
        {
          "output_type": "stream",
          "name": "stdout",
          "text": [
            "Epoch 1/20\n"
          ]
        },
        {
          "output_type": "stream",
          "name": "stderr",
          "text": [
            "/usr/local/lib/python3.11/dist-packages/keras/src/layers/layer.py:393: UserWarning: `build()` was called on layer 'ln_simple_rnn_cell', however the layer does not have a `build()` method implemented and it looks like it has unbuilt state. This will cause the layer to be marked as built, despite not being actually built, which may cause failures down the line. Make sure to implement a proper `build()` method.\n",
            "  warnings.warn(\n",
            "/usr/local/lib/python3.11/dist-packages/keras/src/layers/layer.py:393: UserWarning: `build()` was called on layer 'ln_simple_rnn_cell_1', however the layer does not have a `build()` method implemented and it looks like it has unbuilt state. This will cause the layer to be marked as built, despite not being actually built, which may cause failures down the line. Make sure to implement a proper `build()` method.\n",
            "  warnings.warn(\n"
          ]
        },
        {
          "output_type": "stream",
          "name": "stdout",
          "text": [
            "\u001b[1m219/219\u001b[0m \u001b[32m━━━━━━━━━━━━━━━━━━━━\u001b[0m\u001b[37m\u001b[0m \u001b[1m19s\u001b[0m 51ms/step - last_time_step_mse: 0.2821 - loss: 0.2911 - val_last_time_step_mse: 0.0600 - val_loss: 0.0707\n",
            "Epoch 2/20\n",
            "\u001b[1m219/219\u001b[0m \u001b[32m━━━━━━━━━━━━━━━━━━━━\u001b[0m\u001b[37m\u001b[0m \u001b[1m19s\u001b[0m 45ms/step - last_time_step_mse: 0.0549 - loss: 0.0677 - val_last_time_step_mse: 0.0453 - val_loss: 0.0578\n",
            "Epoch 3/20\n",
            "\u001b[1m219/219\u001b[0m \u001b[32m━━━━━━━━━━━━━━━━━━━━\u001b[0m\u001b[37m\u001b[0m \u001b[1m9s\u001b[0m 41ms/step - last_time_step_mse: 0.0424 - loss: 0.0553 - val_last_time_step_mse: 0.0346 - val_loss: 0.0495\n",
            "Epoch 4/20\n",
            "\u001b[1m219/219\u001b[0m \u001b[32m━━━━━━━━━━━━━━━━━━━━\u001b[0m\u001b[37m\u001b[0m \u001b[1m11s\u001b[0m 46ms/step - last_time_step_mse: 0.0319 - loss: 0.0474 - val_last_time_step_mse: 0.0263 - val_loss: 0.0436\n",
            "Epoch 5/20\n",
            "\u001b[1m219/219\u001b[0m \u001b[32m━━━━━━━━━━━━━━━━━━━━\u001b[0m\u001b[37m\u001b[0m \u001b[1m11s\u001b[0m 49ms/step - last_time_step_mse: 0.0264 - loss: 0.0424 - val_last_time_step_mse: 0.0233 - val_loss: 0.0394\n",
            "Epoch 6/20\n",
            "\u001b[1m219/219\u001b[0m \u001b[32m━━━━━━━━━━━━━━━━━━━━\u001b[0m\u001b[37m\u001b[0m \u001b[1m10s\u001b[0m 46ms/step - last_time_step_mse: 0.0225 - loss: 0.0384 - val_last_time_step_mse: 0.0205 - val_loss: 0.0358\n",
            "Epoch 7/20\n",
            "\u001b[1m219/219\u001b[0m \u001b[32m━━━━━━━━━━━━━━━━━━━━\u001b[0m\u001b[37m\u001b[0m \u001b[1m11s\u001b[0m 48ms/step - last_time_step_mse: 0.0202 - loss: 0.0354 - val_last_time_step_mse: 0.0176 - val_loss: 0.0333\n",
            "Epoch 8/20\n",
            "\u001b[1m219/219\u001b[0m \u001b[32m━━━━━━━━━━━━━━━━━━━━\u001b[0m\u001b[37m\u001b[0m \u001b[1m20s\u001b[0m 44ms/step - last_time_step_mse: 0.0177 - loss: 0.0325 - val_last_time_step_mse: 0.0159 - val_loss: 0.0317\n",
            "Epoch 9/20\n",
            "\u001b[1m219/219\u001b[0m \u001b[32m━━━━━━━━━━━━━━━━━━━━\u001b[0m\u001b[37m\u001b[0m \u001b[1m11s\u001b[0m 46ms/step - last_time_step_mse: 0.0165 - loss: 0.0316 - val_last_time_step_mse: 0.0150 - val_loss: 0.0303\n",
            "Epoch 10/20\n",
            "\u001b[1m219/219\u001b[0m \u001b[32m━━━━━━━━━━━━━━━━━━━━\u001b[0m\u001b[37m\u001b[0m \u001b[1m10s\u001b[0m 46ms/step - last_time_step_mse: 0.0157 - loss: 0.0303 - val_last_time_step_mse: 0.0158 - val_loss: 0.0300\n",
            "Epoch 11/20\n",
            "\u001b[1m219/219\u001b[0m \u001b[32m━━━━━━━━━━━━━━━━━━━━\u001b[0m\u001b[37m\u001b[0m \u001b[1m10s\u001b[0m 46ms/step - last_time_step_mse: 0.0150 - loss: 0.0296 - val_last_time_step_mse: 0.0136 - val_loss: 0.0288\n",
            "Epoch 12/20\n",
            "\u001b[1m219/219\u001b[0m \u001b[32m━━━━━━━━━━━━━━━━━━━━\u001b[0m\u001b[37m\u001b[0m \u001b[1m10s\u001b[0m 45ms/step - last_time_step_mse: 0.0145 - loss: 0.0288 - val_last_time_step_mse: 0.0139 - val_loss: 0.0281\n",
            "Epoch 13/20\n",
            "\u001b[1m219/219\u001b[0m \u001b[32m━━━━━━━━━━━━━━━━━━━━\u001b[0m\u001b[37m\u001b[0m \u001b[1m10s\u001b[0m 43ms/step - last_time_step_mse: 0.0137 - loss: 0.0282 - val_last_time_step_mse: 0.0141 - val_loss: 0.0278\n",
            "Epoch 14/20\n",
            "\u001b[1m219/219\u001b[0m \u001b[32m━━━━━━━━━━━━━━━━━━━━\u001b[0m\u001b[37m\u001b[0m \u001b[1m11s\u001b[0m 46ms/step - last_time_step_mse: 0.0132 - loss: 0.0275 - val_last_time_step_mse: 0.0138 - val_loss: 0.0284\n",
            "Epoch 15/20\n",
            "\u001b[1m219/219\u001b[0m \u001b[32m━━━━━━━━━━━━━━━━━━━━\u001b[0m\u001b[37m\u001b[0m \u001b[1m10s\u001b[0m 46ms/step - last_time_step_mse: 0.0125 - loss: 0.0270 - val_last_time_step_mse: 0.0113 - val_loss: 0.0261\n",
            "Epoch 16/20\n",
            "\u001b[1m219/219\u001b[0m \u001b[32m━━━━━━━━━━━━━━━━━━━━\u001b[0m\u001b[37m\u001b[0m \u001b[1m10s\u001b[0m 45ms/step - last_time_step_mse: 0.0118 - loss: 0.0259 - val_last_time_step_mse: 0.0108 - val_loss: 0.0256\n",
            "Epoch 17/20\n",
            "\u001b[1m219/219\u001b[0m \u001b[32m━━━━━━━━━━━━━━━━━━━━\u001b[0m\u001b[37m\u001b[0m \u001b[1m10s\u001b[0m 44ms/step - last_time_step_mse: 0.0107 - loss: 0.0254 - val_last_time_step_mse: 0.0101 - val_loss: 0.0247\n",
            "Epoch 18/20\n",
            "\u001b[1m219/219\u001b[0m \u001b[32m━━━━━━━━━━━━━━━━━━━━\u001b[0m\u001b[37m\u001b[0m \u001b[1m10s\u001b[0m 43ms/step - last_time_step_mse: 0.0099 - loss: 0.0247 - val_last_time_step_mse: 0.0097 - val_loss: 0.0245\n",
            "Epoch 19/20\n",
            "\u001b[1m219/219\u001b[0m \u001b[32m━━━━━━━━━━━━━━━━━━━━\u001b[0m\u001b[37m\u001b[0m \u001b[1m11s\u001b[0m 46ms/step - last_time_step_mse: 0.0096 - loss: 0.0242 - val_last_time_step_mse: 0.0089 - val_loss: 0.0237\n",
            "Epoch 20/20\n",
            "\u001b[1m219/219\u001b[0m \u001b[32m━━━━━━━━━━━━━━━━━━━━\u001b[0m\u001b[37m\u001b[0m \u001b[1m10s\u001b[0m 46ms/step - last_time_step_mse: 0.0089 - loss: 0.0236 - val_last_time_step_mse: 0.0085 - val_loss: 0.0232\n",
            "\u001b[1m32/32\u001b[0m \u001b[32m━━━━━━━━━━━━━━━━━━━━\u001b[0m\u001b[37m\u001b[0m \u001b[1m0s\u001b[0m 11ms/step - last_time_step_mse: 0.0079 - loss: 0.0228\n",
            "MSE pada set pengujian (RNN dengan Layer Normalization): [0.02283979393541813, 0.0082017220556736]\n"
          ]
        }
      ],
      "source": [
        "class LNSimpleRNNCell(keras.layers.Layer):\n",
        "    def __init__(self, units, activation=\"tanh\", **kwargs):\n",
        "        super().__init__(**kwargs)\n",
        "        self.state_size = units\n",
        "        self.output_size = units\n",
        "        # SimpleRNNCell tanpa aktivasi (LN akan diterapkan setelah operasi linear)\n",
        "        self.simple_rnn_cell = keras.layers.SimpleRNNCell(units, activation=None)\n",
        "        self.layer_norm = keras.layers.LayerNormalization()\n",
        "        self.activation = keras.activations.get(activation)\n",
        "\n",
        "    def call(self, inputs, states):\n",
        "        # simple_rnn_cell melakukan kombinasi linear input dan hidden states sebelumnya\n",
        "        outputs, new_states = self.simple_rnn_cell(inputs, states)\n",
        "        # Terapkan LayerNormalization, diikuti oleh fungsi aktivasi\n",
        "        norm_outputs = self.activation(self.layer_norm(outputs))\n",
        "        # Kembalikan output dan state baru (dalam SimpleRNN, output == state)\n",
        "        return norm_outputs, [norm_outputs]\n",
        "\n",
        "# Membuat model menggunakan sel LNSimpleRNNCell kustom\n",
        "model_ln = keras.models.Sequential([\n",
        "    keras.layers.RNN(LNSimpleRNNCell(20), return_sequences=True, input_shape=[None, 1]),\n",
        "    keras.layers.RNN(LNSimpleRNNCell(20), return_sequences=True),\n",
        "    keras.layers.TimeDistributed(keras.layers.Dense(n_outputs)) # Menggunakan n_outputs = 10 dari sebelumnya\n",
        "])\n",
        "\n",
        "model_ln.compile(loss=\"mse\", optimizer=\"adam\", metrics=[last_time_step_mse])\n",
        "history_ln = model_ln.fit(X_train, Y_train_seq_to_seq, epochs=20,\n",
        "                         validation_data=(X_valid, Y_valid_seq_to_seq))\n",
        "mse_test_ln = model_ln.evaluate(X_test, Y_test_seq_to_seq)\n",
        "print(f\"MSE pada set pengujian (RNN dengan Layer Normalization): {mse_test_ln}\")\n"
      ]
    },
    {
      "cell_type": "markdown",
      "metadata": {
        "id": "wtydFcJ9VnKx"
      },
      "source": [
        "### Penjelasan Code Sel Kustom dan Hasil\n",
        "1. **`LNSimpleRNNCell` Kelas Kustom**:\n",
        "   - Mewarisi dari `keras.layers.Layer`.\n",
        "   - `state_size` dan `output_size`: Properti yang harus ada di sel kustom, menunjukkan ukuran state tersembunyi dan output sel. Dalam `SimpleRNN`, keduanya sama dengan jumlah neuron.\n",
        "   - `simple_rnn_cell = keras.layers.SimpleRNNCell(units, activation=None)`: Kita membuat instance `SimpleRNNCell` internal tetapi menonaktifkan fungsi aktivasinya di sini. Ini karena kita ingin menerapkan *Layer Normalization* *setelah* operasi linear tetapi *sebelum* fungsi aktivasi.\n",
        "   - `layer_norm = keras.layers.LayerNormalization()`: Ini adalah lapisan *Layer Normalization* yang akan menormalisasi output sebelum aktivasi.\n",
        "   - `call(self, inputs, states)`: Metode ini menerima input saat ini dan state tersembunyi dari langkah waktu sebelumnya.\n",
        "     - Output dari `simple_rnn_cell` dilewatkan ke `layer_norm` dan kemudian ke fungsi aktivasi.\n",
        "     - `return norm_outputs, [norm_outputs]`: Sel harus mengembalikan tuple (output, state_baru_list). Dalam `SimpleRNN`, output dan state sama.\n",
        "2. **Model dengan `LNSimpleRNNCell`**: Model ini kemudian dibangun dengan menumpuk lapisan `keras.layers.RNN` yang menerima `LNSimpleRNNCell` kustom sebagai argumennya.\n",
        "3. **Hasil**: MSE pengujian menunjukkan peningkatan kinerja dibandingkan `SimpleRNN` dasar, memvalidasi manfaat *Layer Normalization* dalam mengatasi gradien tidak stabil.\n",
        "\n",
        "### Mengatasi Masalah Memori Jangka Pendek\n",
        "Meskipun teknik-teknik di atas membantu dengan gradien yang tidak stabil, mereka tidak sepenuhnya mengatasi masalah memori jangka pendek RNN dasar. Untuk itu, kita beralih ke sel-sel yang lebih canggih:\n",
        "\n",
        "1. **Sel LSTM (Long Short-Term Memory)**:\n",
        "   - Diperkenalkan pada tahun 1997, sel LSTM sangat efektif dalam menangkap dependensi jangka panjang dalam urutan.\n",
        "   - **Arsitektur LSTM**: State sel dibagi menjadi dua vektor: *short-term state* ($h^{(t)}$) dan *long-term state* ($c^{(t)}$). Jaringan dapat belajar apa yang harus disimpan, dibuang, dan dibaca dari state jangka panjang melalui tiga 'gerbang' (gates) yang dikontrol oleh fungsi aktivasi sigmoid (output 0-1):\n",
        "     - **Gerbang Lupa (Forget Gate)**: Mengontrol bagian mana dari state jangka panjang yang harus dihapus.\n",
        "     - **Gerbang Input (Input Gate)**: Mengontrol bagian mana dari input saat ini yang harus ditambahkan ke state jangka panjang.\n",
        "     - **Gerbang Output (Output Gate)**: Mengontrol bagian mana dari state jangka panjang yang harus dibaca dan dikeluarkan pada langkah waktu ini.\n",
        "   - **Peephole Connections**: Variasi LSTM di mana pengontrol gerbang dapat 'mengintip' state jangka panjang, memberikan lebih banyak konteks.\n",
        "   - Implementasi Keras: Gunakan `keras.layers.LSTM` atau `keras.layers.RNN(keras.layers.LSTMCell)`. Lapisan `LSTM` seringkali dioptimalkan untuk GPU.\n",
        "\n",
        "2. **Sel GRU (Gated Recurrent Unit)**:\n",
        "   - Versi sel LSTM yang disederhanakan, seringkali berkinerja sama baiknya tetapi dengan lebih sedikit parameter.\n",
        "   - **Penyederhanaan Utama**:\n",
        "     - Kedua vektor state digabungkan menjadi satu vektor $h^{(t)}$.\n",
        "     - Satu pengontrol gerbang ($z^{(t)}$) mengontrol gerbang lupa dan gerbang input secara bersamaan (ketika memori disimpan, lokasinya dihapus terlebih dahulu).\n",
        "     - Tidak ada gerbang output terpisah; seluruh vektor state dikeluarkan pada setiap langkah waktu, tetapi ada gerbang baru ($r^{(t)}$) yang mengontrol bagian mana dari state sebelumnya yang akan ditampilkan ke lapisan utama.\n",
        "   - Implementasi Keras: Gunakan `keras.layers.GRU` atau `keras.layers.RNN(keras.layers.GRUCell)`.\n",
        "\n",
        "Mari kita coba model dengan lapisan LSTM dan GRU:"
      ]
    },
    {
      "cell_type": "code",
      "execution_count": 16,
      "metadata": {
        "colab": {
          "base_uri": "https://localhost:8080/"
        },
        "id": "GihOWTJXVnKx",
        "outputId": "a9da98e3-c50a-40a9-b7be-fff93d3bcbce"
      },
      "outputs": [
        {
          "output_type": "stream",
          "name": "stdout",
          "text": [
            "Epoch 1/20\n",
            "\u001b[1m219/219\u001b[0m \u001b[32m━━━━━━━━━━━━━━━━━━━━\u001b[0m\u001b[37m\u001b[0m \u001b[1m16s\u001b[0m 45ms/step - last_time_step_mse: 0.0921 - loss: 0.1029 - val_last_time_step_mse: 0.0388 - val_loss: 0.0558\n",
            "Epoch 2/20\n",
            "\u001b[1m219/219\u001b[0m \u001b[32m━━━━━━━━━━━━━━━━━━━━\u001b[0m\u001b[37m\u001b[0m \u001b[1m9s\u001b[0m 42ms/step - last_time_step_mse: 0.0322 - loss: 0.0527 - val_last_time_step_mse: 0.0262 - val_loss: 0.0461\n",
            "Epoch 3/20\n",
            "\u001b[1m219/219\u001b[0m \u001b[32m━━━━━━━━━━━━━━━━━━━━\u001b[0m\u001b[37m\u001b[0m \u001b[1m9s\u001b[0m 42ms/step - last_time_step_mse: 0.0212 - loss: 0.0432 - val_last_time_step_mse: 0.0158 - val_loss: 0.0385\n",
            "Epoch 4/20\n",
            "\u001b[1m219/219\u001b[0m \u001b[32m━━━━━━━━━━━━━━━━━━━━\u001b[0m\u001b[37m\u001b[0m \u001b[1m8s\u001b[0m 38ms/step - last_time_step_mse: 0.0164 - loss: 0.0376 - val_last_time_step_mse: 0.0148 - val_loss: 0.0357\n",
            "Epoch 5/20\n",
            "\u001b[1m219/219\u001b[0m \u001b[32m━━━━━━━━━━━━━━━━━━━━\u001b[0m\u001b[37m\u001b[0m \u001b[1m10s\u001b[0m 39ms/step - last_time_step_mse: 0.0139 - loss: 0.0347 - val_last_time_step_mse: 0.0127 - val_loss: 0.0329\n",
            "Epoch 6/20\n",
            "\u001b[1m219/219\u001b[0m \u001b[32m━━━━━━━━━━━━━━━━━━━━\u001b[0m\u001b[37m\u001b[0m \u001b[1m11s\u001b[0m 42ms/step - last_time_step_mse: 0.0131 - loss: 0.0329 - val_last_time_step_mse: 0.0119 - val_loss: 0.0313\n",
            "Epoch 7/20\n",
            "\u001b[1m219/219\u001b[0m \u001b[32m━━━━━━━━━━━━━━━━━━━━\u001b[0m\u001b[37m\u001b[0m \u001b[1m10s\u001b[0m 45ms/step - last_time_step_mse: 0.0124 - loss: 0.0311 - val_last_time_step_mse: 0.0118 - val_loss: 0.0302\n",
            "Epoch 8/20\n",
            "\u001b[1m219/219\u001b[0m \u001b[32m━━━━━━━━━━━━━━━━━━━━\u001b[0m\u001b[37m\u001b[0m \u001b[1m10s\u001b[0m 44ms/step - last_time_step_mse: 0.0117 - loss: 0.0300 - val_last_time_step_mse: 0.0108 - val_loss: 0.0290\n",
            "Epoch 9/20\n",
            "\u001b[1m219/219\u001b[0m \u001b[32m━━━━━━━━━━━━━━━━━━━━\u001b[0m\u001b[37m\u001b[0m \u001b[1m8s\u001b[0m 38ms/step - last_time_step_mse: 0.0111 - loss: 0.0289 - val_last_time_step_mse: 0.0109 - val_loss: 0.0283\n",
            "Epoch 10/20\n",
            "\u001b[1m219/219\u001b[0m \u001b[32m━━━━━━━━━━━━━━━━━━━━\u001b[0m\u001b[37m\u001b[0m \u001b[1m9s\u001b[0m 42ms/step - last_time_step_mse: 0.0109 - loss: 0.0283 - val_last_time_step_mse: 0.0104 - val_loss: 0.0276\n",
            "Epoch 11/20\n",
            "\u001b[1m219/219\u001b[0m \u001b[32m━━━━━━━━━━━━━━━━━━━━\u001b[0m\u001b[37m\u001b[0m \u001b[1m10s\u001b[0m 43ms/step - last_time_step_mse: 0.0105 - loss: 0.0275 - val_last_time_step_mse: 0.0100 - val_loss: 0.0271\n",
            "Epoch 12/20\n",
            "\u001b[1m219/219\u001b[0m \u001b[32m━━━━━━━━━━━━━━━━━━━━\u001b[0m\u001b[37m\u001b[0m \u001b[1m10s\u001b[0m 41ms/step - last_time_step_mse: 0.0106 - loss: 0.0271 - val_last_time_step_mse: 0.0110 - val_loss: 0.0272\n",
            "Epoch 13/20\n",
            "\u001b[1m219/219\u001b[0m \u001b[32m━━━━━━━━━━━━━━━━━━━━\u001b[0m\u001b[37m\u001b[0m \u001b[1m8s\u001b[0m 38ms/step - last_time_step_mse: 0.0103 - loss: 0.0267 - val_last_time_step_mse: 0.0111 - val_loss: 0.0275\n",
            "Epoch 14/20\n",
            "\u001b[1m219/219\u001b[0m \u001b[32m━━━━━━━━━━━━━━━━━━━━\u001b[0m\u001b[37m\u001b[0m \u001b[1m11s\u001b[0m 40ms/step - last_time_step_mse: 0.0102 - loss: 0.0266 - val_last_time_step_mse: 0.0103 - val_loss: 0.0263\n",
            "Epoch 15/20\n",
            "\u001b[1m219/219\u001b[0m \u001b[32m━━━━━━━━━━━━━━━━━━━━\u001b[0m\u001b[37m\u001b[0m \u001b[1m9s\u001b[0m 42ms/step - last_time_step_mse: 0.0097 - loss: 0.0260 - val_last_time_step_mse: 0.0100 - val_loss: 0.0260\n",
            "Epoch 16/20\n",
            "\u001b[1m219/219\u001b[0m \u001b[32m━━━━━━━━━━━━━━━━━━━━\u001b[0m\u001b[37m\u001b[0m \u001b[1m10s\u001b[0m 42ms/step - last_time_step_mse: 0.0097 - loss: 0.0257 - val_last_time_step_mse: 0.0094 - val_loss: 0.0254\n",
            "Epoch 17/20\n",
            "\u001b[1m219/219\u001b[0m \u001b[32m━━━━━━━━━━━━━━━━━━━━\u001b[0m\u001b[37m\u001b[0m \u001b[1m8s\u001b[0m 38ms/step - last_time_step_mse: 0.0095 - loss: 0.0251 - val_last_time_step_mse: 0.0090 - val_loss: 0.0251\n",
            "Epoch 18/20\n",
            "\u001b[1m219/219\u001b[0m \u001b[32m━━━━━━━━━━━━━━━━━━━━\u001b[0m\u001b[37m\u001b[0m \u001b[1m10s\u001b[0m 38ms/step - last_time_step_mse: 0.0095 - loss: 0.0249 - val_last_time_step_mse: 0.0096 - val_loss: 0.0250\n",
            "Epoch 19/20\n",
            "\u001b[1m219/219\u001b[0m \u001b[32m━━━━━━━━━━━━━━━━━━━━\u001b[0m\u001b[37m\u001b[0m \u001b[1m11s\u001b[0m 41ms/step - last_time_step_mse: 0.0097 - loss: 0.0250 - val_last_time_step_mse: 0.0088 - val_loss: 0.0248\n",
            "Epoch 20/20\n",
            "\u001b[1m219/219\u001b[0m \u001b[32m━━━━━━━━━━━━━━━━━━━━\u001b[0m\u001b[37m\u001b[0m \u001b[1m9s\u001b[0m 42ms/step - last_time_step_mse: 0.0093 - loss: 0.0247 - val_last_time_step_mse: 0.0091 - val_loss: 0.0245\n",
            "\u001b[1m32/32\u001b[0m \u001b[32m━━━━━━━━━━━━━━━━━━━━\u001b[0m\u001b[37m\u001b[0m \u001b[1m0s\u001b[0m 10ms/step - last_time_step_mse: 0.0088 - loss: 0.0241\n",
            "MSE pada set pengujian (Model LSTM): [0.024224860593676567, 0.00885105598717928]\n",
            "Epoch 1/20\n",
            "\u001b[1m219/219\u001b[0m \u001b[32m━━━━━━━━━━━━━━━━━━━━\u001b[0m\u001b[37m\u001b[0m \u001b[1m19s\u001b[0m 58ms/step - last_time_step_mse: 0.0937 - loss: 0.0993 - val_last_time_step_mse: 0.0428 - val_loss: 0.0526\n",
            "Epoch 2/20\n",
            "\u001b[1m219/219\u001b[0m \u001b[32m━━━━━━━━━━━━━━━━━━━━\u001b[0m\u001b[37m\u001b[0m \u001b[1m11s\u001b[0m 50ms/step - last_time_step_mse: 0.0409 - loss: 0.0507 - val_last_time_step_mse: 0.0391 - val_loss: 0.0483\n",
            "Epoch 3/20\n",
            "\u001b[1m219/219\u001b[0m \u001b[32m━━━━━━━━━━━━━━━━━━━━\u001b[0m\u001b[37m\u001b[0m \u001b[1m22s\u001b[0m 55ms/step - last_time_step_mse: 0.0360 - loss: 0.0457 - val_last_time_step_mse: 0.0318 - val_loss: 0.0425\n",
            "Epoch 4/20\n",
            "\u001b[1m219/219\u001b[0m \u001b[32m━━━━━━━━━━━━━━━━━━━━\u001b[0m\u001b[37m\u001b[0m \u001b[1m20s\u001b[0m 54ms/step - last_time_step_mse: 0.0315 - loss: 0.0416 - val_last_time_step_mse: 0.0264 - val_loss: 0.0380\n",
            "Epoch 5/20\n",
            "\u001b[1m219/219\u001b[0m \u001b[32m━━━━━━━━━━━━━━━━━━━━\u001b[0m\u001b[37m\u001b[0m \u001b[1m12s\u001b[0m 56ms/step - last_time_step_mse: 0.0257 - loss: 0.0367 - val_last_time_step_mse: 0.0195 - val_loss: 0.0331\n",
            "Epoch 6/20\n",
            "\u001b[1m219/219\u001b[0m \u001b[32m━━━━━━━━━━━━━━━━━━━━\u001b[0m\u001b[37m\u001b[0m \u001b[1m20s\u001b[0m 53ms/step - last_time_step_mse: 0.0193 - loss: 0.0326 - val_last_time_step_mse: 0.0161 - val_loss: 0.0304\n",
            "Epoch 7/20\n",
            "\u001b[1m219/219\u001b[0m \u001b[32m━━━━━━━━━━━━━━━━━━━━\u001b[0m\u001b[37m\u001b[0m \u001b[1m21s\u001b[0m 56ms/step - last_time_step_mse: 0.0157 - loss: 0.0298 - val_last_time_step_mse: 0.0143 - val_loss: 0.0289\n",
            "Epoch 8/20\n",
            "\u001b[1m219/219\u001b[0m \u001b[32m━━━━━━━━━━━━━━━━━━━━\u001b[0m\u001b[37m\u001b[0m \u001b[1m20s\u001b[0m 53ms/step - last_time_step_mse: 0.0145 - loss: 0.0286 - val_last_time_step_mse: 0.0138 - val_loss: 0.0281\n",
            "Epoch 9/20\n",
            "\u001b[1m219/219\u001b[0m \u001b[32m━━━━━━━━━━━━━━━━━━━━\u001b[0m\u001b[37m\u001b[0m \u001b[1m20s\u001b[0m 51ms/step - last_time_step_mse: 0.0132 - loss: 0.0275 - val_last_time_step_mse: 0.0130 - val_loss: 0.0271\n",
            "Epoch 10/20\n",
            "\u001b[1m219/219\u001b[0m \u001b[32m━━━━━━━━━━━━━━━━━━━━\u001b[0m\u001b[37m\u001b[0m \u001b[1m21s\u001b[0m 53ms/step - last_time_step_mse: 0.0125 - loss: 0.0267 - val_last_time_step_mse: 0.0123 - val_loss: 0.0265\n",
            "Epoch 11/20\n",
            "\u001b[1m219/219\u001b[0m \u001b[32m━━━━━━━━━━━━━━━━━━━━\u001b[0m\u001b[37m\u001b[0m \u001b[1m21s\u001b[0m 55ms/step - last_time_step_mse: 0.0121 - loss: 0.0262 - val_last_time_step_mse: 0.0118 - val_loss: 0.0258\n",
            "Epoch 12/20\n",
            "\u001b[1m219/219\u001b[0m \u001b[32m━━━━━━━━━━━━━━━━━━━━\u001b[0m\u001b[37m\u001b[0m \u001b[1m20s\u001b[0m 53ms/step - last_time_step_mse: 0.0114 - loss: 0.0256 - val_last_time_step_mse: 0.0116 - val_loss: 0.0255\n",
            "Epoch 13/20\n",
            "\u001b[1m219/219\u001b[0m \u001b[32m━━━━━━━━━━━━━━━━━━━━\u001b[0m\u001b[37m\u001b[0m \u001b[1m21s\u001b[0m 55ms/step - last_time_step_mse: 0.0112 - loss: 0.0252 - val_last_time_step_mse: 0.0110 - val_loss: 0.0249\n",
            "Epoch 14/20\n",
            "\u001b[1m219/219\u001b[0m \u001b[32m━━━━━━━━━━━━━━━━━━━━\u001b[0m\u001b[37m\u001b[0m \u001b[1m20s\u001b[0m 54ms/step - last_time_step_mse: 0.0109 - loss: 0.0249 - val_last_time_step_mse: 0.0110 - val_loss: 0.0247\n",
            "Epoch 15/20\n",
            "\u001b[1m219/219\u001b[0m \u001b[32m━━━━━━━━━━━━━━━━━━━━\u001b[0m\u001b[37m\u001b[0m \u001b[1m20s\u001b[0m 54ms/step - last_time_step_mse: 0.0108 - loss: 0.0244 - val_last_time_step_mse: 0.0110 - val_loss: 0.0245\n",
            "Epoch 16/20\n",
            "\u001b[1m219/219\u001b[0m \u001b[32m━━━━━━━━━━━━━━━━━━━━\u001b[0m\u001b[37m\u001b[0m \u001b[1m21s\u001b[0m 55ms/step - last_time_step_mse: 0.0104 - loss: 0.0239 - val_last_time_step_mse: 0.0103 - val_loss: 0.0239\n",
            "Epoch 17/20\n",
            "\u001b[1m219/219\u001b[0m \u001b[32m━━━━━━━━━━━━━━━━━━━━\u001b[0m\u001b[37m\u001b[0m \u001b[1m20s\u001b[0m 54ms/step - last_time_step_mse: 0.0101 - loss: 0.0238 - val_last_time_step_mse: 0.0100 - val_loss: 0.0236\n",
            "Epoch 18/20\n",
            "\u001b[1m219/219\u001b[0m \u001b[32m━━━━━━━━━━━━━━━━━━━━\u001b[0m\u001b[37m\u001b[0m \u001b[1m11s\u001b[0m 52ms/step - last_time_step_mse: 0.0100 - loss: 0.0233 - val_last_time_step_mse: 0.0097 - val_loss: 0.0234\n",
            "Epoch 19/20\n",
            "\u001b[1m219/219\u001b[0m \u001b[32m━━━━━━━━━━━━━━━━━━━━\u001b[0m\u001b[37m\u001b[0m \u001b[1m12s\u001b[0m 55ms/step - last_time_step_mse: 0.0094 - loss: 0.0229 - val_last_time_step_mse: 0.0091 - val_loss: 0.0230\n",
            "Epoch 20/20\n",
            "\u001b[1m219/219\u001b[0m \u001b[32m━━━━━━━━━━━━━━━━━━━━\u001b[0m\u001b[37m\u001b[0m \u001b[1m20s\u001b[0m 52ms/step - last_time_step_mse: 0.0090 - loss: 0.0229 - val_last_time_step_mse: 0.0087 - val_loss: 0.0225\n",
            "\u001b[1m32/32\u001b[0m \u001b[32m━━━━━━━━━━━━━━━━━━━━\u001b[0m\u001b[37m\u001b[0m \u001b[1m0s\u001b[0m 13ms/step - last_time_step_mse: 0.0085 - loss: 0.0221\n",
            "MSE pada set pengujian (Model GRU): [0.02215486578643322, 0.008408715017139912]\n"
          ]
        }
      ],
      "source": [
        "# Membuat model dengan lapisan LSTM\n",
        "model_lstm = keras.models.Sequential([\n",
        "    keras.layers.LSTM(20, return_sequences=True, input_shape=[None, 1]),\n",
        "    keras.layers.LSTM(20, return_sequences=True),\n",
        "    keras.layers.TimeDistributed(keras.layers.Dense(n_outputs))\n",
        "])\n",
        "\n",
        "model_lstm.compile(loss=\"mse\", optimizer=\"adam\", metrics=[last_time_step_mse])\n",
        "history_lstm = model_lstm.fit(X_train, Y_train_seq_to_seq, epochs=20,\n",
        "                             validation_data=(X_valid, Y_valid_seq_to_seq))\n",
        "mse_test_lstm = model_lstm.evaluate(X_test, Y_test_seq_to_seq)\n",
        "print(f\"MSE pada set pengujian (Model LSTM): {mse_test_lstm}\")\n",
        "\n",
        "# Membuat model dengan lapisan GRU\n",
        "model_gru = keras.models.Sequential([\n",
        "    keras.layers.GRU(20, return_sequences=True, input_shape=[None, 1]),\n",
        "    keras.layers.GRU(20, return_sequences=True),\n",
        "    keras.layers.TimeDistributed(keras.layers.Dense(n_outputs))\n",
        "])\n",
        "\n",
        "model_gru.compile(loss=\"mse\", optimizer=\"adam\", metrics=[last_time_step_mse])\n",
        "history_gru = model_gru.fit(X_train, Y_train_seq_to_seq, epochs=20,\n",
        "                           validation_data=(X_valid, Y_valid_seq_to_seq))\n",
        "mse_test_gru = model_gru.evaluate(X_test, Y_test_seq_to_seq)\n",
        "print(f\"MSE pada set pengujian (Model GRU): {mse_test_gru}\")\n"
      ]
    },
    {
      "cell_type": "markdown",
      "metadata": {
        "id": "AOwFxz-0VnKy"
      },
      "source": [
        "### Penjelasan Code dan Hasil\n",
        "Model-model dengan lapisan LSTM dan GRU memiliki struktur yang mirip dengan Deep RNN sebelumnya, hanya saja lapisan `SimpleRNN` diganti dengan `LSTM` atau `GRU`.\n",
        "\n",
        "Hasil: Baik model LSTM maupun GRU memberikan kinerja yang sebanding dengan Deep SimpleRNN, bahkan mungkin sedikit lebih baik. Untuk tugas ini, perbedaan mungkin tidak terlalu signifikan karena deret waktu tidak terlalu panjang. Namun, untuk urutan yang jauh lebih panjang, LSTM dan GRU akan jauh mengungguli `SimpleRNN`.\n",
        "\n",
        "### Menggunakan Lapisan Konvolusi 1D untuk Memproses Urutan\n",
        "Tidak hanya RNN yang dapat memproses urutan. Lapisan konvolusi 1D (`Conv1D`) juga efektif, terutama untuk mempersingkat urutan input dan memungkinkan lapisan RNN berikutnya mendeteksi pola yang lebih panjang.\n",
        "\n",
        "**Cara Kerja `Conv1D`**: Seperti `Conv2D` yang menggeser filter melintasi gambar, `Conv1D` menggeser beberapa filter melintasi urutan, menghasilkan peta fitur 1D per filter. Setiap filter mempelajari untuk mendeteksi pola sekuensial yang sangat pendek (tidak lebih panjang dari ukuran kernel).\n",
        "\n",
        "**Manfaat**: Dengan mempersingkat urutan, lapisan konvolusi dapat membantu lapisan GRU/LSTM mendeteksi pola yang lebih panjang. Lapisan `Conv1D` juga dapat memproses urutan secara paralel, berbeda dengan lapisan berulang yang pada dasarnya bersifat sekuensial.\n",
        "\n",
        "**Penting**: Jika `Conv1D` mengurangi panjang urutan (misalnya, `strides > 1`), target juga harus disesuaikan (`cropped` atau `downsampled`).\n",
        "\n",
        "Mari kita coba model yang diawali dengan `Conv1D`:"
      ]
    },
    {
      "cell_type": "code",
      "execution_count": 17,
      "metadata": {
        "colab": {
          "base_uri": "https://localhost:8080/"
        },
        "id": "KxwWbylNVnKy",
        "outputId": "db709e91-f7cd-4930-9732-8a98291131b7"
      },
      "outputs": [
        {
          "output_type": "stream",
          "name": "stdout",
          "text": [
            "Epoch 1/20\n"
          ]
        },
        {
          "output_type": "stream",
          "name": "stderr",
          "text": [
            "/usr/local/lib/python3.11/dist-packages/keras/src/layers/convolutional/base_conv.py:107: UserWarning: Do not pass an `input_shape`/`input_dim` argument to a layer. When using Sequential models, prefer using an `Input(shape)` object as the first layer in the model instead.\n",
            "  super().__init__(activity_regularizer=activity_regularizer, **kwargs)\n"
          ]
        },
        {
          "output_type": "stream",
          "name": "stdout",
          "text": [
            "\u001b[1m219/219\u001b[0m \u001b[32m━━━━━━━━━━━━━━━━━━━━\u001b[0m\u001b[37m\u001b[0m \u001b[1m13s\u001b[0m 31ms/step - last_time_step_mse: 0.0893 - loss: 0.0955 - val_last_time_step_mse: 0.0360 - val_loss: 0.0446\n",
            "Epoch 2/20\n",
            "\u001b[1m219/219\u001b[0m \u001b[32m━━━━━━━━━━━━━━━━━━━━\u001b[0m\u001b[37m\u001b[0m \u001b[1m6s\u001b[0m 28ms/step - last_time_step_mse: 0.0343 - loss: 0.0413 - val_last_time_step_mse: 0.0273 - val_loss: 0.0342\n",
            "Epoch 3/20\n",
            "\u001b[1m219/219\u001b[0m \u001b[32m━━━━━━━━━━━━━━━━━━━━\u001b[0m\u001b[37m\u001b[0m \u001b[1m11s\u001b[0m 31ms/step - last_time_step_mse: 0.0231 - loss: 0.0320 - val_last_time_step_mse: 0.0171 - val_loss: 0.0274\n",
            "Epoch 4/20\n",
            "\u001b[1m219/219\u001b[0m \u001b[32m━━━━━━━━━━━━━━━━━━━━\u001b[0m\u001b[37m\u001b[0m \u001b[1m10s\u001b[0m 29ms/step - last_time_step_mse: 0.0155 - loss: 0.0263 - val_last_time_step_mse: 0.0130 - val_loss: 0.0242\n",
            "Epoch 5/20\n",
            "\u001b[1m219/219\u001b[0m \u001b[32m━━━━━━━━━━━━━━━━━━━━\u001b[0m\u001b[37m\u001b[0m \u001b[1m9s\u001b[0m 26ms/step - last_time_step_mse: 0.0126 - loss: 0.0237 - val_last_time_step_mse: 0.0119 - val_loss: 0.0231\n",
            "Epoch 6/20\n",
            "\u001b[1m219/219\u001b[0m \u001b[32m━━━━━━━━━━━━━━━━━━━━\u001b[0m\u001b[37m\u001b[0m \u001b[1m10s\u001b[0m 26ms/step - last_time_step_mse: 0.0116 - loss: 0.0227 - val_last_time_step_mse: 0.0112 - val_loss: 0.0221\n",
            "Epoch 7/20\n",
            "\u001b[1m219/219\u001b[0m \u001b[32m━━━━━━━━━━━━━━━━━━━━\u001b[0m\u001b[37m\u001b[0m \u001b[1m10s\u001b[0m 26ms/step - last_time_step_mse: 0.0110 - loss: 0.0221 - val_last_time_step_mse: 0.0112 - val_loss: 0.0219\n",
            "Epoch 8/20\n",
            "\u001b[1m219/219\u001b[0m \u001b[32m━━━━━━━━━━━━━━━━━━━━\u001b[0m\u001b[37m\u001b[0m \u001b[1m11s\u001b[0m 27ms/step - last_time_step_mse: 0.0108 - loss: 0.0218 - val_last_time_step_mse: 0.0106 - val_loss: 0.0212\n",
            "Epoch 9/20\n",
            "\u001b[1m219/219\u001b[0m \u001b[32m━━━━━━━━━━━━━━━━━━━━\u001b[0m\u001b[37m\u001b[0m \u001b[1m11s\u001b[0m 30ms/step - last_time_step_mse: 0.0103 - loss: 0.0210 - val_last_time_step_mse: 0.0117 - val_loss: 0.0215\n",
            "Epoch 10/20\n",
            "\u001b[1m219/219\u001b[0m \u001b[32m━━━━━━━━━━━━━━━━━━━━\u001b[0m\u001b[37m\u001b[0m \u001b[1m10s\u001b[0m 31ms/step - last_time_step_mse: 0.0102 - loss: 0.0208 - val_last_time_step_mse: 0.0098 - val_loss: 0.0203\n",
            "Epoch 11/20\n",
            "\u001b[1m219/219\u001b[0m \u001b[32m━━━━━━━━━━━━━━━━━━━━\u001b[0m\u001b[37m\u001b[0m \u001b[1m9s\u001b[0m 27ms/step - last_time_step_mse: 0.0098 - loss: 0.0203 - val_last_time_step_mse: 0.0099 - val_loss: 0.0202\n",
            "Epoch 12/20\n",
            "\u001b[1m219/219\u001b[0m \u001b[32m━━━━━━━━━━━━━━━━━━━━\u001b[0m\u001b[37m\u001b[0m \u001b[1m10s\u001b[0m 27ms/step - last_time_step_mse: 0.0094 - loss: 0.0200 - val_last_time_step_mse: 0.0091 - val_loss: 0.0197\n",
            "Epoch 13/20\n",
            "\u001b[1m219/219\u001b[0m \u001b[32m━━━━━━━━━━━━━━━━━━━━\u001b[0m\u001b[37m\u001b[0m \u001b[1m7s\u001b[0m 31ms/step - last_time_step_mse: 0.0093 - loss: 0.0194 - val_last_time_step_mse: 0.0098 - val_loss: 0.0200\n",
            "Epoch 14/20\n",
            "\u001b[1m219/219\u001b[0m \u001b[32m━━━━━━━━━━━━━━━━━━━━\u001b[0m\u001b[37m\u001b[0m \u001b[1m10s\u001b[0m 30ms/step - last_time_step_mse: 0.0090 - loss: 0.0194 - val_last_time_step_mse: 0.0090 - val_loss: 0.0193\n",
            "Epoch 15/20\n",
            "\u001b[1m219/219\u001b[0m \u001b[32m━━━━━━━━━━━━━━━━━━━━\u001b[0m\u001b[37m\u001b[0m \u001b[1m6s\u001b[0m 25ms/step - last_time_step_mse: 0.0089 - loss: 0.0190 - val_last_time_step_mse: 0.0089 - val_loss: 0.0191\n",
            "Epoch 16/20\n",
            "\u001b[1m219/219\u001b[0m \u001b[32m━━━━━━━━━━━━━━━━━━━━\u001b[0m\u001b[37m\u001b[0m \u001b[1m6s\u001b[0m 29ms/step - last_time_step_mse: 0.0089 - loss: 0.0189 - val_last_time_step_mse: 0.0089 - val_loss: 0.0189\n",
            "Epoch 17/20\n",
            "\u001b[1m219/219\u001b[0m \u001b[32m━━━━━━━━━━━━━━━━━━━━\u001b[0m\u001b[37m\u001b[0m \u001b[1m6s\u001b[0m 26ms/step - last_time_step_mse: 0.0085 - loss: 0.0186 - val_last_time_step_mse: 0.0086 - val_loss: 0.0186\n",
            "Epoch 18/20\n",
            "\u001b[1m219/219\u001b[0m \u001b[32m━━━━━━━━━━━━━━━━━━━━\u001b[0m\u001b[37m\u001b[0m \u001b[1m11s\u001b[0m 29ms/step - last_time_step_mse: 0.0083 - loss: 0.0184 - val_last_time_step_mse: 0.0081 - val_loss: 0.0182\n",
            "Epoch 19/20\n",
            "\u001b[1m219/219\u001b[0m \u001b[32m━━━━━━━━━━━━━━━━━━━━\u001b[0m\u001b[37m\u001b[0m \u001b[1m11s\u001b[0m 31ms/step - last_time_step_mse: 0.0079 - loss: 0.0180 - val_last_time_step_mse: 0.0079 - val_loss: 0.0178\n",
            "Epoch 20/20\n",
            "\u001b[1m219/219\u001b[0m \u001b[32m━━━━━━━━━━━━━━━━━━━━\u001b[0m\u001b[37m\u001b[0m \u001b[1m6s\u001b[0m 27ms/step - last_time_step_mse: 0.0077 - loss: 0.0177 - val_last_time_step_mse: 0.0076 - val_loss: 0.0175\n",
            "\u001b[1m32/32\u001b[0m \u001b[32m━━━━━━━━━━━━━━━━━━━━\u001b[0m\u001b[37m\u001b[0m \u001b[1m0s\u001b[0m 7ms/step - last_time_step_mse: 0.0072 - loss: 0.0173\n",
            "MSE pada set pengujian (Model Conv1D + GRU): [0.017243867740035057, 0.007266922853887081]\n"
          ]
        }
      ],
      "source": [
        "# Model dengan lapisan Conv1D diikuti oleh lapisan GRU\n",
        "model_conv1d_gru = keras.models.Sequential([\n",
        "    keras.layers.Conv1D(filters=20, kernel_size=4, strides=2, padding=\"valid\",\n",
        "                         input_shape=[None, 1]), # Downsample input by factor of 2\n",
        "    keras.layers.GRU(20, return_sequences=True),\n",
        "    keras.layers.GRU(20, return_sequences=True),\n",
        "    keras.layers.TimeDistributed(keras.layers.Dense(n_outputs))\n",
        "])\n",
        "\n",
        "# Target harus disesuaikan karena Conv1D mengurangi panjang urutan\n",
        "Y_train_cropped = Y_train_seq_to_seq[:, 3::2] # Kernel size 4, stride 2. First output is based on inputs 0 to 3. So crop 3 first time steps and downsample by 2\n",
        "Y_valid_cropped = Y_valid_seq_to_seq[:, 3::2]\n",
        "Y_test_cropped = Y_test_seq_to_seq[:, 3::2]\n",
        "\n",
        "model_conv1d_gru.compile(loss=\"mse\", optimizer=\"adam\", metrics=[last_time_step_mse])\n",
        "history_conv1d_gru = model_conv1d_gru.fit(X_train, Y_train_cropped, epochs=20,\n",
        "                                          validation_data=(X_valid, Y_valid_cropped))\n",
        "mse_test_conv1d_gru = model_conv1d_gru.evaluate(X_test, Y_test_cropped)\n",
        "print(f\"MSE pada set pengujian (Model Conv1D + GRU): {mse_test_conv1d_gru}\")\n"
      ]
    },
    {
      "cell_type": "markdown",
      "metadata": {
        "id": "6iiIlrvyVnKz"
      },
      "source": [
        "### Penjelasan Code dan Hasil\n",
        "1. **`keras.layers.Conv1D(...)`**:\n",
        "   - `filters=20`: Membuat 20 filter yang akan mendeteksi 20 pola berbeda.\n",
        "   - `kernel_size=4`: Setiap filter akan melihat jendela 4 langkah waktu.\n",
        "   - `strides=2`: Urutan output akan dipersingkat dua kali (panjangnya menjadi setengah dari input).\n",
        "   - `padding=\"valid\"`: Tidak ada padding tambahan.\n",
        "2. **Penyesuaian Target**: Karena `Conv1D` dengan `strides=2` dan `kernel_size=4` mengurangi panjang urutan, target `Y_train_cropped` dan `Y_valid_cropped` harus disesuaikan. `[:, 3::2]` berarti mengambil elemen mulai dari indeks 3 dengan langkah 2, yang sesuai dengan *downsampling* dan *offset* yang diterapkan oleh lapisan `Conv1D`.\n",
        "3. **Hasil**: Model ini menunjukkan kinerja terbaik sejauh ini (MSE pengujian kemungkinan lebih rendah dari model GRU/LSTM sebelumnya), menunjukkan bahwa lapisan konvolusi sangat membantu dalam memproses urutan, bahkan untuk deret waktu.\n",
        "\n",
        "### WaveNet\n",
        "**Teori**\n",
        "WaveNet adalah arsitektur yang diperkenalkan oleh Aaron van den Oord dari DeepMind pada tahun 2016, terutama untuk tugas audio mentah (seperti *text-to-speech*).\n",
        "\n",
        "**Konsep Kunci**:\n",
        "1. **Lapisan Konvolusi 1D yang Ditumpuk**: WaveNet menumpuk lapisan konvolusi 1D.\n",
        "2. **Tingkat Dilatasi (Dilation Rate) yang Berlipat Ganda**: Tingkat dilatasi digandakan di setiap lapisan (misalnya, 1, 2, 4, 8, ...).\n",
        "   - Ini memungkinkan lapisan yang lebih rendah untuk mempelajari pola jangka pendek, sementara lapisan yang lebih tinggi mempelajari pola jangka panjang.\n",
        "   - Berkat penggandaan tingkat dilatasi, jaringan dapat memproses urutan yang sangat panjang (puluhan ribu langkah waktu) dengan sangat efisien.\n",
        "3. **Padding \"causal\"**: Digunakan untuk memastikan lapisan konvolusi tidak 'mengintip' ke masa depan saat membuat prediksi. Ini penting untuk tugas-tugas generatif.\n",
        "\n",
        "**Implementasi Keras**: Kita dapat membuat model *Sequential* dengan lapisan `Conv1D` yang menggunakan `dilation_rate` yang terus meningkat dan `padding=\"causal\"`."
      ]
    },
    {
      "cell_type": "code",
      "execution_count": 18,
      "metadata": {
        "colab": {
          "base_uri": "https://localhost:8080/"
        },
        "id": "jL5DBr2AVnKz",
        "outputId": "960654dc-01c9-41ce-8e9e-0ff2a0d225e3"
      },
      "outputs": [
        {
          "output_type": "stream",
          "name": "stdout",
          "text": [
            "Epoch 1/20\n"
          ]
        },
        {
          "output_type": "stream",
          "name": "stderr",
          "text": [
            "/usr/local/lib/python3.11/dist-packages/keras/src/layers/core/input_layer.py:27: UserWarning: Argument `input_shape` is deprecated. Use `shape` instead.\n",
            "  warnings.warn(\n"
          ]
        },
        {
          "output_type": "stream",
          "name": "stdout",
          "text": [
            "\u001b[1m219/219\u001b[0m \u001b[32m━━━━━━━━━━━━━━━━━━━━\u001b[0m\u001b[37m\u001b[0m \u001b[1m5s\u001b[0m 13ms/step - last_time_step_mse: 0.0934 - loss: 0.0987 - val_last_time_step_mse: 0.0384 - val_loss: 0.0452\n",
            "Epoch 2/20\n",
            "\u001b[1m219/219\u001b[0m \u001b[32m━━━━━━━━━━━━━━━━━━━━\u001b[0m\u001b[37m\u001b[0m \u001b[1m2s\u001b[0m 8ms/step - last_time_step_mse: 0.0356 - loss: 0.0434 - val_last_time_step_mse: 0.0304 - val_loss: 0.0387\n",
            "Epoch 3/20\n",
            "\u001b[1m219/219\u001b[0m \u001b[32m━━━━━━━━━━━━━━━━━━━━\u001b[0m\u001b[37m\u001b[0m \u001b[1m3s\u001b[0m 8ms/step - last_time_step_mse: 0.0296 - loss: 0.0381 - val_last_time_step_mse: 0.0281 - val_loss: 0.0362\n",
            "Epoch 4/20\n",
            "\u001b[1m219/219\u001b[0m \u001b[32m━━━━━━━━━━━━━━━━━━━━\u001b[0m\u001b[37m\u001b[0m \u001b[1m2s\u001b[0m 8ms/step - last_time_step_mse: 0.0277 - loss: 0.0357 - val_last_time_step_mse: 0.0263 - val_loss: 0.0345\n",
            "Epoch 5/20\n",
            "\u001b[1m219/219\u001b[0m \u001b[32m━━━━━━━━━━━━━━━━━━━━\u001b[0m\u001b[37m\u001b[0m \u001b[1m3s\u001b[0m 8ms/step - last_time_step_mse: 0.0263 - loss: 0.0342 - val_last_time_step_mse: 0.0254 - val_loss: 0.0335\n",
            "Epoch 6/20\n",
            "\u001b[1m219/219\u001b[0m \u001b[32m━━━━━━━━━━━━━━━━━━━━\u001b[0m\u001b[37m\u001b[0m \u001b[1m2s\u001b[0m 9ms/step - last_time_step_mse: 0.0253 - loss: 0.0334 - val_last_time_step_mse: 0.0244 - val_loss: 0.0328\n",
            "Epoch 7/20\n",
            "\u001b[1m219/219\u001b[0m \u001b[32m━━━━━━━━━━━━━━━━━━━━\u001b[0m\u001b[37m\u001b[0m \u001b[1m2s\u001b[0m 8ms/step - last_time_step_mse: 0.0248 - loss: 0.0324 - val_last_time_step_mse: 0.0245 - val_loss: 0.0324\n",
            "Epoch 8/20\n",
            "\u001b[1m219/219\u001b[0m \u001b[32m━━━━━━━━━━━━━━━━━━━━\u001b[0m\u001b[37m\u001b[0m \u001b[1m2s\u001b[0m 8ms/step - last_time_step_mse: 0.0243 - loss: 0.0321 - val_last_time_step_mse: 0.0234 - val_loss: 0.0316\n",
            "Epoch 9/20\n",
            "\u001b[1m219/219\u001b[0m \u001b[32m━━━━━━━━━━━━━━━━━━━━\u001b[0m\u001b[37m\u001b[0m \u001b[1m2s\u001b[0m 7ms/step - last_time_step_mse: 0.0232 - loss: 0.0313 - val_last_time_step_mse: 0.0238 - val_loss: 0.0317\n",
            "Epoch 10/20\n",
            "\u001b[1m219/219\u001b[0m \u001b[32m━━━━━━━━━━━━━━━━━━━━\u001b[0m\u001b[37m\u001b[0m \u001b[1m3s\u001b[0m 8ms/step - last_time_step_mse: 0.0236 - loss: 0.0312 - val_last_time_step_mse: 0.0226 - val_loss: 0.0308\n",
            "Epoch 11/20\n",
            "\u001b[1m219/219\u001b[0m \u001b[32m━━━━━━━━━━━━━━━━━━━━\u001b[0m\u001b[37m\u001b[0m \u001b[1m3s\u001b[0m 9ms/step - last_time_step_mse: 0.0230 - loss: 0.0308 - val_last_time_step_mse: 0.0222 - val_loss: 0.0305\n",
            "Epoch 12/20\n",
            "\u001b[1m219/219\u001b[0m \u001b[32m━━━━━━━━━━━━━━━━━━━━\u001b[0m\u001b[37m\u001b[0m \u001b[1m2s\u001b[0m 11ms/step - last_time_step_mse: 0.0227 - loss: 0.0307 - val_last_time_step_mse: 0.0225 - val_loss: 0.0306\n",
            "Epoch 13/20\n",
            "\u001b[1m219/219\u001b[0m \u001b[32m━━━━━━━━━━━━━━━━━━━━\u001b[0m\u001b[37m\u001b[0m \u001b[1m2s\u001b[0m 7ms/step - last_time_step_mse: 0.0225 - loss: 0.0304 - val_last_time_step_mse: 0.0221 - val_loss: 0.0301\n",
            "Epoch 14/20\n",
            "\u001b[1m219/219\u001b[0m \u001b[32m━━━━━━━━━━━━━━━━━━━━\u001b[0m\u001b[37m\u001b[0m \u001b[1m3s\u001b[0m 8ms/step - last_time_step_mse: 0.0219 - loss: 0.0300 - val_last_time_step_mse: 0.0218 - val_loss: 0.0300\n",
            "Epoch 15/20\n",
            "\u001b[1m219/219\u001b[0m \u001b[32m━━━━━━━━━━━━━━━━━━━━\u001b[0m\u001b[37m\u001b[0m \u001b[1m2s\u001b[0m 8ms/step - last_time_step_mse: 0.0217 - loss: 0.0299 - val_last_time_step_mse: 0.0218 - val_loss: 0.0297\n",
            "Epoch 16/20\n",
            "\u001b[1m219/219\u001b[0m \u001b[32m━━━━━━━━━━━━━━━━━━━━\u001b[0m\u001b[37m\u001b[0m \u001b[1m2s\u001b[0m 8ms/step - last_time_step_mse: 0.0218 - loss: 0.0294 - val_last_time_step_mse: 0.0213 - val_loss: 0.0295\n",
            "Epoch 17/20\n",
            "\u001b[1m219/219\u001b[0m \u001b[32m━━━━━━━━━━━━━━━━━━━━\u001b[0m\u001b[37m\u001b[0m \u001b[1m3s\u001b[0m 10ms/step - last_time_step_mse: 0.0215 - loss: 0.0294 - val_last_time_step_mse: 0.0210 - val_loss: 0.0293\n",
            "Epoch 18/20\n",
            "\u001b[1m219/219\u001b[0m \u001b[32m━━━━━━━━━━━━━━━━━━━━\u001b[0m\u001b[37m\u001b[0m \u001b[1m2s\u001b[0m 8ms/step - last_time_step_mse: 0.0216 - loss: 0.0294 - val_last_time_step_mse: 0.0210 - val_loss: 0.0291\n",
            "Epoch 19/20\n",
            "\u001b[1m219/219\u001b[0m \u001b[32m━━━━━━━━━━━━━━━━━━━━\u001b[0m\u001b[37m\u001b[0m \u001b[1m2s\u001b[0m 7ms/step - last_time_step_mse: 0.0209 - loss: 0.0292 - val_last_time_step_mse: 0.0215 - val_loss: 0.0296\n",
            "Epoch 20/20\n",
            "\u001b[1m219/219\u001b[0m \u001b[32m━━━━━━━━━━━━━━━━━━━━\u001b[0m\u001b[37m\u001b[0m \u001b[1m2s\u001b[0m 8ms/step - last_time_step_mse: 0.0209 - loss: 0.0290 - val_last_time_step_mse: 0.0207 - val_loss: 0.0289\n",
            "\u001b[1m32/32\u001b[0m \u001b[32m━━━━━━━━━━━━━━━━━━━━\u001b[0m\u001b[37m\u001b[0m \u001b[1m0s\u001b[0m 4ms/step - last_time_step_mse: 0.0204 - loss: 0.0287\n",
            "MSE pada set pengujian (Model WaveNet): [0.02863275818526745, 0.0206623375415802]\n"
          ]
        }
      ],
      "source": [
        "# Membuat model WaveNet sederhana\n",
        "model_wavenet = keras.models.Sequential([\n",
        "    keras.layers.InputLayer(input_shape=[None, 1]),\n",
        "    keras.layers.Conv1D(filters=20, kernel_size=2, padding=\"causal\",\n",
        "                         activation=\"relu\", dilation_rate=1),\n",
        "    keras.layers.Conv1D(filters=20, kernel_size=2, padding=\"causal\",\n",
        "                         activation=\"relu\", dilation_rate=2),\n",
        "    keras.layers.Conv1D(filters=20, kernel_size=2, padding=\"causal\",\n",
        "                         activation=\"relu\", dilation_rate=4),\n",
        "    keras.layers.Conv1D(filters=20, kernel_size=2, padding=\"causal\",\n",
        "                         activation=\"relu\", dilation_rate=8),\n",
        "    keras.layers.Conv1D(filters=10, kernel_size=1) # Lapisan output, tidak ada aktivasi\n",
        "])\n",
        "\n",
        "# Target tidak perlu di-crop atau downsample karena \"causal\" padding\n",
        "model_wavenet.compile(loss=\"mse\", optimizer=\"adam\", metrics=[last_time_step_mse])\n",
        "history_wavenet = model_wavenet.fit(X_train, Y_train_seq_to_seq, epochs=20,\n",
        "                                   validation_data=(X_valid, Y_valid_seq_to_seq))\n",
        "mse_test_wavenet = model_wavenet.evaluate(X_test, Y_test_seq_to_seq)\n",
        "print(f\"MSE pada set pengujian (Model WaveNet): {mse_test_wavenet}\")\n"
      ]
    },
    {
      "cell_type": "markdown",
      "metadata": {
        "id": "tlwrZWPIVnK0"
      },
      "source": [
        "### Penjelasan Code dan Hasil\n",
        "1. **`keras.layers.InputLayer(input_shape=[None, 1])`**: Mendefinisikan bentuk input.\n",
        "2. **`keras.layers.Conv1D(...)` dengan `dilation_rate`**:\n",
        "   - Lapisan konvolusi 1D ditumpuk dengan `dilation_rate` yang meningkat secara eksponensial (1, 2, 4, 8). Ini memungkinkan filter untuk memiliki *receptive field* yang semakin besar tanpa meningkatkan jumlah parameter secara signifikan.\n",
        "   - `padding=\"causal\"`: Memastikan bahwa output pada langkah waktu $t$ hanya bergantung pada input pada langkah waktu $t$ dan yang sebelumnya, tidak pada input di masa depan. Ini penting untuk tugas-tugas seperti peramalan atau generasi urutan.\n",
        "   - `kernel_size=2`: Ukuran filter yang sangat kecil, tetapi efeknya diperbesar oleh dilatasi.\n",
        "3. **`keras.layers.Conv1D(filters=10, kernel_size=1)`**: Lapisan output adalah lapisan `Conv1D` dengan `kernel_size=1`, yang secara efektif berfungsi seperti lapisan *Dense* yang diterapkan secara *TimeDistributed* (satu prediksi per langkah waktu).\n",
        "4. **Hasil**: Model WaveNet biasanya akan memberikan kinerja yang sangat baik, seringkali lebih baik dari model-model berbasis RNN sebelumnya, terutama pada urutan yang lebih panjang.\n",
        "\n",
        "### Kesimpulan\n",
        "Bab ini memberikan pemahaman mendalam tentang bagaimana RNNs dan CNNs 1D dapat digunakan untuk memproses data sekuensial. Kita telah menjelajahi:\n",
        "- **Neuron dan Lapisan Berulang**: Konsep dasar RNNs dan cara mereka mempertahankan memori.\n",
        "- **Arsitektur Input/Output**: Berbagai jenis RNN (urutan-ke-urutan, urutan-ke-vektor, dll.) dan aplikasinya.\n",
        "- **Pelatihan RNNs**: Penggunaan *backpropagation through time* (BPTT).\n",
        "- **Peramalan Deret Waktu**: Mengimplementasikan dan mengevaluasi RNNs untuk tugas peramalan.\n",
        "- **Penanganan Urutan Panjang**: Mengatasi masalah gradien tidak stabil dengan *Layer Normalization* dan masalah memori jangka pendek dengan sel LSTM dan GRU.\n",
        "- **Peran CNNs 1D**: Bagaimana lapisan konvolusi 1D dapat digunakan untuk memproses urutan dan arsitektur WaveNet yang kuat.\n",
        "\n",
        "Dengan alat-alat ini, Anda siap untuk mengatasi berbagai tugas pemrosesan urutan, mulai dari peramalan hingga pemrosesan bahasa alami (yang akan kita bahas lebih lanjut di Bab 16).\n"
      ]
    }
  ],
  "metadata": {
    "kernelspec": {
      "display_name": "Python3",
      "language": "python3",
      "name": "python3"
    },
    "language_info": {
      "codemirror_mode": {
        "name": "ipython",
        "version": 3
      },
      "file_extension": ".py",
      "mimetype": "text/x-python",
      "name": "python",
      "nbconvert_exporter": "python",
      "pygments_lexer": "ipython3",
      "version": "3.9.18"
    },
    "colab": {
      "provenance": []
    }
  },
  "nbformat": 4,
  "nbformat_minor": 0
}