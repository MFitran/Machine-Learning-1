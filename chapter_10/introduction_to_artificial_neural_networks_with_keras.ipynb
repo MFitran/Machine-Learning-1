{
  "cells": [
    {
      "cell_type": "markdown",
      "metadata": {
        "id": "tBA3fv7SeGCQ"
      },
      "source": [
        "# Bab 10: Pengantar Jaringan Neural Buatan dengan Keras\n",
        "\n",
        "Selamat datang di Bab 10 dari \"Hands-On Machine Learning with Scikit-Learn, Keras, and TensorFlow\"! Pada bab ini, kita akan menyelami dunia Jaringan Neural Buatan (Artificial Neural Networks/ANNs), inti dari Deep Learning. Kita akan memahami bagaimana ANN terinspirasi dari neuron biologis, menjelajahi arsitektur awal, dan mempelajari Multilayer Perceptrons (MLPs) yang banyak digunakan saat ini. Kemudian, kita akan mengimplementasikan jaringan neural menggunakan API Keras yang populer dan mudah digunakan."
      ]
    },
    {
      "cell_type": "markdown",
      "metadata": {
        "id": "0hUDl-yweGCh"
      },
      "source": [
        "## 1. Dari Neuron Biologis ke Neuron Buatan\n",
        "\n",
        "Jaringan Neural Buatan (ANN) adalah model Machine Learning yang terinspirasi oleh jaringan neuron biologis di otak kita. Meskipun terinspirasi dari biologi, ANN telah berkembang jauh dan tidak selalu meniru persis cara kerja otak biologis."
      ]
    },
    {
      "cell_type": "markdown",
      "metadata": {
        "id": "zaTBEcKpeGCq"
      },
      "source": [
        "### 1.1. Neuron Biologis\n",
        "\n",
        "Neuron biologis adalah sel-sel unik yang ditemukan di otak hewan.\n",
        "* **Struktur:** Terdiri dari badan sel (soma) yang berisi nukleus, banyak ekstensi bercabang yang disebut dendrit, dan satu ekstensi yang sangat panjang yang disebut akson. Akson bercabang menjadi telodendria, dengan ujung-ujungnya memiliki struktur kecil yang disebut terminal sinaptik (atau sinapsis) yang terhubung ke dendrit atau badan sel neuron lain.\n",
        "* **Fungsi:** Neuron biologis menghasilkan impuls listrik pendek yang disebut potensial aksi (sinyal) yang bergerak di sepanjang akson dan membuat sinapsis melepaskan sinyal kimia yang disebut neurotransmiter. Jika neuron menerima cukup neurotransmiter dalam beberapa milidetik, ia akan \"menembakkan\" impuls listriknya sendiri.\n",
        "\n",
        "Meskipun neuron individual tampak sederhana, mereka terorganisir dalam jaringan luas miliaran neuron, dengan setiap neuron terhubung ke ribuan neuron lainnya. Komputasi yang sangat kompleks dapat dilakukan oleh jaringan neuron yang relatif sederhana ini."
      ]
    },
    {
      "cell_type": "markdown",
      "metadata": {
        "id": "GOGVWkNteGCu"
      },
      "source": [
        "### 1.2. Komputasi Logis dengan Neuron\n",
        "\n",
        "Warren McCulloch dan Walter Pitts pada tahun 1943 mengusulkan model neuron biologis yang sangat sederhana, yang kemudian dikenal sebagai *neuron buatan*. Neuron buatan ini memiliki satu atau lebih input biner (on/off) dan satu output biner. Neuron buatan mengaktifkan outputnya ketika lebih dari sejumlah tertentu inputnya aktif.\n",
        "\n",
        "Model sederhana ini menunjukkan bahwa dimungkinkan untuk membangun jaringan neuron buatan yang dapat melakukan operasi logika apa pun.\n",
        "\n",
        "**Contoh Jaringan Neural Buatan untuk Komputasi Logis:**\n",
        "Misalkan sebuah neuron diaktifkan jika setidaknya dua inputnya aktif.\n",
        "\n",
        "* **Fungsi Identitas:** Jika neuron A aktif, neuron C juga aktif (menerima dua sinyal input dari A). Jika neuron A nonaktif, C juga nonaktif.\n",
        "* **Logika AND:** Neuron C hanya aktif ketika kedua neuron A dan B aktif (satu sinyal input tidak cukup).\n",
        "* **Logika OR:** Neuron C aktif jika neuron A atau B aktif (atau keduanya).\n",
        "* **Logika NOT:** Jika koneksi input dapat menghambat aktivitas neuron, neuron C aktif hanya jika neuron A aktif dan neuron B nonaktif. Jika neuron A selalu aktif, C aktif ketika B nonaktif, dan sebaliknya.\n"
      ]
    },
    {
      "cell_type": "markdown",
      "metadata": {
        "id": "SQn72r4LeGCw"
      },
      "source": [
        "### 1.3. Perceptron\n",
        "\n",
        "Perceptron adalah salah satu arsitektur ANN paling sederhana, ditemukan pada tahun 1957 oleh Frank Rosenblatt. Ini didasarkan pada neuron buatan yang sedikit berbeda yang disebut *threshold logic unit* (TLU), atau kadang-kadang *linear threshold unit* (LTU).\n",
        "\n",
        "* **Cara Kerja TLU:**\n",
        "    * Input dan output adalah angka (bukan nilai biner on/off).\n",
        "    * Setiap koneksi input memiliki bobot yang terkait dengannya.\n",
        "    * TLU menghitung jumlah bobot dari inputnya ($z = w_1x_1 + w_2x_2 + \\dots + w_nx_n = \\mathbf{x}^\\mathsf{T}\\mathbf{w}$).\n",
        "    * Kemudian menerapkan fungsi langkah ke jumlah tersebut dan menghasilkan outputnya: $h_\\mathbf{w}(\\mathbf{x}) = \\text{step}(z)$.\n",
        "\n",
        "* **Fungsi Langkah Umum:** Fungsi langkah Heaviside adalah yang paling umum digunakan (Lihat Persamaan 10-1 pada halaman 315 buku).\n",
        "* **Klasifikasi Biner:** Satu TLU dapat digunakan untuk klasifikasi biner linear sederhana.\n",
        "* **Arsitektur Perceptron:** Perceptron terdiri dari satu lapisan TLU, di mana setiap TLU terhubung ke semua input. Lapisan ini disebut *fully connected layer* atau *dense layer*. Input diberikan ke *input neurons* (neuron passthrough), dan biasanya ada *bias neuron* tambahan yang selalu menghasilkan 1.\n",
        "\n",
        "**Komputasi Output Lapisan Tersambung Penuh:**\n",
        "Output dari satu lapisan neuron buatan untuk beberapa instance sekaligus dapat dihitung secara efisien menggunakan bentuk vektor (Lihat Persamaan 10-2 pada halaman 316 buku).\n",
        "\n",
        "$\\mathbf{h}_{\\mathbf{W},b}(\\mathbf{X}) = \\phi(\\mathbf{XW} + b)$\n",
        "\n",
        "* $\\mathbf{X}$: matriks fitur input (satu baris per instance, satu kolom per fitur).\n",
        "* $\\mathbf{W}$: matriks bobot (satu baris per neuron input, satu kolom per neuron buatan di lapisan).\n",
        "* $b$: vektor bias (satu bias per neuron buatan).\n",
        "* $\\phi$: fungsi aktivasi (fungsi langkah untuk TLU).\n",
        "\n",
        "**Algoritma Pelatihan Perceptron:**\n",
        "Algoritma ini diusulkan oleh Rosenblatt, terinspirasi oleh aturan Hebb (Hebb's rule) yang menyatakan bahwa koneksi antar neuron menguat jika mereka sering aktif bersamaan. Perceptron dilatih dengan memberi satu instance pelatihan pada satu waktu, membuat prediksi, dan memperkuat bobot koneksi dari input yang akan berkontribusi pada prediksi yang benar (Lihat Persamaan 10-3 pada halaman 317 buku).\n",
        "\n",
        "$w_{i,j}^{\\text{next step}} = w_{i,j} + \\eta (\\hat{y}_j - y_j)x_i$\n",
        "\n",
        "* $w_{i,j}$: bobot koneksi antara neuron input $i$ dan neuron output $j$.\n",
        "* $x_i$: nilai input $i$ dari instance pelatihan saat ini.\n",
        "* $\\hat{y}_j$: output neuron output $j$ untuk instance pelatihan saat ini.\n",
        "* $y_j$: target output neuron output $j$ untuk instance pelatihan saat ini.\n",
        "* $\\eta$: tingkat pembelajaran.\n",
        "\n",
        "**Keterbatasan Perceptron:**\n",
        "Batas keputusan setiap neuron output bersifat linear, sehingga Perceptron tidak mampu mempelajari pola kompleks (mirip dengan klasifikasi Regresi Logistik). Namun, jika instance pelatihan dapat dipisahkan secara linear, algoritma ini akan konvergen ke suatu solusi (Perceptron convergence theorem).\n",
        "\n",
        "**Implementasi Perceptron dengan Scikit-Learn:**\n"
      ]
    },
    {
      "cell_type": "code",
      "execution_count": 2,
      "metadata": {
        "colab": {
          "base_uri": "https://localhost:8080/"
        },
        "id": "I0wb1PkseGCy",
        "outputId": "c1d0ef1e-0b6c-419c-ba88-ca7c56990239"
      },
      "outputs": [
        {
          "output_type": "stream",
          "name": "stdout",
          "text": [
            "[0]\n"
          ]
        }
      ],
      "source": [
        "import numpy as np\n",
        "from sklearn.datasets import load_iris\n",
        "from sklearn.linear_model import Perceptron\n",
        "\n",
        "iris = load_iris()\n",
        "X = iris.data[:, (2, 3)]  # petal length, petal width\n",
        "y = (iris.target == 0).astype(int)  # Iris setosa?\n",
        "\n",
        "per_clf = Perceptron()\n",
        "per_clf.fit(X, y)\n",
        "\n",
        "y_pred = per_clf.predict([[2, 0.5]])\n",
        "print(y_pred)"
      ]
    },
    {
      "cell_type": "markdown",
      "metadata": {
        "id": "qAYga64OeGC5"
      },
      "source": [
        "Perceptron Scikit-Learn setara dengan `SGDClassifier` dengan `loss=\"perceptron\"`, `learning_rate=\"constant\"`, `eta0=1` (tingkat pembelajaran), dan `penalty=None` (tanpa regularisasi). Perceptron tidak mengeluarkan probabilitas kelas, melainkan membuat prediksi berdasarkan ambang batas keras."
      ]
    },
    {
      "cell_type": "markdown",
      "metadata": {
        "id": "JtlujXBaeGC9"
      },
      "source": [
        "## 2. Multilayer Perceptron (MLP) dan Backpropagation\n",
        "\n",
        "Keterbatasan Perceptron dapat diatasi dengan menumpuk beberapa Perceptron. Jaringan neural buatan yang dihasilkan disebut *Multilayer Perceptron* (MLP)."
      ]
    },
    {
      "cell_type": "markdown",
      "metadata": {
        "id": "wpqyMfUKeGDB"
      },
      "source": [
        "* **Arsitektur MLP:** Terdiri dari:\n",
        "    * Satu lapisan input (passthrough).\n",
        "    * Satu atau lebih lapisan TLU, disebut *hidden layers* (lapisan tersembunyi).\n",
        "    * Satu lapisan TLU terakhir yang disebut *output layer* (lapisan output).\n",
        "    * Lapisan yang dekat dengan input disebut *lower layers*, dan yang dekat dengan output disebut *upper layers*.\n",
        "    * Setiap lapisan kecuali lapisan output menyertakan neuron bias dan terhubung penuh ke lapisan berikutnya.\n",
        "\n",
        "* **Jaringan Neural Feedforward (FNN):** Sinyal hanya mengalir dalam satu arah (dari input ke output).\n",
        "* **Deep Neural Network (DNN):** ANN yang memiliki tumpukan lapisan tersembunyi yang dalam. Studi DNN disebut *Deep Learning*.\n",
        "\n",
        "**Algoritma Backpropagation:**\n",
        "Pada tahun 1986, David Rumelhart, Geoffrey Hinton, dan Ronald Williams menerbitkan makalah yang memperkenalkan algoritma *backpropagation* untuk melatih MLP, yang masih digunakan hingga saat ini. Ini adalah Gradient Descent yang menggunakan teknik efisien untuk menghitung gradien secara otomatis (*automatic differentiation* atau *autodiff*).\n",
        "\n",
        "**Langkah-langkah Backpropagation:**\n",
        "1.  Menangani satu *mini-batch* pada satu waktu, melewati set pelatihan penuh beberapa kali (setiap pass disebut *epoch*).\n",
        "2.  Setiap mini-batch dilewatkan ke lapisan input, kemudian ke lapisan tersembunyi pertama, dan seterusnya hingga mencapai lapisan output (ini disebut *forward pass*). Semua hasil perantara disimpan untuk *backward pass* karena dibutuhkan untuk pass mundur.\n",
        "3.  Algoritma mengukur error output jaringan (menggunakan fungsi loss).\n",
        "4.  Menghitung seberapa besar setiap koneksi output berkontribusi pada error (menggunakan *chain rule*).\n",
        "5.  Mengukur seberapa besar kontribusi error ini berasal dari setiap koneksi di lapisan bawah, bekerja mundur hingga mencapai lapisan input.\n",
        "6.  Melakukan langkah Gradient Descent untuk menyesuaikan semua bobot koneksi dalam jaringan, menggunakan gradien error yang baru dihitung.\n",
        "\n",
        "**Penting:** Bobot koneksi lapisan tersembunyi harus diinisialisasi secara acak untuk memecah simetri, jika tidak, pelatihan akan gagal.\n",
        "\n",
        "**Fungsi Aktivasi:**\n",
        "Agar algoritma backpropagation berfungsi dengan baik, fungsi langkah diganti dengan fungsi logistik (sigmoid) $\\sigma(z) = 1 / (1 + \\text{exp}(-z))$. Fungsi langkah memiliki segmen datar tanpa gradien, sedangkan fungsi logistik memiliki turunan nonzero yang terdefinisi dengan baik di mana-mana.\n",
        "\n",
        "Fungsi aktivasi populer lainnya:\n",
        "* **Fungsi Tangen Hiperbolik (tanh):** $\\text{tanh}(z) = 2\\sigma(2z) - 1$. Berbentuk S, kontinu, dan dapat diturunkan. Output berkisar dari -1 hingga 1.\n",
        "* **Fungsi Rectified Linear Unit (ReLU):** $\\text{ReLU}(z) = \\text{max}(0, z)$. Kontinu tetapi tidak dapat diturunkan pada $z=0$. Cepat dihitung dan telah menjadi default.\n",
        "\n",
        "Fungsi aktivasi diperlukan untuk memperkenalkan non-linearitas antar lapisan. Jika hanya ada transformasi linear, tumpukan lapisan yang dalam setara dengan satu lapisan, membatasi kemampuan untuk memecahkan masalah kompleks.\n"
      ]
    },
    {
      "cell_type": "markdown",
      "metadata": {
        "id": "RtagKEI8eGDD"
      },
      "source": [
        "### 2.1. MLP untuk Regresi\n",
        "\n",
        "MLP dapat digunakan untuk tugas regresi.\n",
        "* **Output Neuron:** Satu neuron output untuk memprediksi satu nilai (misalnya, harga rumah). Untuk regresi multivariat, satu neuron output per dimensi output.\n",
        "* **Fungsi Aktivasi Output:** Umumnya tidak menggunakan fungsi aktivasi untuk neuron output agar dapat menghasilkan nilai dalam rentang apa pun. Jika perlu output positif, gunakan ReLU atau softplus. Jika output dalam rentang tertentu, gunakan fungsi logistik atau tangen hiperbolik lalu skalakan label ke rentang yang sesuai.\n",
        "* **Fungsi Loss:** Biasanya *mean squared error* (MSE). Jika banyak outlier, *mean absolute error* (MAE) atau *Huber loss* dapat digunakan.\n",
        "\n",
        "**Arsitektur MLP Regresi Umum:** (Lihat Tabel 10-1 pada halaman 323 buku)."
      ]
    },
    {
      "cell_type": "markdown",
      "metadata": {
        "id": "m1NxzrW2eGDE"
      },
      "source": [
        "### 2.2. MLP untuk Klasifikasi\n",
        "\n",
        "MLP juga digunakan untuk tugas klasifikasi.\n",
        "* **Klasifikasi Biner:** Satu neuron output dengan fungsi aktivasi logistik. Outputnya adalah probabilitas kelas positif (antara 0 dan 1).\n",
        "* **Klasifikasi Biner Multilabel:** Satu neuron output per label biner positif, masing-masing dengan fungsi aktivasi logistik.\n",
        "* **Klasifikasi Multiclass:** Satu neuron output per kelas (tiga atau lebih kelas eksklusif), menggunakan fungsi aktivasi softmax untuk seluruh lapisan output. Output probabilitas akan berjumlah 1.\n",
        "* **Fungsi Loss:** Umumnya *cross-entropy loss* (juga disebut *log loss*).\n",
        "\n",
        "**Arsitektur MLP Klasifikasi Umum:** (Lihat Tabel 10-2 pada halaman 325 buku)."
      ]
    },
    {
      "cell_type": "markdown",
      "metadata": {
        "id": "D6L8j3u_eGDG"
      },
      "source": [
        "## 3. Mengimplementasikan MLP dengan Keras\n",
        "\n",
        "Keras adalah API Deep Learning tingkat tinggi yang memungkinkan Anda membangun, melatih, mengevaluasi, dan menjalankan semua jenis jaringan neural dengan mudah."
      ]
    },
    {
      "cell_type": "markdown",
      "metadata": {
        "id": "Wf1AEt5deGDI"
      },
      "source": [
        "### 3.1. Menginstal TensorFlow 2\n",
        "\n",
        "Pastikan Anda telah menginstal TensorFlow 2.\n"
      ]
    },
    {
      "cell_type": "code",
      "execution_count": 3,
      "metadata": {
        "colab": {
          "base_uri": "https://localhost:8080/"
        },
        "id": "WeuPX1jreGDK",
        "outputId": "bc78ebf9-464b-44cd-f70d-257bfdb9cfa0"
      },
      "outputs": [
        {
          "output_type": "stream",
          "name": "stdout",
          "text": [
            "Requirement already satisfied: tensorflow in /usr/local/lib/python3.11/dist-packages (2.18.0)\n",
            "Collecting tensorflow\n",
            "  Downloading tensorflow-2.19.0-cp311-cp311-manylinux_2_17_x86_64.manylinux2014_x86_64.whl.metadata (4.1 kB)\n",
            "Requirement already satisfied: absl-py>=1.0.0 in /usr/local/lib/python3.11/dist-packages (from tensorflow) (1.4.0)\n",
            "Requirement already satisfied: astunparse>=1.6.0 in /usr/local/lib/python3.11/dist-packages (from tensorflow) (1.6.3)\n",
            "Requirement already satisfied: flatbuffers>=24.3.25 in /usr/local/lib/python3.11/dist-packages (from tensorflow) (25.2.10)\n",
            "Requirement already satisfied: gast!=0.5.0,!=0.5.1,!=0.5.2,>=0.2.1 in /usr/local/lib/python3.11/dist-packages (from tensorflow) (0.6.0)\n",
            "Requirement already satisfied: google-pasta>=0.1.1 in /usr/local/lib/python3.11/dist-packages (from tensorflow) (0.2.0)\n",
            "Requirement already satisfied: libclang>=13.0.0 in /usr/local/lib/python3.11/dist-packages (from tensorflow) (18.1.1)\n",
            "Requirement already satisfied: opt-einsum>=2.3.2 in /usr/local/lib/python3.11/dist-packages (from tensorflow) (3.4.0)\n",
            "Requirement already satisfied: packaging in /usr/local/lib/python3.11/dist-packages (from tensorflow) (24.2)\n",
            "Requirement already satisfied: protobuf!=4.21.0,!=4.21.1,!=4.21.2,!=4.21.3,!=4.21.4,!=4.21.5,<6.0.0dev,>=3.20.3 in /usr/local/lib/python3.11/dist-packages (from tensorflow) (5.29.5)\n",
            "Requirement already satisfied: requests<3,>=2.21.0 in /usr/local/lib/python3.11/dist-packages (from tensorflow) (2.32.3)\n",
            "Requirement already satisfied: setuptools in /usr/local/lib/python3.11/dist-packages (from tensorflow) (75.2.0)\n",
            "Requirement already satisfied: six>=1.12.0 in /usr/local/lib/python3.11/dist-packages (from tensorflow) (1.17.0)\n",
            "Requirement already satisfied: termcolor>=1.1.0 in /usr/local/lib/python3.11/dist-packages (from tensorflow) (3.1.0)\n",
            "Requirement already satisfied: typing-extensions>=3.6.6 in /usr/local/lib/python3.11/dist-packages (from tensorflow) (4.14.0)\n",
            "Requirement already satisfied: wrapt>=1.11.0 in /usr/local/lib/python3.11/dist-packages (from tensorflow) (1.17.2)\n",
            "Requirement already satisfied: grpcio<2.0,>=1.24.3 in /usr/local/lib/python3.11/dist-packages (from tensorflow) (1.73.0)\n",
            "Collecting tensorboard~=2.19.0 (from tensorflow)\n",
            "  Downloading tensorboard-2.19.0-py3-none-any.whl.metadata (1.8 kB)\n",
            "Requirement already satisfied: keras>=3.5.0 in /usr/local/lib/python3.11/dist-packages (from tensorflow) (3.8.0)\n",
            "Requirement already satisfied: numpy<2.2.0,>=1.26.0 in /usr/local/lib/python3.11/dist-packages (from tensorflow) (2.0.2)\n",
            "Requirement already satisfied: h5py>=3.11.0 in /usr/local/lib/python3.11/dist-packages (from tensorflow) (3.14.0)\n",
            "Collecting ml-dtypes<1.0.0,>=0.5.1 (from tensorflow)\n",
            "  Downloading ml_dtypes-0.5.1-cp311-cp311-manylinux_2_17_x86_64.manylinux2014_x86_64.whl.metadata (21 kB)\n",
            "Requirement already satisfied: tensorflow-io-gcs-filesystem>=0.23.1 in /usr/local/lib/python3.11/dist-packages (from tensorflow) (0.37.1)\n",
            "Requirement already satisfied: wheel<1.0,>=0.23.0 in /usr/local/lib/python3.11/dist-packages (from astunparse>=1.6.0->tensorflow) (0.45.1)\n",
            "Requirement already satisfied: rich in /usr/local/lib/python3.11/dist-packages (from keras>=3.5.0->tensorflow) (13.9.4)\n",
            "Requirement already satisfied: namex in /usr/local/lib/python3.11/dist-packages (from keras>=3.5.0->tensorflow) (0.1.0)\n",
            "Requirement already satisfied: optree in /usr/local/lib/python3.11/dist-packages (from keras>=3.5.0->tensorflow) (0.16.0)\n",
            "Requirement already satisfied: charset-normalizer<4,>=2 in /usr/local/lib/python3.11/dist-packages (from requests<3,>=2.21.0->tensorflow) (3.4.2)\n",
            "Requirement already satisfied: idna<4,>=2.5 in /usr/local/lib/python3.11/dist-packages (from requests<3,>=2.21.0->tensorflow) (3.10)\n",
            "Requirement already satisfied: urllib3<3,>=1.21.1 in /usr/local/lib/python3.11/dist-packages (from requests<3,>=2.21.0->tensorflow) (2.4.0)\n",
            "Requirement already satisfied: certifi>=2017.4.17 in /usr/local/lib/python3.11/dist-packages (from requests<3,>=2.21.0->tensorflow) (2025.6.15)\n",
            "Requirement already satisfied: markdown>=2.6.8 in /usr/local/lib/python3.11/dist-packages (from tensorboard~=2.19.0->tensorflow) (3.8)\n",
            "Requirement already satisfied: tensorboard-data-server<0.8.0,>=0.7.0 in /usr/local/lib/python3.11/dist-packages (from tensorboard~=2.19.0->tensorflow) (0.7.2)\n",
            "Requirement already satisfied: werkzeug>=1.0.1 in /usr/local/lib/python3.11/dist-packages (from tensorboard~=2.19.0->tensorflow) (3.1.3)\n",
            "Requirement already satisfied: MarkupSafe>=2.1.1 in /usr/local/lib/python3.11/dist-packages (from werkzeug>=1.0.1->tensorboard~=2.19.0->tensorflow) (3.0.2)\n",
            "Requirement already satisfied: markdown-it-py>=2.2.0 in /usr/local/lib/python3.11/dist-packages (from rich->keras>=3.5.0->tensorflow) (3.0.0)\n",
            "Requirement already satisfied: pygments<3.0.0,>=2.13.0 in /usr/local/lib/python3.11/dist-packages (from rich->keras>=3.5.0->tensorflow) (2.19.1)\n",
            "Requirement already satisfied: mdurl~=0.1 in /usr/local/lib/python3.11/dist-packages (from markdown-it-py>=2.2.0->rich->keras>=3.5.0->tensorflow) (0.1.2)\n",
            "Downloading tensorflow-2.19.0-cp311-cp311-manylinux_2_17_x86_64.manylinux2014_x86_64.whl (644.9 MB)\n",
            "\u001b[2K   \u001b[90m━━━━━━━━━━━━━━━━━━━━━━━━━━━━━━━━━━━━━━━━\u001b[0m \u001b[32m644.9/644.9 MB\u001b[0m \u001b[31m3.4 MB/s\u001b[0m eta \u001b[36m0:00:00\u001b[0m\n",
            "\u001b[?25hDownloading ml_dtypes-0.5.1-cp311-cp311-manylinux_2_17_x86_64.manylinux2014_x86_64.whl (4.7 MB)\n",
            "\u001b[2K   \u001b[90m━━━━━━━━━━━━━━━━━━━━━━━━━━━━━━━━━━━━━━━━\u001b[0m \u001b[32m4.7/4.7 MB\u001b[0m \u001b[31m64.5 MB/s\u001b[0m eta \u001b[36m0:00:00\u001b[0m\n",
            "\u001b[?25hDownloading tensorboard-2.19.0-py3-none-any.whl (5.5 MB)\n",
            "\u001b[2K   \u001b[90m━━━━━━━━━━━━━━━━━━━━━━━━━━━━━━━━━━━━━━━━\u001b[0m \u001b[32m5.5/5.5 MB\u001b[0m \u001b[31m75.6 MB/s\u001b[0m eta \u001b[36m0:00:00\u001b[0m\n",
            "\u001b[?25hInstalling collected packages: ml-dtypes, tensorboard, tensorflow\n",
            "  Attempting uninstall: ml-dtypes\n",
            "    Found existing installation: ml-dtypes 0.4.1\n",
            "    Uninstalling ml-dtypes-0.4.1:\n",
            "      Successfully uninstalled ml-dtypes-0.4.1\n",
            "  Attempting uninstall: tensorboard\n",
            "    Found existing installation: tensorboard 2.18.0\n",
            "    Uninstalling tensorboard-2.18.0:\n",
            "      Successfully uninstalled tensorboard-2.18.0\n",
            "  Attempting uninstall: tensorflow\n",
            "    Found existing installation: tensorflow 2.18.0\n",
            "    Uninstalling tensorflow-2.18.0:\n",
            "      Successfully uninstalled tensorflow-2.18.0\n",
            "\u001b[31mERROR: pip's dependency resolver does not currently take into account all the packages that are installed. This behaviour is the source of the following dependency conflicts.\n",
            "tf-keras 2.18.0 requires tensorflow<2.19,>=2.18, but you have tensorflow 2.19.0 which is incompatible.\n",
            "tensorflow-decision-forests 1.11.0 requires tensorflow==2.18.0, but you have tensorflow 2.19.0 which is incompatible.\n",
            "tensorflow-text 2.18.1 requires tensorflow<2.19,>=2.18.0, but you have tensorflow 2.19.0 which is incompatible.\u001b[0m\u001b[31m\n",
            "\u001b[0mSuccessfully installed ml-dtypes-0.5.1 tensorboard-2.19.0 tensorflow-2.19.0\n"
          ]
        }
      ],
      "source": [
        "pip install -U tensorflow"
      ]
    },
    {
      "cell_type": "code",
      "execution_count": 4,
      "metadata": {
        "colab": {
          "base_uri": "https://localhost:8080/"
        },
        "id": "S0TK0ORjeGDL",
        "outputId": "2c2c947f-b486-44dc-bf88-d05718fab3a1"
      },
      "outputs": [
        {
          "output_type": "stream",
          "name": "stdout",
          "text": [
            "2.19.0\n",
            "3.8.0\n"
          ]
        }
      ],
      "source": [
        "import tensorflow as tf\n",
        "from tensorflow import keras\n",
        "\n",
        "print(tf.__version__)\n",
        "print(keras.__version__)"
      ]
    },
    {
      "cell_type": "markdown",
      "metadata": {
        "id": "c14n1QMLeGDM"
      },
      "source": [
        "### 3.2. Membangun Pengklasifikasi Gambar Menggunakan Sequential API\n",
        "\n",
        "Kita akan menggunakan dataset Fashion MNIST, yang mirip dengan MNIST tetapi berisi gambar item fesyen, menjadikannya lebih menantang.\n",
        "\n",
        "**Memuat Dataset Menggunakan Keras:**\n"
      ]
    },
    {
      "cell_type": "code",
      "execution_count": 5,
      "metadata": {
        "colab": {
          "base_uri": "https://localhost:8080/"
        },
        "id": "8omQQBRVeGDN",
        "outputId": "33625c82-906a-4144-8a41-75d8f1f0bad9"
      },
      "outputs": [
        {
          "output_type": "stream",
          "name": "stdout",
          "text": [
            "Downloading data from https://storage.googleapis.com/tensorflow/tf-keras-datasets/train-labels-idx1-ubyte.gz\n",
            "\u001b[1m29515/29515\u001b[0m \u001b[32m━━━━━━━━━━━━━━━━━━━━\u001b[0m\u001b[37m\u001b[0m \u001b[1m0s\u001b[0m 0us/step\n",
            "Downloading data from https://storage.googleapis.com/tensorflow/tf-keras-datasets/train-images-idx3-ubyte.gz\n",
            "\u001b[1m26421880/26421880\u001b[0m \u001b[32m━━━━━━━━━━━━━━━━━━━━\u001b[0m\u001b[37m\u001b[0m \u001b[1m2s\u001b[0m 0us/step\n",
            "Downloading data from https://storage.googleapis.com/tensorflow/tf-keras-datasets/t10k-labels-idx1-ubyte.gz\n",
            "\u001b[1m5148/5148\u001b[0m \u001b[32m━━━━━━━━━━━━━━━━━━━━\u001b[0m\u001b[37m\u001b[0m \u001b[1m0s\u001b[0m 0us/step\n",
            "Downloading data from https://storage.googleapis.com/tensorflow/tf-keras-datasets/t10k-images-idx3-ubyte.gz\n",
            "\u001b[1m4422102/4422102\u001b[0m \u001b[32m━━━━━━━━━━━━━━━━━━━━\u001b[0m\u001b[37m\u001b[0m \u001b[1m1s\u001b[0m 0us/step\n",
            "(60000, 28, 28)\n",
            "uint8\n",
            "Coat\n"
          ]
        }
      ],
      "source": [
        "fashion_mnist = keras.datasets.fashion_mnist\n",
        "(X_train_full, y_train_full), (X_test, y_test) = fashion_mnist.load_data()\n",
        "\n",
        "print(X_train_full.shape)\n",
        "print(X_train_full.dtype)\n",
        "\n",
        "# Buat validation set dan skala fitur input (pixel intensities) ke rentang 0-1\n",
        "X_valid, X_train = X_train_full[:5000] / 255.0, X_train_full[5000:] / 255.0\n",
        "y_valid, y_train = y_train_full[:5000], y_train_full[5000:]\n",
        "\n",
        "class_names = [\"T-shirt/top\", \"Trouser\", \"Pullover\", \"Dress\", \"Coat\",\n",
        "               \"Sandal\", \"Shirt\", \"Sneaker\", \"Bag\", \"Ankle boot\"]\n",
        "\n",
        "print(class_names[y_train[0]])"
      ]
    },
    {
      "cell_type": "markdown",
      "metadata": {
        "id": "M7jP2QDbeGDO"
      },
      "source": [
        "**Membuat Model Menggunakan Sequential API:**\n",
        "\n",
        "Sequential API adalah jenis model Keras paling sederhana, terdiri dari tumpukan lapisan tunggal yang terhubung secara berurutan.\n"
      ]
    },
    {
      "cell_type": "code",
      "execution_count": 6,
      "metadata": {
        "colab": {
          "base_uri": "https://localhost:8080/"
        },
        "id": "dB1E51QAeGDP",
        "outputId": "01c00af1-34f2-4e5a-d2f6-519d478f56e6"
      },
      "outputs": [
        {
          "output_type": "stream",
          "name": "stderr",
          "text": [
            "/usr/local/lib/python3.11/dist-packages/keras/src/layers/reshaping/flatten.py:37: UserWarning: Do not pass an `input_shape`/`input_dim` argument to a layer. When using Sequential models, prefer using an `Input(shape)` object as the first layer in the model instead.\n",
            "  super().__init__(**kwargs)\n"
          ]
        }
      ],
      "source": [
        "model = keras.models.Sequential([\n",
        "    keras.layers.Flatten(input_shape=[28, 28]),\n",
        "    keras.layers.Dense(300, activation=\"relu\"),\n",
        "    keras.layers.Dense(100, activation=\"relu\"),\n",
        "    keras.layers.Dense(10, activation=\"softmax\")\n",
        "])"
      ]
    },
    {
      "cell_type": "markdown",
      "metadata": {
        "id": "9i1hgZOJeGDP"
      },
      "source": [
        "* `Sequential` model: Tumpukan lapisan berurutan.\n",
        "* `Flatten` layer: Mengonversi setiap gambar input menjadi array 1D. Tidak memiliki parameter, hanya untuk pra-pemrosesan. `input_shape` harus ditentukan pada lapisan pertama (tanpa ukuran batch).\n",
        "* `Dense` hidden layer: Lapisan tersembunyi dengan neuron (misalnya, 300 atau 100). Menggunakan fungsi aktivasi (misalnya, ReLU). Mengelola matriks bobot dan vektor biasnya sendiri.\n",
        "* `Dense` output layer: Lapisan output dengan neuron sejumlah kelas (misalnya, 10). Menggunakan fungsi aktivasi softmax untuk kelas eksklusif."
      ]
    },
    {
      "cell_type": "markdown",
      "metadata": {
        "id": "XR6lrAC0eGDQ"
      },
      "source": [
        "**Ringkasan Model (`model.summary()`):**\n",
        "Metode `summary()` menampilkan semua lapisan model, nama, bentuk output, dan jumlah parameternya."
      ]
    },
    {
      "cell_type": "code",
      "execution_count": 7,
      "metadata": {
        "colab": {
          "base_uri": "https://localhost:8080/",
          "height": 272
        },
        "id": "HxsjHYEWeGDQ",
        "outputId": "0fc0665b-9984-40b9-f473-f90cd2d5c9bb"
      },
      "outputs": [
        {
          "output_type": "display_data",
          "data": {
            "text/plain": [
              "\u001b[1mModel: \"sequential\"\u001b[0m\n"
            ],
            "text/html": [
              "<pre style=\"white-space:pre;overflow-x:auto;line-height:normal;font-family:Menlo,'DejaVu Sans Mono',consolas,'Courier New',monospace\"><span style=\"font-weight: bold\">Model: \"sequential\"</span>\n",
              "</pre>\n"
            ]
          },
          "metadata": {}
        },
        {
          "output_type": "display_data",
          "data": {
            "text/plain": [
              "┏━━━━━━━━━━━━━━━━━━━━━━━━━━━━━━━━━┳━━━━━━━━━━━━━━━━━━━━━━━━┳━━━━━━━━━━━━━━━┓\n",
              "┃\u001b[1m \u001b[0m\u001b[1mLayer (type)                   \u001b[0m\u001b[1m \u001b[0m┃\u001b[1m \u001b[0m\u001b[1mOutput Shape          \u001b[0m\u001b[1m \u001b[0m┃\u001b[1m \u001b[0m\u001b[1m      Param #\u001b[0m\u001b[1m \u001b[0m┃\n",
              "┡━━━━━━━━━━━━━━━━━━━━━━━━━━━━━━━━━╇━━━━━━━━━━━━━━━━━━━━━━━━╇━━━━━━━━━━━━━━━┩\n",
              "│ flatten (\u001b[38;5;33mFlatten\u001b[0m)               │ (\u001b[38;5;45mNone\u001b[0m, \u001b[38;5;34m784\u001b[0m)            │             \u001b[38;5;34m0\u001b[0m │\n",
              "├─────────────────────────────────┼────────────────────────┼───────────────┤\n",
              "│ dense (\u001b[38;5;33mDense\u001b[0m)                   │ (\u001b[38;5;45mNone\u001b[0m, \u001b[38;5;34m300\u001b[0m)            │       \u001b[38;5;34m235,500\u001b[0m │\n",
              "├─────────────────────────────────┼────────────────────────┼───────────────┤\n",
              "│ dense_1 (\u001b[38;5;33mDense\u001b[0m)                 │ (\u001b[38;5;45mNone\u001b[0m, \u001b[38;5;34m100\u001b[0m)            │        \u001b[38;5;34m30,100\u001b[0m │\n",
              "├─────────────────────────────────┼────────────────────────┼───────────────┤\n",
              "│ dense_2 (\u001b[38;5;33mDense\u001b[0m)                 │ (\u001b[38;5;45mNone\u001b[0m, \u001b[38;5;34m10\u001b[0m)             │         \u001b[38;5;34m1,010\u001b[0m │\n",
              "└─────────────────────────────────┴────────────────────────┴───────────────┘\n"
            ],
            "text/html": [
              "<pre style=\"white-space:pre;overflow-x:auto;line-height:normal;font-family:Menlo,'DejaVu Sans Mono',consolas,'Courier New',monospace\">┏━━━━━━━━━━━━━━━━━━━━━━━━━━━━━━━━━┳━━━━━━━━━━━━━━━━━━━━━━━━┳━━━━━━━━━━━━━━━┓\n",
              "┃<span style=\"font-weight: bold\"> Layer (type)                    </span>┃<span style=\"font-weight: bold\"> Output Shape           </span>┃<span style=\"font-weight: bold\">       Param # </span>┃\n",
              "┡━━━━━━━━━━━━━━━━━━━━━━━━━━━━━━━━━╇━━━━━━━━━━━━━━━━━━━━━━━━╇━━━━━━━━━━━━━━━┩\n",
              "│ flatten (<span style=\"color: #0087ff; text-decoration-color: #0087ff\">Flatten</span>)               │ (<span style=\"color: #00d7ff; text-decoration-color: #00d7ff\">None</span>, <span style=\"color: #00af00; text-decoration-color: #00af00\">784</span>)            │             <span style=\"color: #00af00; text-decoration-color: #00af00\">0</span> │\n",
              "├─────────────────────────────────┼────────────────────────┼───────────────┤\n",
              "│ dense (<span style=\"color: #0087ff; text-decoration-color: #0087ff\">Dense</span>)                   │ (<span style=\"color: #00d7ff; text-decoration-color: #00d7ff\">None</span>, <span style=\"color: #00af00; text-decoration-color: #00af00\">300</span>)            │       <span style=\"color: #00af00; text-decoration-color: #00af00\">235,500</span> │\n",
              "├─────────────────────────────────┼────────────────────────┼───────────────┤\n",
              "│ dense_1 (<span style=\"color: #0087ff; text-decoration-color: #0087ff\">Dense</span>)                 │ (<span style=\"color: #00d7ff; text-decoration-color: #00d7ff\">None</span>, <span style=\"color: #00af00; text-decoration-color: #00af00\">100</span>)            │        <span style=\"color: #00af00; text-decoration-color: #00af00\">30,100</span> │\n",
              "├─────────────────────────────────┼────────────────────────┼───────────────┤\n",
              "│ dense_2 (<span style=\"color: #0087ff; text-decoration-color: #0087ff\">Dense</span>)                 │ (<span style=\"color: #00d7ff; text-decoration-color: #00d7ff\">None</span>, <span style=\"color: #00af00; text-decoration-color: #00af00\">10</span>)             │         <span style=\"color: #00af00; text-decoration-color: #00af00\">1,010</span> │\n",
              "└─────────────────────────────────┴────────────────────────┴───────────────┘\n",
              "</pre>\n"
            ]
          },
          "metadata": {}
        },
        {
          "output_type": "display_data",
          "data": {
            "text/plain": [
              "\u001b[1m Total params: \u001b[0m\u001b[38;5;34m266,610\u001b[0m (1.02 MB)\n"
            ],
            "text/html": [
              "<pre style=\"white-space:pre;overflow-x:auto;line-height:normal;font-family:Menlo,'DejaVu Sans Mono',consolas,'Courier New',monospace\"><span style=\"font-weight: bold\"> Total params: </span><span style=\"color: #00af00; text-decoration-color: #00af00\">266,610</span> (1.02 MB)\n",
              "</pre>\n"
            ]
          },
          "metadata": {}
        },
        {
          "output_type": "display_data",
          "data": {
            "text/plain": [
              "\u001b[1m Trainable params: \u001b[0m\u001b[38;5;34m266,610\u001b[0m (1.02 MB)\n"
            ],
            "text/html": [
              "<pre style=\"white-space:pre;overflow-x:auto;line-height:normal;font-family:Menlo,'DejaVu Sans Mono',consolas,'Courier New',monospace\"><span style=\"font-weight: bold\"> Trainable params: </span><span style=\"color: #00af00; text-decoration-color: #00af00\">266,610</span> (1.02 MB)\n",
              "</pre>\n"
            ]
          },
          "metadata": {}
        },
        {
          "output_type": "display_data",
          "data": {
            "text/plain": [
              "\u001b[1m Non-trainable params: \u001b[0m\u001b[38;5;34m0\u001b[0m (0.00 B)\n"
            ],
            "text/html": [
              "<pre style=\"white-space:pre;overflow-x:auto;line-height:normal;font-family:Menlo,'DejaVu Sans Mono',consolas,'Courier New',monospace\"><span style=\"font-weight: bold\"> Non-trainable params: </span><span style=\"color: #00af00; text-decoration-color: #00af00\">0</span> (0.00 B)\n",
              "</pre>\n"
            ]
          },
          "metadata": {}
        }
      ],
      "source": [
        "model.summary()"
      ]
    },
    {
      "cell_type": "markdown",
      "metadata": {
        "id": "yl02u6raeGDY"
      },
      "source": [
        "**Mengakses Parameter Lapisan:**\n",
        "Semua parameter lapisan dapat diakses menggunakan metode `get_weights()` dan `set_weights()`. Untuk lapisan `Dense`, ini termasuk bobot koneksi dan istilah bias. Bobot koneksi diinisialisasi secara acak (penting untuk memecah simetri), dan bias diinisialisasi ke nol."
      ]
    },
    {
      "cell_type": "code",
      "execution_count": 8,
      "metadata": {
        "colab": {
          "base_uri": "https://localhost:8080/"
        },
        "id": "upTMjQ0jeGDY",
        "outputId": "08979f85-372e-42cf-c5d8-75b3c2e7a165"
      },
      "outputs": [
        {
          "output_type": "stream",
          "name": "stdout",
          "text": [
            "(784, 300)\n",
            "(300,)\n"
          ]
        }
      ],
      "source": [
        "hidden1 = model.layers[1]\n",
        "weights, biases = hidden1.get_weights()\n",
        "print(weights.shape)\n",
        "print(biases.shape)"
      ]
    },
    {
      "cell_type": "markdown",
      "metadata": {
        "id": "eng_xQQVeGDb"
      },
      "source": [
        "### 3.3. Mengompilasi Model\n",
        "\n",
        "Setelah model dibuat, Anda harus memanggil metode `compile()` untuk menentukan fungsi loss dan optimizer yang akan digunakan. Secara opsional, Anda dapat menentukan daftar metrik tambahan yang akan dihitung selama pelatihan dan evaluasi."
      ]
    },
    {
      "cell_type": "code",
      "execution_count": 9,
      "metadata": {
        "id": "UmU94FkWeGDd"
      },
      "outputs": [],
      "source": [
        "model.compile(loss=\"sparse_categorical_crossentropy\",\n",
        "              optimizer=\"sgd\",\n",
        "              metrics=[\"accuracy\"])"
      ]
    },
    {
      "cell_type": "markdown",
      "metadata": {
        "id": "1AWhadJ4eGDf"
      },
      "source": [
        "* `loss=\"sparse_categorical_crossentropy\"`: Digunakan karena kita memiliki label sparse (indeks kelas), dan kelasnya eksklusif. Gunakan `categorical_crossentropy` untuk one-hot vector, dan `binary_crossentropy` untuk klasifikasi biner.\n",
        "* `optimizer=\"sgd\"`: Melatih model menggunakan *Stochastic Gradient Descent* sederhana. Penting untuk menyetel *learning rate* optimizer SGD (`keras.optimizers.SGD(lr=???)`).\n",
        "* `metrics=[\"accuracy\"]`: Berguna untuk mengukur akurasi selama pelatihan dan evaluasi."
      ]
    },
    {
      "cell_type": "markdown",
      "metadata": {
        "id": "es07cQw5eGDi"
      },
      "source": [
        "### 3.4. Melatih dan Mengevaluasi Model\n",
        "\n",
        "Model siap dilatih dengan memanggil metode `fit()`."
      ]
    },
    {
      "cell_type": "code",
      "execution_count": 10,
      "metadata": {
        "colab": {
          "base_uri": "https://localhost:8080/"
        },
        "id": "EV79UdJJeGDk",
        "outputId": "6ac42ae4-3bb6-442f-d217-93f19bc3c4ab"
      },
      "outputs": [
        {
          "output_type": "stream",
          "name": "stdout",
          "text": [
            "Epoch 1/30\n",
            "\u001b[1m1719/1719\u001b[0m \u001b[32m━━━━━━━━━━━━━━━━━━━━\u001b[0m\u001b[37m\u001b[0m \u001b[1m10s\u001b[0m 6ms/step - accuracy: 0.6892 - loss: 0.9773 - val_accuracy: 0.8292 - val_loss: 0.5137\n",
            "Epoch 2/30\n",
            "\u001b[1m1719/1719\u001b[0m \u001b[32m━━━━━━━━━━━━━━━━━━━━\u001b[0m\u001b[37m\u001b[0m \u001b[1m12s\u001b[0m 7ms/step - accuracy: 0.8246 - loss: 0.5073 - val_accuracy: 0.8494 - val_loss: 0.4431\n",
            "Epoch 3/30\n",
            "\u001b[1m1719/1719\u001b[0m \u001b[32m━━━━━━━━━━━━━━━━━━━━\u001b[0m\u001b[37m\u001b[0m \u001b[1m24s\u001b[0m 9ms/step - accuracy: 0.8433 - loss: 0.4483 - val_accuracy: 0.8520 - val_loss: 0.4248\n",
            "Epoch 4/30\n",
            "\u001b[1m1719/1719\u001b[0m \u001b[32m━━━━━━━━━━━━━━━━━━━━\u001b[0m\u001b[37m\u001b[0m \u001b[1m9s\u001b[0m 5ms/step - accuracy: 0.8496 - loss: 0.4222 - val_accuracy: 0.8538 - val_loss: 0.4241\n",
            "Epoch 5/30\n",
            "\u001b[1m1719/1719\u001b[0m \u001b[32m━━━━━━━━━━━━━━━━━━━━\u001b[0m\u001b[37m\u001b[0m \u001b[1m9s\u001b[0m 5ms/step - accuracy: 0.8611 - loss: 0.4004 - val_accuracy: 0.8736 - val_loss: 0.3811\n",
            "Epoch 6/30\n",
            "\u001b[1m1719/1719\u001b[0m \u001b[32m━━━━━━━━━━━━━━━━━━━━\u001b[0m\u001b[37m\u001b[0m \u001b[1m8s\u001b[0m 5ms/step - accuracy: 0.8663 - loss: 0.3805 - val_accuracy: 0.8728 - val_loss: 0.3787\n",
            "Epoch 7/30\n",
            "\u001b[1m1719/1719\u001b[0m \u001b[32m━━━━━━━━━━━━━━━━━━━━\u001b[0m\u001b[37m\u001b[0m \u001b[1m10s\u001b[0m 5ms/step - accuracy: 0.8698 - loss: 0.3699 - val_accuracy: 0.8738 - val_loss: 0.3680\n",
            "Epoch 8/30\n",
            "\u001b[1m1719/1719\u001b[0m \u001b[32m━━━━━━━━━━━━━━━━━━━━\u001b[0m\u001b[37m\u001b[0m \u001b[1m11s\u001b[0m 5ms/step - accuracy: 0.8751 - loss: 0.3581 - val_accuracy: 0.8594 - val_loss: 0.4013\n",
            "Epoch 9/30\n",
            "\u001b[1m1719/1719\u001b[0m \u001b[32m━━━━━━━━━━━━━━━━━━━━\u001b[0m\u001b[37m\u001b[0m \u001b[1m11s\u001b[0m 5ms/step - accuracy: 0.8780 - loss: 0.3452 - val_accuracy: 0.8722 - val_loss: 0.3685\n",
            "Epoch 10/30\n",
            "\u001b[1m1719/1719\u001b[0m \u001b[32m━━━━━━━━━━━━━━━━━━━━\u001b[0m\u001b[37m\u001b[0m \u001b[1m9s\u001b[0m 5ms/step - accuracy: 0.8828 - loss: 0.3338 - val_accuracy: 0.8794 - val_loss: 0.3433\n",
            "Epoch 11/30\n",
            "\u001b[1m1719/1719\u001b[0m \u001b[32m━━━━━━━━━━━━━━━━━━━━\u001b[0m\u001b[37m\u001b[0m \u001b[1m12s\u001b[0m 6ms/step - accuracy: 0.8830 - loss: 0.3266 - val_accuracy: 0.8794 - val_loss: 0.3350\n",
            "Epoch 12/30\n",
            "\u001b[1m1719/1719\u001b[0m \u001b[32m━━━━━━━━━━━━━━━━━━━━\u001b[0m\u001b[37m\u001b[0m \u001b[1m8s\u001b[0m 5ms/step - accuracy: 0.8851 - loss: 0.3218 - val_accuracy: 0.8794 - val_loss: 0.3378\n",
            "Epoch 13/30\n",
            "\u001b[1m1719/1719\u001b[0m \u001b[32m━━━━━━━━━━━━━━━━━━━━\u001b[0m\u001b[37m\u001b[0m \u001b[1m10s\u001b[0m 6ms/step - accuracy: 0.8889 - loss: 0.3112 - val_accuracy: 0.8810 - val_loss: 0.3308\n",
            "Epoch 14/30\n",
            "\u001b[1m1719/1719\u001b[0m \u001b[32m━━━━━━━━━━━━━━━━━━━━\u001b[0m\u001b[37m\u001b[0m \u001b[1m9s\u001b[0m 5ms/step - accuracy: 0.8879 - loss: 0.3104 - val_accuracy: 0.8842 - val_loss: 0.3230\n",
            "Epoch 15/30\n",
            "\u001b[1m1719/1719\u001b[0m \u001b[32m━━━━━━━━━━━━━━━━━━━━\u001b[0m\u001b[37m\u001b[0m \u001b[1m8s\u001b[0m 5ms/step - accuracy: 0.8925 - loss: 0.3007 - val_accuracy: 0.8802 - val_loss: 0.3319\n",
            "Epoch 16/30\n",
            "\u001b[1m1719/1719\u001b[0m \u001b[32m━━━━━━━━━━━━━━━━━━━━\u001b[0m\u001b[37m\u001b[0m \u001b[1m9s\u001b[0m 5ms/step - accuracy: 0.8945 - loss: 0.2918 - val_accuracy: 0.8820 - val_loss: 0.3188\n",
            "Epoch 17/30\n",
            "\u001b[1m1719/1719\u001b[0m \u001b[32m━━━━━━━━━━━━━━━━━━━━\u001b[0m\u001b[37m\u001b[0m \u001b[1m9s\u001b[0m 5ms/step - accuracy: 0.8990 - loss: 0.2849 - val_accuracy: 0.8906 - val_loss: 0.3146\n",
            "Epoch 18/30\n",
            "\u001b[1m1719/1719\u001b[0m \u001b[32m━━━━━━━━━━━━━━━━━━━━\u001b[0m\u001b[37m\u001b[0m \u001b[1m9s\u001b[0m 4ms/step - accuracy: 0.8971 - loss: 0.2847 - val_accuracy: 0.8894 - val_loss: 0.3106\n",
            "Epoch 19/30\n",
            "\u001b[1m1719/1719\u001b[0m \u001b[32m━━━━━━━━━━━━━━━━━━━━\u001b[0m\u001b[37m\u001b[0m \u001b[1m10s\u001b[0m 5ms/step - accuracy: 0.8970 - loss: 0.2804 - val_accuracy: 0.8828 - val_loss: 0.3398\n",
            "Epoch 20/30\n",
            "\u001b[1m1719/1719\u001b[0m \u001b[32m━━━━━━━━━━━━━━━━━━━━\u001b[0m\u001b[37m\u001b[0m \u001b[1m9s\u001b[0m 5ms/step - accuracy: 0.9008 - loss: 0.2720 - val_accuracy: 0.8896 - val_loss: 0.3087\n",
            "Epoch 21/30\n",
            "\u001b[1m1719/1719\u001b[0m \u001b[32m━━━━━━━━━━━━━━━━━━━━\u001b[0m\u001b[37m\u001b[0m \u001b[1m10s\u001b[0m 5ms/step - accuracy: 0.9040 - loss: 0.2679 - val_accuracy: 0.8854 - val_loss: 0.3172\n",
            "Epoch 22/30\n",
            "\u001b[1m1719/1719\u001b[0m \u001b[32m━━━━━━━━━━━━━━━━━━━━\u001b[0m\u001b[37m\u001b[0m \u001b[1m9s\u001b[0m 5ms/step - accuracy: 0.9065 - loss: 0.2618 - val_accuracy: 0.8908 - val_loss: 0.3077\n",
            "Epoch 23/30\n",
            "\u001b[1m1719/1719\u001b[0m \u001b[32m━━━━━━━━━━━━━━━━━━━━\u001b[0m\u001b[37m\u001b[0m \u001b[1m10s\u001b[0m 5ms/step - accuracy: 0.9094 - loss: 0.2541 - val_accuracy: 0.8972 - val_loss: 0.2967\n",
            "Epoch 24/30\n",
            "\u001b[1m1719/1719\u001b[0m \u001b[32m━━━━━━━━━━━━━━━━━━━━\u001b[0m\u001b[37m\u001b[0m \u001b[1m10s\u001b[0m 5ms/step - accuracy: 0.9114 - loss: 0.2457 - val_accuracy: 0.8936 - val_loss: 0.2993\n",
            "Epoch 25/30\n",
            "\u001b[1m1719/1719\u001b[0m \u001b[32m━━━━━━━━━━━━━━━━━━━━\u001b[0m\u001b[37m\u001b[0m \u001b[1m9s\u001b[0m 5ms/step - accuracy: 0.9103 - loss: 0.2484 - val_accuracy: 0.8902 - val_loss: 0.3054\n",
            "Epoch 26/30\n",
            "\u001b[1m1719/1719\u001b[0m \u001b[32m━━━━━━━━━━━━━━━━━━━━\u001b[0m\u001b[37m\u001b[0m \u001b[1m9s\u001b[0m 5ms/step - accuracy: 0.9120 - loss: 0.2442 - val_accuracy: 0.8894 - val_loss: 0.3098\n",
            "Epoch 27/30\n",
            "\u001b[1m1719/1719\u001b[0m \u001b[32m━━━━━━━━━━━━━━━━━━━━\u001b[0m\u001b[37m\u001b[0m \u001b[1m8s\u001b[0m 5ms/step - accuracy: 0.9132 - loss: 0.2384 - val_accuracy: 0.8948 - val_loss: 0.2928\n",
            "Epoch 28/30\n",
            "\u001b[1m1719/1719\u001b[0m \u001b[32m━━━━━━━━━━━━━━━━━━━━\u001b[0m\u001b[37m\u001b[0m \u001b[1m9s\u001b[0m 5ms/step - accuracy: 0.9156 - loss: 0.2338 - val_accuracy: 0.8960 - val_loss: 0.2917\n",
            "Epoch 29/30\n",
            "\u001b[1m1719/1719\u001b[0m \u001b[32m━━━━━━━━━━━━━━━━━━━━\u001b[0m\u001b[37m\u001b[0m \u001b[1m9s\u001b[0m 5ms/step - accuracy: 0.9164 - loss: 0.2333 - val_accuracy: 0.8742 - val_loss: 0.3377\n",
            "Epoch 30/30\n",
            "\u001b[1m1719/1719\u001b[0m \u001b[32m━━━━━━━━━━━━━━━━━━━━\u001b[0m\u001b[37m\u001b[0m \u001b[1m9s\u001b[0m 5ms/step - accuracy: 0.9180 - loss: 0.2306 - val_accuracy: 0.8842 - val_loss: 0.3164\n"
          ]
        }
      ],
      "source": [
        "history = model.fit(X_train, y_train, epochs=30,\n",
        "                    validation_data=(X_valid, y_valid))"
      ]
    },
    {
      "cell_type": "markdown",
      "metadata": {
        "id": "DnC38CeJeGDl"
      },
      "source": [
        "* `fit()`: Menerima fitur input (`X_train`) dan kelas target (`y_train`), serta jumlah epoch untuk dilatih.\n",
        "* `validation_data`: Opsional, digunakan untuk mengukur loss dan metrik tambahan di set validasi pada akhir setiap epoch. Jika performa pada training set jauh lebih baik daripada validation set, model kemungkinan *overfitting*.\n",
        "\n",
        "Objek `History` yang dikembalikan oleh `fit()` berisi parameter pelatihan, daftar epoch, dan dictionary (`history.history`) yang berisi loss dan metrik tambahan yang diukur pada training set dan validation set."
      ]
    },
    {
      "cell_type": "markdown",
      "metadata": {
        "id": "YX4AoaiEeGDn"
      },
      "source": [
        "**Kurva Pembelajaran:**\n"
      ]
    },
    {
      "cell_type": "code",
      "execution_count": 11,
      "metadata": {
        "colab": {
          "base_uri": "https://localhost:8080/",
          "height": 451
        },
        "id": "uD50pdn2eGDp",
        "outputId": "804b7513-0c01-4446-b27a-cee96deff223"
      },
      "outputs": [
        {
          "output_type": "display_data",
          "data": {
            "text/plain": [
              "<Figure size 800x500 with 1 Axes>"
            ],
            "image/png": "[encoded data removed]"
          },
          "metadata": {}
        }
      ],
      "source": [
        "import pandas as pd\n",
        "import matplotlib.pyplot as plt\n",
        "\n",
        "pd.DataFrame(history.history).plot(figsize=(8, 5))\n",
        "plt.grid(True)\n",
        "plt.gca().set_ylim(0, 1) # set the vertical range to [0-1]\n",
        "plt.show()"
      ]
    },
    {
      "cell_type": "markdown",
      "metadata": {
        "id": "sTuqhZRUeGDt"
      },
      "source": [
        "### 3.5. Menggunakan Model untuk Membuat Prediksi\n",
        "\n",
        "Metode `predict()` model dapat digunakan untuk membuat prediksi pada instance baru."
      ]
    },
    {
      "cell_type": "code",
      "execution_count": 13,
      "metadata": {
        "colab": {
          "base_uri": "https://localhost:8080/"
        },
        "id": "Ggju4jn_eGDw",
        "outputId": "396ec194-159e-434f-a09e-24339ed671e7"
      },
      "outputs": [
        {
          "output_type": "stream",
          "name": "stdout",
          "text": [
            "\u001b[1m1/1\u001b[0m \u001b[32m━━━━━━━━━━━━━━━━━━━━\u001b[0m\u001b[37m\u001b[0m \u001b[1m0s\u001b[0m 131ms/step\n",
            "[[0. 0. 0. 0. 0. 0. 0. 0. 0. 1.]\n",
            " [0. 0. 1. 0. 0. 0. 0. 0. 0. 0.]\n",
            " [0. 1. 0. 0. 0. 0. 0. 0. 0. 0.]]\n",
            "\u001b[1m1/1\u001b[0m \u001b[32m━━━━━━━━━━━━━━━━━━━━\u001b[0m\u001b[37m\u001b[0m \u001b[1m0s\u001b[0m 126ms/step\n",
            "[9 2 1]\n",
            "['Ankle boot' 'Pullover' 'Trouser']\n"
          ]
        }
      ],
      "source": [
        "X_new = X_test[:3]  # pretend these are new instances\n",
        "y_proba = model.predict(X_new)\n",
        "print(y_proba.round(2))\n",
        "\n",
        "y_proba = model.predict(X_new)\n",
        "y_pred = np.argmax(y_proba, axis=1)\n",
        "print(y_pred)\n",
        "print(np.array(class_names)[y_pred])"
      ]
    },
    {
      "cell_type": "markdown",
      "metadata": {
        "id": "hJ0BtB6AeGDx"
      },
      "source": [
        "* `predict()`: Mengembalikan matriks dengan satu baris per instance dan satu kolom per kelas, berisi probabilitas estimasi untuk setiap kelas.\n",
        "* `predict_classes()`: Mengembalikan kelas dengan probabilitas estimasi tertinggi."
      ]
    },
    {
      "cell_type": "markdown",
      "metadata": {
        "id": "q3KtoW23eGDy"
      },
      "source": [
        "## 4. Membangun MLP Regresi Menggunakan Sequential API\n",
        "\n",
        "Menggunakan Sequential API untuk membangun, melatih, mengevaluasi, dan menggunakan MLP regresi mirip dengan klasifikasi."
      ]
    },
    {
      "cell_type": "code",
      "execution_count": 14,
      "metadata": {
        "colab": {
          "base_uri": "https://localhost:8080/"
        },
        "id": "8NCeskhieGDz",
        "outputId": "2b7371d9-2f52-430a-88aa-22c8ef36df28"
      },
      "outputs": [
        {
          "output_type": "stream",
          "name": "stdout",
          "text": [
            "Epoch 1/20\n"
          ]
        },
        {
          "output_type": "stream",
          "name": "stderr",
          "text": [
            "/usr/local/lib/python3.11/dist-packages/keras/src/layers/core/dense.py:87: UserWarning: Do not pass an `input_shape`/`input_dim` argument to a layer. When using Sequential models, prefer using an `Input(shape)` object as the first layer in the model instead.\n",
            "  super().__init__(activity_regularizer=activity_regularizer, **kwargs)\n"
          ]
        },
        {
          "output_type": "stream",
          "name": "stdout",
          "text": [
            "\u001b[1m363/363\u001b[0m \u001b[32m━━━━━━━━━━━━━━━━━━━━\u001b[0m\u001b[37m\u001b[0m \u001b[1m1s\u001b[0m 3ms/step - loss: 1.4108 - val_loss: 0.8245\n",
            "Epoch 2/20\n",
            "\u001b[1m363/363\u001b[0m \u001b[32m━━━━━━━━━━━━━━━━━━━━\u001b[0m\u001b[37m\u001b[0m \u001b[1m1s\u001b[0m 2ms/step - loss: 0.5319 - val_loss: 1.7251\n",
            "Epoch 3/20\n",
            "\u001b[1m363/363\u001b[0m \u001b[32m━━━━━━━━━━━━━━━━━━━━\u001b[0m\u001b[37m\u001b[0m \u001b[1m1s\u001b[0m 4ms/step - loss: 0.6871 - val_loss: 13.9179\n",
            "Epoch 4/20\n",
            "\u001b[1m363/363\u001b[0m \u001b[32m━━━━━━━━━━━━━━━━━━━━\u001b[0m\u001b[37m\u001b[0m \u001b[1m2s\u001b[0m 3ms/step - loss: 0.7682 - val_loss: 112.5257\n",
            "Epoch 5/20\n",
            "\u001b[1m363/363\u001b[0m \u001b[32m━━━━━━━━━━━━━━━━━━━━\u001b[0m\u001b[37m\u001b[0m \u001b[1m1s\u001b[0m 3ms/step - loss: nan - val_loss: nan\n",
            "Epoch 6/20\n",
            "\u001b[1m363/363\u001b[0m \u001b[32m━━━━━━━━━━━━━━━━━━━━\u001b[0m\u001b[37m\u001b[0m \u001b[1m1s\u001b[0m 3ms/step - loss: nan - val_loss: nan\n",
            "Epoch 7/20\n",
            "\u001b[1m363/363\u001b[0m \u001b[32m━━━━━━━━━━━━━━━━━━━━\u001b[0m\u001b[37m\u001b[0m \u001b[1m1s\u001b[0m 3ms/step - loss: nan - val_loss: nan\n",
            "Epoch 8/20\n",
            "\u001b[1m363/363\u001b[0m \u001b[32m━━━━━━━━━━━━━━━━━━━━\u001b[0m\u001b[37m\u001b[0m \u001b[1m1s\u001b[0m 3ms/step - loss: nan - val_loss: nan\n",
            "Epoch 9/20\n",
            "\u001b[1m363/363\u001b[0m \u001b[32m━━━━━━━━━━━━━━━━━━━━\u001b[0m\u001b[37m\u001b[0m \u001b[1m1s\u001b[0m 2ms/step - loss: nan - val_loss: nan\n",
            "Epoch 10/20\n",
            "\u001b[1m363/363\u001b[0m \u001b[32m━━━━━━━━━━━━━━━━━━━━\u001b[0m\u001b[37m\u001b[0m \u001b[1m1s\u001b[0m 3ms/step - loss: nan - val_loss: nan\n",
            "Epoch 11/20\n",
            "\u001b[1m363/363\u001b[0m \u001b[32m━━━━━━━━━━━━━━━━━━━━\u001b[0m\u001b[37m\u001b[0m \u001b[1m1s\u001b[0m 3ms/step - loss: nan - val_loss: nan\n",
            "Epoch 12/20\n",
            "\u001b[1m363/363\u001b[0m \u001b[32m━━━━━━━━━━━━━━━━━━━━\u001b[0m\u001b[37m\u001b[0m \u001b[1m2s\u001b[0m 4ms/step - loss: nan - val_loss: nan\n",
            "Epoch 13/20\n",
            "\u001b[1m363/363\u001b[0m \u001b[32m━━━━━━━━━━━━━━━━━━━━\u001b[0m\u001b[37m\u001b[0m \u001b[1m2s\u001b[0m 2ms/step - loss: nan - val_loss: nan\n",
            "Epoch 14/20\n",
            "\u001b[1m363/363\u001b[0m \u001b[32m━━━━━━━━━━━━━━━━━━━━\u001b[0m\u001b[37m\u001b[0m \u001b[1m1s\u001b[0m 3ms/step - loss: nan - val_loss: nan\n",
            "Epoch 15/20\n",
            "\u001b[1m363/363\u001b[0m \u001b[32m━━━━━━━━━━━━━━━━━━━━\u001b[0m\u001b[37m\u001b[0m \u001b[1m1s\u001b[0m 2ms/step - loss: nan - val_loss: nan\n",
            "Epoch 16/20\n",
            "\u001b[1m363/363\u001b[0m \u001b[32m━━━━━━━━━━━━━━━━━━━━\u001b[0m\u001b[37m\u001b[0m \u001b[1m1s\u001b[0m 3ms/step - loss: nan - val_loss: nan\n",
            "Epoch 17/20\n",
            "\u001b[1m363/363\u001b[0m \u001b[32m━━━━━━━━━━━━━━━━━━━━\u001b[0m\u001b[37m\u001b[0m \u001b[1m1s\u001b[0m 3ms/step - loss: nan - val_loss: nan\n",
            "Epoch 18/20\n",
            "\u001b[1m363/363\u001b[0m \u001b[32m━━━━━━━━━━━━━━━━━━━━\u001b[0m\u001b[37m\u001b[0m \u001b[1m1s\u001b[0m 3ms/step - loss: nan - val_loss: nan\n",
            "Epoch 19/20\n",
            "\u001b[1m363/363\u001b[0m \u001b[32m━━━━━━━━━━━━━━━━━━━━\u001b[0m\u001b[37m\u001b[0m \u001b[1m1s\u001b[0m 2ms/step - loss: nan - val_loss: nan\n",
            "Epoch 20/20\n",
            "\u001b[1m363/363\u001b[0m \u001b[32m━━━━━━━━━━━━━━━━━━━━\u001b[0m\u001b[37m\u001b[0m \u001b[1m1s\u001b[0m 2ms/step - loss: nan - val_loss: nan\n",
            "\u001b[1m162/162\u001b[0m \u001b[32m━━━━━━━━━━━━━━━━━━━━\u001b[0m\u001b[37m\u001b[0m \u001b[1m0s\u001b[0m 2ms/step - loss: nan\n",
            "\u001b[1m1/1\u001b[0m \u001b[32m━━━━━━━━━━━━━━━━━━━━\u001b[0m\u001b[37m\u001b[0m \u001b[1m0s\u001b[0m 91ms/step\n",
            "[[nan]\n",
            " [nan]\n",
            " [nan]]\n"
          ]
        }
      ],
      "source": [
        "from sklearn.datasets import fetch_california_housing\n",
        "from sklearn.model_selection import train_test_split\n",
        "from sklearn.preprocessing import StandardScaler\n",
        "\n",
        "housing = fetch_california_housing()\n",
        "X_train_full, X_test, y_train_full, y_test = train_test_split(\n",
        "    housing.data, housing.target)\n",
        "X_train, X_valid, y_train, y_valid = train_test_split(\n",
        "    X_train_full, y_train_full)\n",
        "\n",
        "scaler = StandardScaler()\n",
        "X_train = scaler.fit_transform(X_train)\n",
        "X_valid = scaler.transform(X_valid)\n",
        "X_test = scaler.transform(X_test)\n",
        "\n",
        "model = keras.models.Sequential([\n",
        "    keras.layers.Dense(30, activation=\"relu\", input_shape=X_train.shape[1:]),\n",
        "    keras.layers.Dense(1)\n",
        "])\n",
        "model.compile(loss=\"mean_squared_error\", optimizer=\"sgd\")\n",
        "history = model.fit(X_train, y_train, epochs=20,\n",
        "                    validation_data=(X_valid, y_valid))\n",
        "mse_test = model.evaluate(X_test, y_test)\n",
        "X_new = X_test[:3]\n",
        "y_pred = model.predict(X_new)\n",
        "print(y_pred)"
      ]
    },
    {
      "cell_type": "markdown",
      "metadata": {
        "id": "g5Ux0js2eGD0"
      },
      "source": [
        "* Lapisan output: Satu neuron tanpa fungsi aktivasi (karena kita memprediksi satu nilai).\n",
        "* Fungsi loss: `mean_squared_error`."
      ]
    },
    {
      "cell_type": "markdown",
      "metadata": {
        "id": "5yG1kG48eGD0"
      },
      "source": [
        "## 5. Membangun Model Kompleks Menggunakan Functional API\n",
        "\n",
        "Untuk jaringan neural non-sequential atau dengan banyak input/output, Keras menawarkan Functional API."
      ]
    },
    {
      "cell_type": "markdown",
      "metadata": {
        "id": "_RJkeBmKeGEE"
      },
      "source": [
        "### 5.1. Wide & Deep Neural Network\n",
        "\n",
        "Arsitektur ini menghubungkan sebagian atau seluruh input langsung ke lapisan output. Ini memungkinkan jaringan neural mempelajari pola yang dalam (melalui jalur dalam) dan aturan sederhana (melalui jalur pendek)."
      ]
    },
    {
      "cell_type": "code",
      "execution_count": 15,
      "metadata": {
        "id": "n5-iVmSXeGEG"
      },
      "outputs": [],
      "source": [
        "input_ = keras.layers.Input(shape=X_train.shape[1:])\n",
        "hidden1 = keras.layers.Dense(30, activation=\"relu\")(input_)\n",
        "hidden2 = keras.layers.Dense(30, activation=\"relu\")(hidden1)\n",
        "concat = keras.layers.Concatenate()([input_, hidden2])\n",
        "output = keras.layers.Dense(1)(concat)\n",
        "model = keras.Model(inputs=[input_], outputs=[output])\n",
        "\n",
        "model.compile(loss=\"mse\", optimizer=\"sgd\")\n",
        "# Latih, evaluasi, dan gunakan model seperti biasa\n",
        "# history = model.fit(X_train, y_train, epochs=20, validation_data=(X_valid, y_valid))\n",
        "# mse_test = model.evaluate(X_test, y_test)\n",
        "# y_pred = model.predict(X_new)"
      ]
    },
    {
      "cell_type": "markdown",
      "metadata": {
        "id": "UO857ddneGEG"
      },
      "source": [
        "* `Input` object: Spesifikasi jenis input yang akan diterima model (bentuk dan dtype).\n",
        "* Lapisan dipanggil seperti fungsi, meneruskan output lapisan sebelumnya sebagai input.\n",
        "* `Concatenate` layer: Untuk menggabungkan output dari lapisan yang berbeda.\n",
        "* `Model` class: Untuk membuat model, tentukan input dan outputnya."
      ]
    },
    {
      "cell_type": "markdown",
      "metadata": {
        "id": "h7b2doyPeGEH"
      },
      "source": [
        "### 5.2. Model dengan Banyak Input\n",
        "\n",
        "Jika Anda ingin mengirim subset fitur melalui jalur lebar dan subset berbeda melalui jalur dalam, gunakan banyak input."
      ]
    },
    {
      "cell_type": "code",
      "execution_count": 25,
      "metadata": {
        "colab": {
          "base_uri": "https://localhost:8080/"
        },
        "id": "bzPNRv4KeGEH",
        "outputId": "b403142d-a76b-4e8f-c50c-4236bd779ea6"
      },
      "outputs": [
        {
          "output_type": "stream",
          "name": "stdout",
          "text": [
            "Epoch 1/20\n",
            "\u001b[1m363/363\u001b[0m \u001b[32m━━━━━━━━━━━━━━━━━━━━\u001b[0m\u001b[37m\u001b[0m \u001b[1m4s\u001b[0m 9ms/step - loss: 3.8129 - val_loss: 1.1949\n",
            "Epoch 2/20\n",
            "\u001b[1m363/363\u001b[0m \u001b[32m━━━━━━━━━━━━━━━━━━━━\u001b[0m\u001b[37m\u001b[0m \u001b[1m4s\u001b[0m 6ms/step - loss: 1.0296 - val_loss: 0.7472\n",
            "Epoch 3/20\n",
            "\u001b[1m363/363\u001b[0m \u001b[32m━━━━━━━━━━━━━━━━━━━━\u001b[0m\u001b[37m\u001b[0m \u001b[1m2s\u001b[0m 3ms/step - loss: 0.7211 - val_loss: 0.6434\n",
            "Epoch 4/20\n",
            "\u001b[1m363/363\u001b[0m \u001b[32m━━━━━━━━━━━━━━━━━━━━\u001b[0m\u001b[37m\u001b[0m \u001b[1m1s\u001b[0m 3ms/step - loss: 0.6353 - val_loss: 0.5947\n",
            "Epoch 5/20\n",
            "\u001b[1m363/363\u001b[0m \u001b[32m━━━━━━━━━━━━━━━━━━━━\u001b[0m\u001b[37m\u001b[0m \u001b[1m1s\u001b[0m 3ms/step - loss: 0.5925 - val_loss: 0.5658\n",
            "Epoch 6/20\n",
            "\u001b[1m363/363\u001b[0m \u001b[32m━━━━━━━━━━━━━━━━━━━━\u001b[0m\u001b[37m\u001b[0m \u001b[1m2s\u001b[0m 5ms/step - loss: 0.5574 - val_loss: 0.5447\n",
            "Epoch 7/20\n",
            "\u001b[1m363/363\u001b[0m \u001b[32m━━━━━━━━━━━━━━━━━━━━\u001b[0m\u001b[37m\u001b[0m \u001b[1m3s\u001b[0m 7ms/step - loss: 0.5206 - val_loss: 0.5283\n",
            "Epoch 8/20\n",
            "\u001b[1m363/363\u001b[0m \u001b[32m━━━━━━━━━━━━━━━━━━━━\u001b[0m\u001b[37m\u001b[0m \u001b[1m4s\u001b[0m 3ms/step - loss: 0.5240 - val_loss: 0.5175\n",
            "Epoch 9/20\n",
            "\u001b[1m363/363\u001b[0m \u001b[32m━━━━━━━━━━━━━━━━━━━━\u001b[0m\u001b[37m\u001b[0m \u001b[1m1s\u001b[0m 3ms/step - loss: 0.5060 - val_loss: 0.5061\n",
            "Epoch 10/20\n",
            "\u001b[1m363/363\u001b[0m \u001b[32m━━━━━━━━━━━━━━━━━━━━\u001b[0m\u001b[37m\u001b[0m \u001b[1m1s\u001b[0m 3ms/step - loss: 0.5082 - val_loss: 0.5016\n",
            "Epoch 11/20\n",
            "\u001b[1m363/363\u001b[0m \u001b[32m━━━━━━━━━━━━━━━━━━━━\u001b[0m\u001b[37m\u001b[0m \u001b[1m1s\u001b[0m 3ms/step - loss: 0.4805 - val_loss: 0.4879\n",
            "Epoch 12/20\n",
            "\u001b[1m363/363\u001b[0m \u001b[32m━━━━━━━━━━━━━━━━━━━━\u001b[0m\u001b[37m\u001b[0m \u001b[1m1s\u001b[0m 3ms/step - loss: 0.4882 - val_loss: 0.4883\n",
            "Epoch 13/20\n",
            "\u001b[1m363/363\u001b[0m \u001b[32m━━━━━━━━━━━━━━━━━━━━\u001b[0m\u001b[37m\u001b[0m \u001b[1m1s\u001b[0m 3ms/step - loss: 0.4817 - val_loss: 0.4765\n",
            "Epoch 14/20\n",
            "\u001b[1m363/363\u001b[0m \u001b[32m━━━━━━━━━━━━━━━━━━━━\u001b[0m\u001b[37m\u001b[0m \u001b[1m1s\u001b[0m 4ms/step - loss: 0.4853 - val_loss: 0.4720\n",
            "Epoch 15/20\n",
            "\u001b[1m363/363\u001b[0m \u001b[32m━━━━━━━━━━━━━━━━━━━━\u001b[0m\u001b[37m\u001b[0m \u001b[1m2s\u001b[0m 3ms/step - loss: 0.4764 - val_loss: 0.4678\n",
            "Epoch 16/20\n",
            "\u001b[1m363/363\u001b[0m \u001b[32m━━━━━━━━━━━━━━━━━━━━\u001b[0m\u001b[37m\u001b[0m \u001b[1m1s\u001b[0m 3ms/step - loss: 0.4527 - val_loss: 0.4630\n",
            "Epoch 17/20\n",
            "\u001b[1m363/363\u001b[0m \u001b[32m━━━━━━━━━━━━━━━━━━━━\u001b[0m\u001b[37m\u001b[0m \u001b[1m1s\u001b[0m 3ms/step - loss: 0.4442 - val_loss: 0.4589\n",
            "Epoch 18/20\n",
            "\u001b[1m363/363\u001b[0m \u001b[32m━━━━━━━━━━━━━━━━━━━━\u001b[0m\u001b[37m\u001b[0m \u001b[1m1s\u001b[0m 3ms/step - loss: 0.4439 - val_loss: 0.4562\n",
            "Epoch 19/20\n",
            "\u001b[1m363/363\u001b[0m \u001b[32m━━━━━━━━━━━━━━━━━━━━\u001b[0m\u001b[37m\u001b[0m \u001b[1m1s\u001b[0m 3ms/step - loss: 0.4628 - val_loss: 0.4531\n",
            "Epoch 20/20\n",
            "\u001b[1m363/363\u001b[0m \u001b[32m━━━━━━━━━━━━━━━━━━━━\u001b[0m\u001b[37m\u001b[0m \u001b[1m1s\u001b[0m 3ms/step - loss: 0.4667 - val_loss: 0.4494\n",
            "\u001b[1m162/162\u001b[0m \u001b[32m━━━━━━━━━━━━━━━━━━━━\u001b[0m\u001b[37m\u001b[0m \u001b[1m0s\u001b[0m 2ms/step - loss: 0.4406\n",
            "\u001b[1m1/1\u001b[0m \u001b[32m━━━━━━━━━━━━━━━━━━━━\u001b[0m\u001b[37m\u001b[0m \u001b[1m0s\u001b[0m 75ms/step\n"
          ]
        }
      ],
      "source": [
        "input_A = keras.layers.Input(shape=[5], name=\"wide_input\")\n",
        "input_B = keras.layers.Input(shape=[6], name=\"deep_input\")\n",
        "hidden1 = keras.layers.Dense(30, activation=\"relu\")(input_B)\n",
        "hidden2 = keras.layers.Dense(30, activation=\"relu\")(hidden1)\n",
        "concat = keras.layers.concatenate([input_A, hidden2])\n",
        "output = keras.layers.Dense(1, name=\"output\")(concat)\n",
        "model = keras.Model(inputs=[input_A, input_B], outputs=[output])\n",
        "\n",
        "model.compile(loss=\"mse\", optimizer=keras.optimizers.SGD(learning_rate=1e-3))\n",
        "\n",
        "# Siapkan data untuk banyak input\n",
        "X_train_A, X_train_B = X_train[:, :5], X_train[:, 2:]\n",
        "X_valid_A, X_valid_B = X_valid[:, :5], X_valid[:, 2:]\n",
        "X_test_A, X_test_B = X_test[:, :5], X_test[:, 2:]\n",
        "X_new_A, X_new_B = X_test_A[:3], X_test_B[:3]\n",
        "\n",
        "# Latih model dengan banyak input\n",
        "history = model.fit((X_train_A, X_train_B), y_train, epochs=20,\n",
        "                    validation_data=((X_valid_A, X_valid_B), y_valid))\n",
        "mse_test = model.evaluate((X_test_A, X_test_B), y_test)\n",
        "y_pred = model.predict((X_new_A, X_new_B))"
      ]
    },
    {
      "cell_type": "markdown",
      "metadata": {
        "id": "coLkRuuxeGEI"
      },
      "source": [
        "### 5.3. Model dengan Banyak Output\n",
        "\n",
        "Banyak kasus penggunaan memerlukan banyak output (misalnya, klasifikasi dan lokalisasi objek, tugas independen, atau regularisasi)."
      ]
    },
    {
      "cell_type": "code",
      "execution_count": 26,
      "metadata": {
        "colab": {
          "base_uri": "https://localhost:8080/"
        },
        "id": "8GeT8oFueGEI",
        "outputId": "b316a25d-516a-4a25-f8d6-1da7507ee041"
      },
      "outputs": [
        {
          "output_type": "stream",
          "name": "stdout",
          "text": [
            "Epoch 1/20\n",
            "\u001b[1m363/363\u001b[0m \u001b[32m━━━━━━━━━━━━━━━━━━━━\u001b[0m\u001b[37m\u001b[0m \u001b[1m3s\u001b[0m 4ms/step - aux_output_loss: 2.6092 - loss: 1.3948 - main_output_loss: 1.2599 - val_aux_output_loss: 0.8965 - val_loss: 0.5711 - val_main_output_loss: 0.5348\n",
            "Epoch 2/20\n",
            "\u001b[1m363/363\u001b[0m \u001b[32m━━━━━━━━━━━━━━━━━━━━\u001b[0m\u001b[37m\u001b[0m \u001b[1m3s\u001b[0m 5ms/step - aux_output_loss: 0.8705 - loss: 0.4995 - main_output_loss: 0.4582 - val_aux_output_loss: 0.7911 - val_loss: 0.6399 - val_main_output_loss: 0.6229\n",
            "Epoch 3/20\n",
            "\u001b[1m363/363\u001b[0m \u001b[32m━━━━━━━━━━━━━━━━━━━━\u001b[0m\u001b[37m\u001b[0m \u001b[1m2s\u001b[0m 4ms/step - aux_output_loss: 0.7564 - loss: 0.4961 - main_output_loss: 0.4672 - val_aux_output_loss: 0.7854 - val_loss: 0.5012 - val_main_output_loss: 0.4695\n",
            "Epoch 4/20\n",
            "\u001b[1m363/363\u001b[0m \u001b[32m━━━━━━━━━━━━━━━━━━━━\u001b[0m\u001b[37m\u001b[0m \u001b[1m2s\u001b[0m 4ms/step - aux_output_loss: 0.7573 - loss: 0.4973 - main_output_loss: 0.4685 - val_aux_output_loss: 0.7068 - val_loss: 0.4601 - val_main_output_loss: 0.4327\n",
            "Epoch 5/20\n",
            "\u001b[1m363/363\u001b[0m \u001b[32m━━━━━━━━━━━━━━━━━━━━\u001b[0m\u001b[37m\u001b[0m \u001b[1m2s\u001b[0m 3ms/step - aux_output_loss: 0.6891 - loss: 0.4628 - main_output_loss: 0.4377 - val_aux_output_loss: 0.6604 - val_loss: 0.4479 - val_main_output_loss: 0.4242\n",
            "Epoch 6/20\n",
            "\u001b[1m363/363\u001b[0m \u001b[32m━━━━━━━━━━━━━━━━━━━━\u001b[0m\u001b[37m\u001b[0m \u001b[1m2s\u001b[0m 6ms/step - aux_output_loss: 0.6372 - loss: 0.4377 - main_output_loss: 0.4156 - val_aux_output_loss: 0.6255 - val_loss: 0.4287 - val_main_output_loss: 0.4067\n",
            "Epoch 7/20\n",
            "\u001b[1m363/363\u001b[0m \u001b[32m━━━━━━━━━━━━━━━━━━━━\u001b[0m\u001b[37m\u001b[0m \u001b[1m2s\u001b[0m 4ms/step - aux_output_loss: 0.5941 - loss: 0.4249 - main_output_loss: 0.4061 - val_aux_output_loss: 0.5985 - val_loss: 0.4227 - val_main_output_loss: 0.4032\n",
            "Epoch 8/20\n",
            "\u001b[1m363/363\u001b[0m \u001b[32m━━━━━━━━━━━━━━━━━━━━\u001b[0m\u001b[37m\u001b[0m \u001b[1m2s\u001b[0m 4ms/step - aux_output_loss: 0.5957 - loss: 0.4338 - main_output_loss: 0.4158 - val_aux_output_loss: 0.5675 - val_loss: 0.4109 - val_main_output_loss: 0.3934\n",
            "Epoch 9/20\n",
            "\u001b[1m363/363\u001b[0m \u001b[32m━━━━━━━━━━━━━━━━━━━━\u001b[0m\u001b[37m\u001b[0m \u001b[1m2s\u001b[0m 3ms/step - aux_output_loss: 0.5476 - loss: 0.4066 - main_output_loss: 0.3909 - val_aux_output_loss: 0.6048 - val_loss: 0.4147 - val_main_output_loss: 0.3936\n",
            "Epoch 10/20\n",
            "\u001b[1m363/363\u001b[0m \u001b[32m━━━━━━━━━━━━━━━━━━━━\u001b[0m\u001b[37m\u001b[0m \u001b[1m1s\u001b[0m 3ms/step - aux_output_loss: 0.5689 - loss: 0.4172 - main_output_loss: 0.4003 - val_aux_output_loss: 0.5451 - val_loss: 0.4013 - val_main_output_loss: 0.3853\n",
            "Epoch 11/20\n",
            "\u001b[1m363/363\u001b[0m \u001b[32m━━━━━━━━━━━━━━━━━━━━\u001b[0m\u001b[37m\u001b[0m \u001b[1m4s\u001b[0m 6ms/step - aux_output_loss: 0.5398 - loss: 0.3999 - main_output_loss: 0.3844 - val_aux_output_loss: 0.5353 - val_loss: 0.3982 - val_main_output_loss: 0.3829\n",
            "Epoch 12/20\n",
            "\u001b[1m363/363\u001b[0m \u001b[32m━━━━━━━━━━━━━━━━━━━━\u001b[0m\u001b[37m\u001b[0m \u001b[1m5s\u001b[0m 11ms/step - aux_output_loss: 0.5361 - loss: 0.4085 - main_output_loss: 0.3944 - val_aux_output_loss: 0.5346 - val_loss: 0.3924 - val_main_output_loss: 0.3765\n",
            "Epoch 13/20\n",
            "\u001b[1m363/363\u001b[0m \u001b[32m━━━━━━━━━━━━━━━━━━━━\u001b[0m\u001b[37m\u001b[0m \u001b[1m2s\u001b[0m 3ms/step - aux_output_loss: 0.5176 - loss: 0.3875 - main_output_loss: 0.3730 - val_aux_output_loss: 0.5482 - val_loss: 0.4037 - val_main_output_loss: 0.3876\n",
            "Epoch 14/20\n",
            "\u001b[1m363/363\u001b[0m \u001b[32m━━━━━━━━━━━━━━━━━━━━\u001b[0m\u001b[37m\u001b[0m \u001b[1m3s\u001b[0m 3ms/step - aux_output_loss: 0.5101 - loss: 0.3832 - main_output_loss: 0.3690 - val_aux_output_loss: 0.5973 - val_loss: 0.4216 - val_main_output_loss: 0.4020\n",
            "Epoch 15/20\n",
            "\u001b[1m363/363\u001b[0m \u001b[32m━━━━━━━━━━━━━━━━━━━━\u001b[0m\u001b[37m\u001b[0m \u001b[1m2s\u001b[0m 3ms/step - aux_output_loss: 0.5058 - loss: 0.3798 - main_output_loss: 0.3658 - val_aux_output_loss: 0.5065 - val_loss: 0.3791 - val_main_output_loss: 0.3649\n",
            "Epoch 16/20\n",
            "\u001b[1m363/363\u001b[0m \u001b[32m━━━━━━━━━━━━━━━━━━━━\u001b[0m\u001b[37m\u001b[0m \u001b[1m1s\u001b[0m 3ms/step - aux_output_loss: 0.4900 - loss: 0.3604 - main_output_loss: 0.3460 - val_aux_output_loss: 0.5007 - val_loss: 0.3784 - val_main_output_loss: 0.3648\n",
            "Epoch 17/20\n",
            "\u001b[1m363/363\u001b[0m \u001b[32m━━━━━━━━━━━━━━━━━━━━\u001b[0m\u001b[37m\u001b[0m \u001b[1m1s\u001b[0m 3ms/step - aux_output_loss: 0.4846 - loss: 0.3761 - main_output_loss: 0.3640 - val_aux_output_loss: 0.4884 - val_loss: 0.3716 - val_main_output_loss: 0.3586\n",
            "Epoch 18/20\n",
            "\u001b[1m363/363\u001b[0m \u001b[32m━━━━━━━━━━━━━━━━━━━━\u001b[0m\u001b[37m\u001b[0m \u001b[1m1s\u001b[0m 3ms/step - aux_output_loss: 0.4848 - loss: 0.3831 - main_output_loss: 0.3718 - val_aux_output_loss: 0.4882 - val_loss: 0.3745 - val_main_output_loss: 0.3618\n",
            "Epoch 19/20\n",
            "\u001b[1m363/363\u001b[0m \u001b[32m━━━━━━━━━━━━━━━━━━━━\u001b[0m\u001b[37m\u001b[0m \u001b[1m2s\u001b[0m 5ms/step - aux_output_loss: 0.4865 - loss: 0.3809 - main_output_loss: 0.3692 - val_aux_output_loss: 0.4935 - val_loss: 0.3833 - val_main_output_loss: 0.3710\n",
            "Epoch 20/20\n",
            "\u001b[1m363/363\u001b[0m \u001b[32m━━━━━━━━━━━━━━━━━━━━\u001b[0m\u001b[37m\u001b[0m \u001b[1m2s\u001b[0m 3ms/step - aux_output_loss: 0.4583 - loss: 0.3577 - main_output_loss: 0.3466 - val_aux_output_loss: 0.4729 - val_loss: 0.3718 - val_main_output_loss: 0.3605\n",
            "\u001b[1m162/162\u001b[0m \u001b[32m━━━━━━━━━━━━━━━━━━━━\u001b[0m\u001b[37m\u001b[0m \u001b[1m0s\u001b[0m 2ms/step - aux_output_loss: 0.4481 - loss: 0.3553 - main_output_loss: 0.3450\n",
            "\u001b[1m1/1\u001b[0m \u001b[32m━━━━━━━━━━━━━━━━━━━━\u001b[0m\u001b[37m\u001b[0m \u001b[1m0s\u001b[0m 90ms/step\n"
          ]
        }
      ],
      "source": [
        "output = keras.layers.Dense(1, name=\"main_output\")(concat)\n",
        "aux_output = keras.layers.Dense(1, name=\"aux_output\")(hidden2)\n",
        "model = keras.Model(inputs=[input_A, input_B], outputs=[output, aux_output])\n",
        "\n",
        "model.compile(loss=[\"mse\", \"mse\"], loss_weights=[0.9, 0.1], optimizer=\"sgd\")\n",
        "\n",
        "# Latih model dengan banyak output (label harus disediakan untuk setiap output)\n",
        "history = model.fit([X_train_A, X_train_B], [y_train, y_train], epochs=20,\n",
        "                    validation_data=([X_valid_A, X_valid_B], [y_valid, y_valid]))\n",
        "total_loss, main_loss, aux_loss = model.evaluate([X_test_A, X_test_B], [y_test, y_test])\n",
        "y_pred_main, y_pred_aux = model.predict([X_new_A, X_new_B])"
      ]
    },
    {
      "cell_type": "markdown",
      "metadata": {
        "id": "Ofy91ixyeGEJ"
      },
      "source": [
        "* Setiap output membutuhkan fungsi loss sendiri (dapat berupa daftar loss).\n",
        "* Bobot loss dapat diatur (`loss_weights`).\n",
        "* Saat melatih model, label harus disediakan untuk setiap output."
      ]
    },
    {
      "cell_type": "markdown",
      "metadata": {
        "id": "3EMUTB6teGEJ"
      },
      "source": [
        "## 6. Menggunakan Subclassing API untuk Membangun Model Dinamis\n",
        "\n",
        "Jika Anda lebih suka gaya pemrograman imperatif atau model Anda melibatkan loop, bentuk yang bervariasi, percabangan kondisional, dan perilaku dinamis lainnya, Subclassing API adalah pilihan yang tepat."
      ]
    },
    {
      "cell_type": "code",
      "execution_count": 37,
      "metadata": {
        "id": "Tf5riodkeGEJ"
      },
      "outputs": [],
      "source": [
        "class WideAndDeepModel(keras.Model):\n",
        "    def __init__(self, units=30, activation=\"relu\", **kwargs):\n",
        "        super().__init__(**kwargs)  # handles standard args (e.g., name)\n",
        "        self.hidden1 = keras.layers.Dense(units, activation=activation)\n",
        "        self.hidden2 = keras.layers.Dense(units, activation=activation)\n",
        "        self.main_output = keras.layers.Dense(1)\n",
        "        self.aux_output = keras.layers.Dense(1)\n",
        "\n",
        "    def call(self, inputs):\n",
        "        input_A, input_B = inputs\n",
        "        hidden1 = self.hidden1(input_B)\n",
        "        hidden2 = self.hidden2(hidden1)\n",
        "        concat = keras.layers.concatenate([input_A, hidden2])\n",
        "        main_output = self.main_output(concat)\n",
        "        aux_output = self.aux_output(hidden2)\n",
        "        return main_output, aux_output\n",
        "\n",
        "model = WideAndDeepModel()\n",
        "model.compile(loss=[\"mse\", \"mse\"], loss_weights=[0.9, 0.1], optimizer=\"sgd\")\n",
        "# Latih, evaluasi, dan gunakan model seperti biasa"
      ]
    },
    {
      "cell_type": "markdown",
      "metadata": {
        "id": "MlIzUfGneGEK"
      },
      "source": [
        "* Subclass `keras.Model`.\n",
        "* Buat lapisan yang diperlukan dalam konstruktor.\n",
        "* Gunakan lapisan tersebut untuk melakukan komputasi dalam metode `call()`.\n",
        "* Kelebihan: Fleksibilitas tinggi.\n",
        "* Kekurangan: Arsitektur tersembunyi, sulit disimpan/dikloning, sulit diinspeksi."
      ]
    },
    {
      "cell_type": "markdown",
      "metadata": {
        "id": "1Ag1GRwreGEK"
      },
      "source": [
        "## 7. Menyimpan dan Memulihkan Model\n",
        "\n",
        "Sangat mudah untuk menyimpan model Keras yang telah dilatih menggunakan Sequential API atau Functional API."
      ]
    },
    {
      "cell_type": "code",
      "execution_count": 43,
      "metadata": {
        "colab": {
          "base_uri": "https://localhost:8080/"
        },
        "id": "vWGRHjIqeGEK",
        "outputId": "8617905f-22e5-450a-dd9d-07a8470a663e"
      },
      "outputs": [
        {
          "output_type": "stream",
          "name": "stderr",
          "text": [
            "/usr/local/lib/python3.11/dist-packages/keras/src/layers/layer.py:393: UserWarning: `build()` was called on layer 'wide_and_deep_model_9', however the layer does not have a `build()` method implemented and it looks like it has unbuilt state. This will cause the layer to be marked as built, despite not being actually built, which may cause failures down the line. Make sure to implement a proper `build()` method.\n",
            "  warnings.warn(\n"
          ]
        },
        {
          "output_type": "stream",
          "name": "stdout",
          "text": [
            "\u001b[1m4/4\u001b[0m \u001b[32m━━━━━━━━━━━━━━━━━━━━\u001b[0m\u001b[37m\u001b[0m \u001b[1m4s\u001b[0m 18ms/step - loss: 0.3989 - mse_loss: 0.6851\n",
            "Bobot model berhasil disimpan!\n",
            "Model (arsitektur baru) dan bobot berhasil dimuat!\n"
          ]
        },
        {
          "output_type": "stream",
          "name": "stderr",
          "text": [
            "/usr/local/lib/python3.11/dist-packages/keras/src/layers/layer.py:393: UserWarning: `build()` was called on layer 'wide_and_deep_model_10', however the layer does not have a `build()` method implemented and it looks like it has unbuilt state. This will cause the layer to be marked as built, despite not being actually built, which may cause failures down the line. Make sure to implement a proper `build()` method.\n",
            "  warnings.warn(\n"
          ]
        }
      ],
      "source": [
        "# --- Bagian untuk melatih dan menyimpan (seperti yang Anda miliki sebelumnya) ---\n",
        "# Data dummy untuk kompilasi dan penyimpanan\n",
        "X_train_A_dummy = np.random.rand(100, 5)\n",
        "X_train_B_dummy = np.random.rand(100, 6)\n",
        "y_train_dummy = np.random.rand(100)\n",
        "\n",
        "# Buat instance model\n",
        "model = WideAndDeepModel()\n",
        "\n",
        "# Build model secara eksplisit atau dengan memanggilnya sekali\n",
        "# Ini penting agar model tahu bentuk input dan membuat bobotnya\n",
        "model.build(input_shape=[(None, 5), (None, 6)]) # Contoh input_shape: (batch_size, feature_dim)\n",
        "# Atau Anda bisa memanggilnya dengan data dummy:\n",
        "# _ = model([X_train_A_dummy, X_train_B_dummy])\n",
        "\n",
        "\n",
        "# Compile model (menggunakan learning_rate=1e-3)\n",
        "model.compile(loss=[\"mse\", \"mse\"], loss_weights=[0.9, 0.1], optimizer=keras.optimizers.SGD(learning_rate=1e-3))\n",
        "\n",
        "# Latih model dummy agar ada bobot yang tersimpan\n",
        "model.fit([X_train_A_dummy, X_train_B_dummy], [y_train_dummy, y_train_dummy], epochs=1)\n",
        "\n",
        "# GANTI: Simpan hanya bobot model, bukan seluruh model\n",
        "model.save_weights(\"my_keras_model.weights.h5\")\n",
        "\n",
        "print(\"Bobot model berhasil disimpan!\")\n",
        "\n",
        "# --- Bagian untuk memuat model ---\n",
        "# KETIKA MEMUAT MODEL DENGAN SUBCLASSING API:\n",
        "# 1. Buat instance model baru dengan arsitektur yang sama\n",
        "loaded_model = WideAndDeepModel()\n",
        "\n",
        "# 2. Build model baru agar lapisannya dibuat dan siap menerima bobot\n",
        "# Penting: Bentuk input harus cocok dengan yang digunakan saat menyimpan bobot.\n",
        "loaded_model.build(input_shape=[(None, 5), (None, 6)])\n",
        "\n",
        "# 3. Compile model baru (opsional, tergantung kebutuhan Anda)\n",
        "# Jika Anda ingin melanjutkan pelatihan, compile diperlukan.\n",
        "loaded_model.compile(loss=[\"mse\", \"mse\"], loss_weights=[0.9, 0.1], optimizer=keras.optimizers.SGD(learning_rate=1e-3))\n",
        "\n",
        "\n",
        "# 4. Muat bobot ke instance model yang baru\n",
        "loaded_model.load_weights(\"my_keras_model.weights.h5\")\n",
        "\n",
        "print(\"Model (arsitektur baru) dan bobot berhasil dimuat!\")\n",
        "\n",
        "# Sekarang Anda bisa menggunakan loaded_model\n",
        "# Misalnya, untuk membuat prediksi:\n",
        "# X_new_A_dummy = np.random.rand(2, 5)\n",
        "# X_new_B_dummy = np.random.rand(2, 6)\n",
        "# predictions = loaded_model([X_new_A_dummy, X_new_B_dummy])\n",
        "# print(predictions)"
      ]
    },
    {
      "cell_type": "markdown",
      "metadata": {
        "id": "sz_ImVW5eGEO"
      },
      "source": [
        "* Keras menggunakan format HDF5 untuk menyimpan arsitektur model dan nilai semua parameternya, serta optimizer.\n",
        "* Untuk model Subclassing API, gunakan `save_weights()` dan `load_weights()` untuk menyimpan dan memulihkan parameter model."
      ]
    },
    {
      "cell_type": "markdown",
      "metadata": {
        "id": "3NR4KvedeGER"
      },
      "source": [
        "## 8. Menggunakan Callbacks\n",
        "\n",
        "Metode `fit()` menerima argumen `callbacks` yang memungkinkan Anda menentukan daftar objek yang akan dipanggil Keras pada awal/akhir pelatihan, awal/akhir setiap epoch, dan bahkan sebelum/sesudah memproses setiap batch."
      ]
    },
    {
      "cell_type": "code",
      "execution_count": null,
      "metadata": {
        "id": "5VxtSBwweGES"
      },
      "outputs": [],
      "source": [
        "checkpoint_cb = keras.callbacks.ModelCheckpoint(\"my_keras_model.weights.h5\", save_best_only=True)\n",
        "early_stopping_cb = keras.callbacks.EarlyStopping(patience=10, restore_best_weights=True)\n",
        "history = loaded_model.fit(X_train, y_train, epochs=100,\n",
        "                    validation_data=(X_valid, y_valid),\n",
        "                    callbacks=[checkpoint_cb, early_stopping_cb])"
      ]
    },
    {
      "cell_type": "markdown",
      "metadata": {
        "id": "WORJSHWReGET"
      },
      "source": [
        "* **`ModelCheckpoint`:** Menyimpan checkpoint model secara berkala selama pelatihan (default: akhir setiap epoch). Dapat diatur untuk menyimpan model terbaik saja (`save_best_only=True`).\n",
        "* **`EarlyStopping`:** Menginterupsi pelatihan ketika tidak ada kemajuan pada validation set selama sejumlah epoch (didefinisikan oleh argumen `patience`). Secara opsional dapat mengembalikan model terbaik (`restore_best_weights=True`).\n"
      ]
    },
    {
      "cell_type": "markdown",
      "metadata": {
        "id": "8jexOQIpeGET"
      },
      "source": [
        "* **Custom Callbacks:** Anda dapat menulis callback kustom Anda sendiri dengan membuat subclass `keras.callbacks.Callback` dan mengimplementasikan metode yang relevan (misalnya, `on_epoch_end()`)."
      ]
    },
    {
      "cell_type": "markdown",
      "metadata": {
        "id": "70RqGheTeGEU"
      },
      "source": [
        "## 9. Menggunakan TensorBoard untuk Visualisasi\n",
        "\n",
        "TensorBoard adalah alat visualisasi interaktif yang hebat untuk melihat kurva pembelajaran selama pelatihan, membandingkan kurva pembelajaran antar beberapa run, memvisualisasikan grafik komputasi, menganalisis statistik pelatihan, dan banyak lagi."
      ]
    },
    {
      "cell_type": "markdown",
      "metadata": {
        "id": "lkKlmaTZeGEW"
      },
      "source": [
        "* **Mengeluarkan Data:** Ubah program Anda untuk menghasilkan data yang ingin Anda visualisasikan ke file log biner khusus yang disebut *event files*. Setiap record data biner disebut *summary*.\n",
        "* **Callback `TensorBoard()`:** Keras menyediakan callback `TensorBoard()` yang mudah digunakan.\n"
      ]
    },
    {
      "cell_type": "code",
      "execution_count": 22,
      "metadata": {
        "id": "wCOQMApTeGEW"
      },
      "outputs": [],
      "source": [
        "import os\n",
        "import time\n",
        "\n",
        "root_logdir = os.path.join(os.curdir, \"my_logs\")\n",
        "\n",
        "def get_run_logdir():\n",
        "    run_id = time.strftime(\"run_%Y_%m_%d-%H_%M_%S\")\n",
        "    return os.path.join(root_logdir, run_id)\n",
        "\n",
        "# run_logdir = get_run_logdir()\n",
        "# tensorboard_cb = keras.callbacks.TensorBoard(run_logdir)\n",
        "# history = model.fit(X_train, y_train, epochs=30,\n",
        "#                     validation_data=(X_valid, y_valid),\n",
        "#                     callbacks=[tensorboard_cb])"
      ]
    },
    {
      "cell_type": "markdown",
      "metadata": {
        "id": "XHFDJnpTeGEW"
      },
      "source": [
        "* **Menjalankan Server TensorBoard:** Dari terminal Anda:\n",
        "\n",
        "    ```bash\n",
        "    tensorboard --logdir=./my_logs --port=6006\n",
        "    ```\n",
        "\n",
        "    Atau langsung di Jupyter:\n",
        "\n",
        "    ```python\n",
        "    # %load_ext tensorboard\n",
        "    # %tensorboard --logdir=./my_logs --port=6006\n",
        "    ```\n"
      ]
    },
    {
      "cell_type": "markdown",
      "metadata": {
        "id": "44K15ZEreGEX"
      },
      "source": [
        "## 10. Fine-Tuning Hyperparameter Jaringan Neural\n",
        "\n",
        "Fleksibilitas jaringan neural juga merupakan salah satu kekurangan utamanya: ada banyak hyperparameter yang perlu disesuaikan."
      ]
    },
    {
      "cell_type": "markdown",
      "metadata": {
        "id": "s5w7pv9ZeGEX"
      },
      "source": [
        "### 10.1. Pencarian Hyperparameter Otomatis\n",
        "\n",
        "Anda dapat menggunakan `GridSearchCV` atau `RandomizedSearchCV` dari Scikit-Learn untuk menjelajahi ruang hyperparameter.\n"
      ]
    },
    {
      "cell_type": "code",
      "execution_count": 23,
      "metadata": {
        "id": "-HfqF-vCeGEX"
      },
      "outputs": [],
      "source": [
        "def build_model(n_hidden=1, n_neurons=30, learning_rate=3e-3, input_shape=[8]):\n",
        "    model = keras.models.Sequential()\n",
        "    model.add(keras.layers.InputLayer(input_shape=input_shape))\n",
        "    for layer in range(n_hidden):\n",
        "        model.add(keras.layers.Dense(n_neurons, activation=\"relu\"))\n",
        "    model.add(keras.layers.Dense(1))\n",
        "    optimizer = keras.optimizers.SGD(lr=learning_rate)\n",
        "    model.compile(loss=\"mse\", optimizer=optimizer)\n",
        "    return model\n",
        "\n",
        "# keras_reg = keras.wrappers.scikit_learn.KerasRegressor(build_model)\n",
        "\n",
        "from scipy.stats import reciprocal\n",
        "from sklearn.model_selection import RandomizedSearchCV\n",
        "\n",
        "# param_distribs = {\n",
        "#     \"n_hidden\": [0, 1, 2, 3],\n",
        "#     \"n_neurons\": np.arange(1, 100),\n",
        "#     \"learning_rate\": reciprocal(3e-4, 3e-2),\n",
        "# }\n",
        "\n",
        "# rnd_search_cv = RandomizedSearchCV(keras_reg, param_distribs, n_iter=10, cv=3)\n",
        "# rnd_search_cv.fit(X_train, y_train, epochs=100,\n",
        "#                   validation_data=(X_valid, y_valid),\n",
        "#                   callbacks=[keras.callbacks.EarlyStopping(patience=10)])\n",
        "\n",
        "# print(rnd_search_cv.best_params_)\n",
        "# print(rnd_search_cv.best_score_)\n",
        "# model = rnd_search_cv.best_estimator_.model"
      ]
    },
    {
      "cell_type": "markdown",
      "metadata": {
        "id": "7FuagljJeGEY"
      },
      "source": [
        "### 10.2. Jumlah Lapisan Tersembunyi\n",
        "\n",
        "* Untuk banyak masalah, satu lapisan tersembunyi sudah cukup.\n",
        "* Untuk masalah kompleks, jaringan yang dalam memiliki efisiensi parameter yang jauh lebih tinggi.\n",
        "* Arsitektur hierarkis DNN membantu konvergensi lebih cepat dan meningkatkan kemampuan generalisasi.\n",
        "* Dapat meningkatkan jumlah lapisan tersembunyi hingga model mulai overfitting.\n",
        "* Jika lapisan memiliki terlalu sedikit neuron, informasi penting dapat hilang.\n",
        "* Meningkatkan jumlah lapisan umumnya lebih efektif daripada meningkatkan jumlah neuron per lapisan.\n"
      ]
    },
    {
      "cell_type": "markdown",
      "metadata": {
        "id": "Ks7TfwjoeGEZ"
      },
      "source": [
        "### 10.3. Jumlah Neuron per Lapisan Tersembunyi\n",
        "\n",
        "* Jumlah neuron di lapisan input dan output ditentukan oleh jenis input/output tugas.\n",
        "* Biasanya, gunakan jumlah neuron yang sama di semua lapisan tersembunyi, atau lapisan pertama yang lebih besar dari yang lain.\n",
        "* Jika lapisan memiliki terlalu sedikit neuron, informasi penting dapat hilang.\n",
        "* Meningkatkan jumlah lapisan umumnya lebih efektif daripada meningkatkan jumlah neuron per lapisan.\n"
      ]
    },
    {
      "cell_type": "markdown",
      "metadata": {
        "id": "DxPC7TSTeGEa"
      },
      "source": [
        "### 10.4. Tingkat Pembelajaran, Ukuran Batch, dan Hyperparameter Lainnya\n",
        "\n",
        "* **Tingkat Pembelajaran (Learning Rate):** Hyperparameter paling penting. Optimalnya sekitar setengah dari tingkat pembelajaran maksimum yang menyebabkan divergensi. Dapat ditemukan dengan melatih model dengan tingkat pembelajaran yang meningkat secara eksponensial.\n",
        "* **Optimizer:** Memilih optimizer yang lebih baik dari Stochastic Gradient Descent dasar sangat penting.\n",
        "* **Ukuran Batch (Batch Size):** Dapat berdampak signifikan pada performa dan waktu pelatihan. Ukuran batch yang besar dapat mempercepat pelatihan pada GPU, tetapi dapat menyebabkan ketidakstabilan pelatihan dan generalisasi yang buruk.\n",
        "* **Fungsi Aktivasi:** ReLU adalah pilihan yang baik untuk semua lapisan tersembunyi. Untuk lapisan output, tergantung pada tugas.\n",
        "* **Jumlah Iterasi:** Dalam banyak kasus, jumlah iterasi pelatihan tidak perlu disesuaikan; cukup gunakan *early stopping*.\n"
      ]
    },
    {
      "cell_type": "markdown",
      "metadata": {
        "id": "BurQSGR9eGEa"
      },
      "source": [
        "---\n",
        "\n",
        "**Catatan Penting:**\n",
        "\n",
        "* **Reproduksi Kode:** Semua kode di atas adalah ilustratif. Untuk menjalankan dan mereproduksi hasilnya, Anda perlu merujuk pada Jupyter Notebook asli dari repositori GitHub Aurelien Géron.\n",
        "* **Penjelasan Teoritis:** Saya telah berusaha semaksimal mungkin untuk mengekstrak dan menjelaskan teori-teori kunci yang ada di Bab 10 buku ini, dengan menyertakan sitasi yang relevan untuk setiap informasi.\n",
        "* **Markdown dan LaTeX:** Saya telah menggunakan Markdown untuk struktur dan LaTeX untuk notasi matematika, sesuai instruksi.\n",
        "\n",
        "Semoga kerangka Jupyter Notebook ini bermanfaat bagi Anda!\n"
      ]
    }
  ],
  "metadata": {
    "kernelspec": {
      "display_name": "Python 3",
      "language": "python",
      "name": "python3"
    },
    "language_info": {
      "codemirror_mode": {
        "name": "ipython",
        "version": 3
      },
      "file_extension": ".py",
      "mimetype": "text/x-python",
      "name": "python",
      "nbconvert_exporter": "python",
      "pygments_lexer": "ipython3",
      "version": "3.8.10"
    },
    "colab": {
      "provenance": []
    }
  },
  "nbformat": 4,
  "nbformat_minor": 0
}