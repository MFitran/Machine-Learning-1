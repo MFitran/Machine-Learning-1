{
  "cells": [
    {
      "cell_type": "markdown",
      "metadata": {
        "id": "VdX8OtSl0wEN"
      },
      "source": [
        "# Bab 3: Klasifikasi\n",
        "\n",
        "Dalam bab ini, kita akan mendalami konsep-konsep inti klasifikasi dalam Machine Learning. Klasifikasi adalah tugas Machine Learning supervised di mana tujuannya adalah untuk memprediksi kelas atau kategori suatu input. Kita akan mempelajari berbagai metrik evaluasi untuk classifier, serta trade-off penting antara presisi dan recall.\n",
        "\n",
        "Referensi utama bab ini adalah buku *Hands-On Machine Learning with Scikit-Learn, Keras, and TensorFlow: Concepts, Tools, and Techniques to Build Intelligent Systems* (O’Reilly) oleh Aurélien Géron."
      ]
    },
    {
      "cell_type": "markdown",
      "metadata": {
        "id": "_U3WRBMd0wEU"
      },
      "source": [
        "## 3.1 MNIST\n",
        "\n",
        "Dataset MNIST adalah \"hello world\" di dunia Machine Learning untuk tugas klasifikasi gambar. Dataset ini terdiri dari 70.000 gambar kecil (28x28 piksel) tulisan tangan digit (0-9) yang dikumpulkan dari siswa sekolah menengah dan karyawan Biro Sensus AS. Setiap gambar diberi label dengan digit yang diwakilinya.\n",
        "\n",
        "Dataset ini sangat populer untuk pengujian dan perbandingan algoritma klasifikasi baru. Kita akan menggunakannya untuk melatih dan mengevaluasi model klasifikasi kita."
      ]
    },
    {
      "cell_type": "markdown",
      "metadata": {
        "id": "f_Mbern70wEV"
      },
      "source": [
        "### Memuat Dataset MNIST\n",
        "\n",
        "Scikit-Learn menyediakan fungsi pembantu untuk mengunduh dataset populer, termasuk MNIST."
      ]
    },
    {
      "cell_type": "code",
      "execution_count": 1,
      "metadata": {
        "colab": {
          "base_uri": "https://localhost:8080/"
        },
        "id": "7g0ROp5k0wEW",
        "outputId": "511b480a-6425-4690-ec2b-af6f7d1c4a19"
      },
      "outputs": [
        {
          "output_type": "stream",
          "name": "stdout",
          "text": [
            "Bentuk data (X): (70000, 784)\n",
            "Bentuk target (y): (70000,)\n",
            "Tipe data target: object\n"
          ]
        }
      ],
      "source": [
        "from sklearn.datasets import fetch_openml\n",
        "import matplotlib as mpl\n",
        "import matplotlib.pyplot as plt\n",
        "import numpy as np\n",
        "\n",
        "# Memuat dataset MNIST\n",
        "mnist = fetch_openml('mnist_784', version=1, as_frame=False) # as_frame=False agar langsung NumPy array\n",
        "X, y = mnist[\"data\"], mnist[\"target\"]\n",
        "\n",
        "print(f\"Bentuk data (X): {X.shape}\")\n",
        "print(f\"Bentuk target (y): {y.shape}\")\n",
        "print(f\"Tipe data target: {y.dtype}\")"
      ]
    },
    {
      "cell_type": "markdown",
      "metadata": {
        "id": "Iq2YARyt0wEY"
      },
      "source": [
        "Dataset yang dimuat oleh Scikit-Learn umumnya memiliki struktur kamus yang serupa, termasuk:\n",
        "* Kunci `DESCR` yang menjelaskan dataset.\n",
        "* Kunci `data` yang berisi array dengan satu baris per instance dan satu kolom per fitur.\n",
        "* Kunci `target` yang berisi array dengan label.\n",
        "\n",
        "Ada 70.000 gambar, dan setiap gambar memiliki 784 fitur. Ini karena setiap gambar adalah 28 × 28 piksel, dan setiap fitur hanya mewakili intensitas satu piksel, dari 0 (putih) hingga 255 (hitam)."
      ]
    },
    {
      "cell_type": "markdown",
      "metadata": {
        "id": "H4DPtAyw0wEY"
      },
      "source": [
        "### Melihat Sekilas Satu Digit\n",
        "\n",
        "Mari kita lihat sekilas salah satu digit dari dataset. Kita hanya perlu mengambil vektor fitur sebuah instance, mengubah bentuknya menjadi array 28 × 28, dan menampilkannya menggunakan fungsi `imshow()` Matplotlib."
      ]
    },
    {
      "cell_type": "code",
      "execution_count": 2,
      "metadata": {
        "colab": {
          "base_uri": "https://localhost:8080/",
          "height": 423
        },
        "id": "ilo6aIax0wEZ",
        "outputId": "01faa698-59f8-409f-a450-33a6b085199e"
      },
      "outputs": [
        {
          "output_type": "display_data",
          "data": {
            "text/plain": [
              "<Figure size 640x480 with 1 Axes>"
            ],
            "image/png": "[encoded data removed]"
          },
          "metadata": {}
        },
        {
          "output_type": "stream",
          "name": "stdout",
          "text": [
            "Label digit pertama: 5\n"
          ]
        }
      ],
      "source": [
        "some_digit = X[0]\n",
        "some_digit_image = some_digit.reshape(28, 28)\n",
        "\n",
        "plt.imshow(some_digit_image, cmap=\"binary\")\n",
        "plt.axis(\"off\")\n",
        "plt.show()\n",
        "\n",
        "print(f\"Label digit pertama: {y[0]}\")"
      ]
    },
    {
      "cell_type": "markdown",
      "metadata": {
        "id": "fZyuts1A0wEZ"
      },
      "source": [
        "Perhatikan bahwa labelnya adalah string. Sebagian besar algoritma ML mengharapkan angka, jadi mari kita ubah `y` menjadi integer."
      ]
    },
    {
      "cell_type": "code",
      "execution_count": 3,
      "metadata": {
        "id": "7VEHdPw20wEa"
      },
      "outputs": [],
      "source": [
        "y = y.astype(np.uint8)"
      ]
    },
    {
      "cell_type": "markdown",
      "metadata": {
        "id": "hx5Kxs2V0wEa"
      },
      "source": [
        "### Memisahkan Dataset Menjadi Set Pelatihan dan Pengujian\n",
        "\n",
        "Penting untuk selalu membuat set pengujian dan menyimpannya terpisah sebelum memeriksa data lebih dekat untuk menghindari bias pengintaian data (data snooping bias). Dataset MNIST sudah dibagi menjadi set pelatihan (60.000 gambar pertama) dan set pengujian (10.000 gambar terakhir).\n",
        "\n",
        "Set pelatihan sudah diacak, yang bagus karena ini menjamin bahwa semua *cross-validation folds* akan serupa. Selain itu, beberapa algoritma pembelajaran sensitif terhadap urutan instance pelatihan, dan mereka bekerja buruk jika mendapatkan banyak instance serupa berturut-turut. Mengacak dataset memastikan hal ini tidak akan terjadi."
      ]
    },
    {
      "cell_type": "code",
      "execution_count": 5,
      "metadata": {
        "colab": {
          "base_uri": "https://localhost:8080/"
        },
        "id": "tDoNfKof0wEb",
        "outputId": "acedfdfc-c947-48a6-9168-4770c70a7c11"
      },
      "outputs": [
        {
          "output_type": "stream",
          "name": "stdout",
          "text": [
            "Bentuk X_train: (60000, 784)\n",
            "Bentuk y_train: (60000,)\n",
            "Bentuk X_test: (10000, 784)\n",
            "Bentuk y_test: (10000,)\n"
          ]
        }
      ],
      "source": [
        "X_train, X_test, y_train, y_test = X[:60000], X[60000:], y[:60000], y[60000:]\n",
        "\n",
        "print(f\"Bentuk X_train: {X_train.shape}\")\n",
        "print(f\"Bentuk y_train: {y_train.shape}\")\n",
        "print(f\"Bentuk X_test: {X_test.shape}\")\n",
        "print(f\"Bentuk y_test: {y_test.shape}\")"
      ]
    },
    {
      "cell_type": "markdown",
      "metadata": {
        "id": "YOF3jWrV0wEb"
      },
      "source": [
        "## 3.2 Melatih Binary Classifier\n",
        "\n",
        "Mari kita sederhanakan masalah untuk saat ini dan hanya mencoba mengidentifikasi satu digit—misalnya, angka 5. \"Detektor-5\" ini akan menjadi contoh *binary classifier*, yang mampu membedakan antara dua kelas saja: 5 dan bukan-5."
      ]
    },
    {
      "cell_type": "markdown",
      "metadata": {
        "id": "tlTroDg-0wEb"
      },
      "source": [
        "### Membuat Target Vektor untuk Klasifikasi Biner"
      ]
    },
    {
      "cell_type": "code",
      "execution_count": 6,
      "metadata": {
        "colab": {
          "base_uri": "https://localhost:8080/"
        },
        "id": "7A7pBkHg0wEc",
        "outputId": "a341ff9c-1679-4e53-cce1-dd529b59ab98"
      },
      "outputs": [
        {
          "output_type": "stream",
          "name": "stdout",
          "text": [
            "Contoh y_train_5: [ True False False False False]\n"
          ]
        }
      ],
      "source": [
        "y_train_5 = (y_train == 5)\n",
        "y_test_5 = (y_test == 5)\n",
        "\n",
        "print(f\"Contoh y_train_5: {y_train_5[:5]}\")"
      ]
    },
    {
      "cell_type": "markdown",
      "metadata": {
        "id": "gKoYkR840wEc"
      },
      "source": [
        "### Memilih dan Melatih Classifier\n",
        "\n",
        "Kita akan memilih *Stochastic Gradient Descent (SGD) classifier* menggunakan kelas `SGDClassifier` dari Scikit-Learn. Classifier ini memiliki keunggulan karena mampu menangani dataset yang sangat besar secara efisien, sebagian karena SGD menangani instance pelatihan secara independen, satu per satu, yang juga membuatnya cocok untuk *online learning*."
      ]
    },
    {
      "cell_type": "code",
      "execution_count": 7,
      "metadata": {
        "colab": {
          "base_uri": "https://localhost:8080/",
          "height": 80
        },
        "id": "v8Je3I8B0wEd",
        "outputId": "16e15f2a-80a0-4a7e-8ca7-0ae29e49f13a"
      },
      "outputs": [
        {
          "output_type": "execute_result",
          "data": {
            "text/plain": [
              "SGDClassifier(random_state=42)"
            ],
            "text/html": [
              "<style>#sk-container-id-1 {\n",
              "  /* Definition of color scheme common for light and dark mode */\n",
              "  --sklearn-color-text: #000;\n",
              "  --sklearn-color-text-muted: #666;\n",
              "  --sklearn-color-line: gray;\n",
              "  /* Definition of color scheme for unfitted estimators */\n",
              "  --sklearn-color-unfitted-level-0: #fff5e6;\n",
              "  --sklearn-color-unfitted-level-1: #f6e4d2;\n",
              "  --sklearn-color-unfitted-level-2: #ffe0b3;\n",
              "  --sklearn-color-unfitted-level-3: chocolate;\n",
              "  /* Definition of color scheme for fitted estimators */\n",
              "  --sklearn-color-fitted-level-0: #f0f8ff;\n",
              "  --sklearn-color-fitted-level-1: #d4ebff;\n",
              "  --sklearn-color-fitted-level-2: #b3dbfd;\n",
              "  --sklearn-color-fitted-level-3: cornflowerblue;\n",
              "\n",
              "  /* Specific color for light theme */\n",
              "  --sklearn-color-text-on-default-background: var(--sg-text-color, var(--theme-code-foreground, var(--jp-content-font-color1, black)));\n",
              "  --sklearn-color-background: var(--sg-background-color, var(--theme-background, var(--jp-layout-color0, white)));\n",
              "  --sklearn-color-border-box: var(--sg-text-color, var(--theme-code-foreground, var(--jp-content-font-color1, black)));\n",
              "  --sklearn-color-icon: #696969;\n",
              "\n",
              "  @media (prefers-color-scheme: dark) {\n",
              "    /* Redefinition of color scheme for dark theme */\n",
              "    --sklearn-color-text-on-default-background: var(--sg-text-color, var(--theme-code-foreground, var(--jp-content-font-color1, white)));\n",
              "    --sklearn-color-background: var(--sg-background-color, var(--theme-background, var(--jp-layout-color0, #111)));\n",
              "    --sklearn-color-border-box: var(--sg-text-color, var(--theme-code-foreground, var(--jp-content-font-color1, white)));\n",
              "    --sklearn-color-icon: #878787;\n",
              "  }\n",
              "}\n",
              "\n",
              "#sk-container-id-1 {\n",
              "  color: var(--sklearn-color-text);\n",
              "}\n",
              "\n",
              "#sk-container-id-1 pre {\n",
              "  padding: 0;\n",
              "}\n",
              "\n",
              "#sk-container-id-1 input.sk-hidden--visually {\n",
              "  border: 0;\n",
              "  clip: rect(1px 1px 1px 1px);\n",
              "  clip: rect(1px, 1px, 1px, 1px);\n",
              "  height: 1px;\n",
              "  margin: -1px;\n",
              "  overflow: hidden;\n",
              "  padding: 0;\n",
              "  position: absolute;\n",
              "  width: 1px;\n",
              "}\n",
              "\n",
              "#sk-container-id-1 div.sk-dashed-wrapped {\n",
              "  border: 1px dashed var(--sklearn-color-line);\n",
              "  margin: 0 0.4em 0.5em 0.4em;\n",
              "  box-sizing: border-box;\n",
              "  padding-bottom: 0.4em;\n",
              "  background-color: var(--sklearn-color-background);\n",
              "}\n",
              "\n",
              "#sk-container-id-1 div.sk-container {\n",
              "  /* jupyter's `normalize.less` sets `[hidden] { display: none; }`\n",
              "     but bootstrap.min.css set `[hidden] { display: none !important; }`\n",
              "     so we also need the `!important` here to be able to override the\n",
              "     default hidden behavior on the sphinx rendered scikit-learn.org.\n",
              "     See: https://github.com/scikit-learn/scikit-learn/issues/21755 */\n",
              "  display: inline-block !important;\n",
              "  position: relative;\n",
              "}\n",
              "\n",
              "#sk-container-id-1 div.sk-text-repr-fallback {\n",
              "  display: none;\n",
              "}\n",
              "\n",
              "div.sk-parallel-item,\n",
              "div.sk-serial,\n",
              "div.sk-item {\n",
              "  /* draw centered vertical line to link estimators */\n",
              "  background-image: linear-gradient(var(--sklearn-color-text-on-default-background), var(--sklearn-color-text-on-default-background));\n",
              "  background-size: 2px 100%;\n",
              "  background-repeat: no-repeat;\n",
              "  background-position: center center;\n",
              "}\n",
              "\n",
              "/* Parallel-specific style estimator block */\n",
              "\n",
              "#sk-container-id-1 div.sk-parallel-item::after {\n",
              "  content: \"\";\n",
              "  width: 100%;\n",
              "  border-bottom: 2px solid var(--sklearn-color-text-on-default-background);\n",
              "  flex-grow: 1;\n",
              "}\n",
              "\n",
              "#sk-container-id-1 div.sk-parallel {\n",
              "  display: flex;\n",
              "  align-items: stretch;\n",
              "  justify-content: center;\n",
              "  background-color: var(--sklearn-color-background);\n",
              "  position: relative;\n",
              "}\n",
              "\n",
              "#sk-container-id-1 div.sk-parallel-item {\n",
              "  display: flex;\n",
              "  flex-direction: column;\n",
              "}\n",
              "\n",
              "#sk-container-id-1 div.sk-parallel-item:first-child::after {\n",
              "  align-self: flex-end;\n",
              "  width: 50%;\n",
              "}\n",
              "\n",
              "#sk-container-id-1 div.sk-parallel-item:last-child::after {\n",
              "  align-self: flex-start;\n",
              "  width: 50%;\n",
              "}\n",
              "\n",
              "#sk-container-id-1 div.sk-parallel-item:only-child::after {\n",
              "  width: 0;\n",
              "}\n",
              "\n",
              "/* Serial-specific style estimator block */\n",
              "\n",
              "#sk-container-id-1 div.sk-serial {\n",
              "  display: flex;\n",
              "  flex-direction: column;\n",
              "  align-items: center;\n",
              "  background-color: var(--sklearn-color-background);\n",
              "  padding-right: 1em;\n",
              "  padding-left: 1em;\n",
              "}\n",
              "\n",
              "\n",
              "/* Toggleable style: style used for estimator/Pipeline/ColumnTransformer box that is\n",
              "clickable and can be expanded/collapsed.\n",
              "- Pipeline and ColumnTransformer use this feature and define the default style\n",
              "- Estimators will overwrite some part of the style using the `sk-estimator` class\n",
              "*/\n",
              "\n",
              "/* Pipeline and ColumnTransformer style (default) */\n",
              "\n",
              "#sk-container-id-1 div.sk-toggleable {\n",
              "  /* Default theme specific background. It is overwritten whether we have a\n",
              "  specific estimator or a Pipeline/ColumnTransformer */\n",
              "  background-color: var(--sklearn-color-background);\n",
              "}\n",
              "\n",
              "/* Toggleable label */\n",
              "#sk-container-id-1 label.sk-toggleable__label {\n",
              "  cursor: pointer;\n",
              "  display: flex;\n",
              "  width: 100%;\n",
              "  margin-bottom: 0;\n",
              "  padding: 0.5em;\n",
              "  box-sizing: border-box;\n",
              "  text-align: center;\n",
              "  align-items: start;\n",
              "  justify-content: space-between;\n",
              "  gap: 0.5em;\n",
              "}\n",
              "\n",
              "#sk-container-id-1 label.sk-toggleable__label .caption {\n",
              "  font-size: 0.6rem;\n",
              "  font-weight: lighter;\n",
              "  color: var(--sklearn-color-text-muted);\n",
              "}\n",
              "\n",
              "#sk-container-id-1 label.sk-toggleable__label-arrow:before {\n",
              "  /* Arrow on the left of the label */\n",
              "  content: \"▸\";\n",
              "  float: left;\n",
              "  margin-right: 0.25em;\n",
              "  color: var(--sklearn-color-icon);\n",
              "}\n",
              "\n",
              "#sk-container-id-1 label.sk-toggleable__label-arrow:hover:before {\n",
              "  color: var(--sklearn-color-text);\n",
              "}\n",
              "\n",
              "/* Toggleable content - dropdown */\n",
              "\n",
              "#sk-container-id-1 div.sk-toggleable__content {\n",
              "  max-height: 0;\n",
              "  max-width: 0;\n",
              "  overflow: hidden;\n",
              "  text-align: left;\n",
              "  /* unfitted */\n",
              "  background-color: var(--sklearn-color-unfitted-level-0);\n",
              "}\n",
              "\n",
              "#sk-container-id-1 div.sk-toggleable__content.fitted {\n",
              "  /* fitted */\n",
              "  background-color: var(--sklearn-color-fitted-level-0);\n",
              "}\n",
              "\n",
              "#sk-container-id-1 div.sk-toggleable__content pre {\n",
              "  margin: 0.2em;\n",
              "  border-radius: 0.25em;\n",
              "  color: var(--sklearn-color-text);\n",
              "  /* unfitted */\n",
              "  background-color: var(--sklearn-color-unfitted-level-0);\n",
              "}\n",
              "\n",
              "#sk-container-id-1 div.sk-toggleable__content.fitted pre {\n",
              "  /* unfitted */\n",
              "  background-color: var(--sklearn-color-fitted-level-0);\n",
              "}\n",
              "\n",
              "#sk-container-id-1 input.sk-toggleable__control:checked~div.sk-toggleable__content {\n",
              "  /* Expand drop-down */\n",
              "  max-height: 200px;\n",
              "  max-width: 100%;\n",
              "  overflow: auto;\n",
              "}\n",
              "\n",
              "#sk-container-id-1 input.sk-toggleable__control:checked~label.sk-toggleable__label-arrow:before {\n",
              "  content: \"▾\";\n",
              "}\n",
              "\n",
              "/* Pipeline/ColumnTransformer-specific style */\n",
              "\n",
              "#sk-container-id-1 div.sk-label input.sk-toggleable__control:checked~label.sk-toggleable__label {\n",
              "  color: var(--sklearn-color-text);\n",
              "  background-color: var(--sklearn-color-unfitted-level-2);\n",
              "}\n",
              "\n",
              "#sk-container-id-1 div.sk-label.fitted input.sk-toggleable__control:checked~label.sk-toggleable__label {\n",
              "  background-color: var(--sklearn-color-fitted-level-2);\n",
              "}\n",
              "\n",
              "/* Estimator-specific style */\n",
              "\n",
              "/* Colorize estimator box */\n",
              "#sk-container-id-1 div.sk-estimator input.sk-toggleable__control:checked~label.sk-toggleable__label {\n",
              "  /* unfitted */\n",
              "  background-color: var(--sklearn-color-unfitted-level-2);\n",
              "}\n",
              "\n",
              "#sk-container-id-1 div.sk-estimator.fitted input.sk-toggleable__control:checked~label.sk-toggleable__label {\n",
              "  /* fitted */\n",
              "  background-color: var(--sklearn-color-fitted-level-2);\n",
              "}\n",
              "\n",
              "#sk-container-id-1 div.sk-label label.sk-toggleable__label,\n",
              "#sk-container-id-1 div.sk-label label {\n",
              "  /* The background is the default theme color */\n",
              "  color: var(--sklearn-color-text-on-default-background);\n",
              "}\n",
              "\n",
              "/* On hover, darken the color of the background */\n",
              "#sk-container-id-1 div.sk-label:hover label.sk-toggleable__label {\n",
              "  color: var(--sklearn-color-text);\n",
              "  background-color: var(--sklearn-color-unfitted-level-2);\n",
              "}\n",
              "\n",
              "/* Label box, darken color on hover, fitted */\n",
              "#sk-container-id-1 div.sk-label.fitted:hover label.sk-toggleable__label.fitted {\n",
              "  color: var(--sklearn-color-text);\n",
              "  background-color: var(--sklearn-color-fitted-level-2);\n",
              "}\n",
              "\n",
              "/* Estimator label */\n",
              "\n",
              "#sk-container-id-1 div.sk-label label {\n",
              "  font-family: monospace;\n",
              "  font-weight: bold;\n",
              "  display: inline-block;\n",
              "  line-height: 1.2em;\n",
              "}\n",
              "\n",
              "#sk-container-id-1 div.sk-label-container {\n",
              "  text-align: center;\n",
              "}\n",
              "\n",
              "/* Estimator-specific */\n",
              "#sk-container-id-1 div.sk-estimator {\n",
              "  font-family: monospace;\n",
              "  border: 1px dotted var(--sklearn-color-border-box);\n",
              "  border-radius: 0.25em;\n",
              "  box-sizing: border-box;\n",
              "  margin-bottom: 0.5em;\n",
              "  /* unfitted */\n",
              "  background-color: var(--sklearn-color-unfitted-level-0);\n",
              "}\n",
              "\n",
              "#sk-container-id-1 div.sk-estimator.fitted {\n",
              "  /* fitted */\n",
              "  background-color: var(--sklearn-color-fitted-level-0);\n",
              "}\n",
              "\n",
              "/* on hover */\n",
              "#sk-container-id-1 div.sk-estimator:hover {\n",
              "  /* unfitted */\n",
              "  background-color: var(--sklearn-color-unfitted-level-2);\n",
              "}\n",
              "\n",
              "#sk-container-id-1 div.sk-estimator.fitted:hover {\n",
              "  /* fitted */\n",
              "  background-color: var(--sklearn-color-fitted-level-2);\n",
              "}\n",
              "\n",
              "/* Specification for estimator info (e.g. \"i\" and \"?\") */\n",
              "\n",
              "/* Common style for \"i\" and \"?\" */\n",
              "\n",
              ".sk-estimator-doc-link,\n",
              "a:link.sk-estimator-doc-link,\n",
              "a:visited.sk-estimator-doc-link {\n",
              "  float: right;\n",
              "  font-size: smaller;\n",
              "  line-height: 1em;\n",
              "  font-family: monospace;\n",
              "  background-color: var(--sklearn-color-background);\n",
              "  border-radius: 1em;\n",
              "  height: 1em;\n",
              "  width: 1em;\n",
              "  text-decoration: none !important;\n",
              "  margin-left: 0.5em;\n",
              "  text-align: center;\n",
              "  /* unfitted */\n",
              "  border: var(--sklearn-color-unfitted-level-1) 1pt solid;\n",
              "  color: var(--sklearn-color-unfitted-level-1);\n",
              "}\n",
              "\n",
              ".sk-estimator-doc-link.fitted,\n",
              "a:link.sk-estimator-doc-link.fitted,\n",
              "a:visited.sk-estimator-doc-link.fitted {\n",
              "  /* fitted */\n",
              "  border: var(--sklearn-color-fitted-level-1) 1pt solid;\n",
              "  color: var(--sklearn-color-fitted-level-1);\n",
              "}\n",
              "\n",
              "/* On hover */\n",
              "div.sk-estimator:hover .sk-estimator-doc-link:hover,\n",
              ".sk-estimator-doc-link:hover,\n",
              "div.sk-label-container:hover .sk-estimator-doc-link:hover,\n",
              ".sk-estimator-doc-link:hover {\n",
              "  /* unfitted */\n",
              "  background-color: var(--sklearn-color-unfitted-level-3);\n",
              "  color: var(--sklearn-color-background);\n",
              "  text-decoration: none;\n",
              "}\n",
              "\n",
              "div.sk-estimator.fitted:hover .sk-estimator-doc-link.fitted:hover,\n",
              ".sk-estimator-doc-link.fitted:hover,\n",
              "div.sk-label-container:hover .sk-estimator-doc-link.fitted:hover,\n",
              ".sk-estimator-doc-link.fitted:hover {\n",
              "  /* fitted */\n",
              "  background-color: var(--sklearn-color-fitted-level-3);\n",
              "  color: var(--sklearn-color-background);\n",
              "  text-decoration: none;\n",
              "}\n",
              "\n",
              "/* Span, style for the box shown on hovering the info icon */\n",
              ".sk-estimator-doc-link span {\n",
              "  display: none;\n",
              "  z-index: 9999;\n",
              "  position: relative;\n",
              "  font-weight: normal;\n",
              "  right: .2ex;\n",
              "  padding: .5ex;\n",
              "  margin: .5ex;\n",
              "  width: min-content;\n",
              "  min-width: 20ex;\n",
              "  max-width: 50ex;\n",
              "  color: var(--sklearn-color-text);\n",
              "  box-shadow: 2pt 2pt 4pt #999;\n",
              "  /* unfitted */\n",
              "  background: var(--sklearn-color-unfitted-level-0);\n",
              "  border: .5pt solid var(--sklearn-color-unfitted-level-3);\n",
              "}\n",
              "\n",
              ".sk-estimator-doc-link.fitted span {\n",
              "  /* fitted */\n",
              "  background: var(--sklearn-color-fitted-level-0);\n",
              "  border: var(--sklearn-color-fitted-level-3);\n",
              "}\n",
              "\n",
              ".sk-estimator-doc-link:hover span {\n",
              "  display: block;\n",
              "}\n",
              "\n",
              "/* \"?\"-specific style due to the `<a>` HTML tag */\n",
              "\n",
              "#sk-container-id-1 a.estimator_doc_link {\n",
              "  float: right;\n",
              "  font-size: 1rem;\n",
              "  line-height: 1em;\n",
              "  font-family: monospace;\n",
              "  background-color: var(--sklearn-color-background);\n",
              "  border-radius: 1rem;\n",
              "  height: 1rem;\n",
              "  width: 1rem;\n",
              "  text-decoration: none;\n",
              "  /* unfitted */\n",
              "  color: var(--sklearn-color-unfitted-level-1);\n",
              "  border: var(--sklearn-color-unfitted-level-1) 1pt solid;\n",
              "}\n",
              "\n",
              "#sk-container-id-1 a.estimator_doc_link.fitted {\n",
              "  /* fitted */\n",
              "  border: var(--sklearn-color-fitted-level-1) 1pt solid;\n",
              "  color: var(--sklearn-color-fitted-level-1);\n",
              "}\n",
              "\n",
              "/* On hover */\n",
              "#sk-container-id-1 a.estimator_doc_link:hover {\n",
              "  /* unfitted */\n",
              "  background-color: var(--sklearn-color-unfitted-level-3);\n",
              "  color: var(--sklearn-color-background);\n",
              "  text-decoration: none;\n",
              "}\n",
              "\n",
              "#sk-container-id-1 a.estimator_doc_link.fitted:hover {\n",
              "  /* fitted */\n",
              "  background-color: var(--sklearn-color-fitted-level-3);\n",
              "}\n",
              "</style><div id=\"sk-container-id-1\" class=\"sk-top-container\"><div class=\"sk-text-repr-fallback\"><pre>SGDClassifier(random_state=42)</pre><b>In a Jupyter environment, please rerun this cell to show the HTML representation or trust the notebook. <br />On GitHub, the HTML representation is unable to render, please try loading this page with nbviewer.org.</b></div><div class=\"sk-container\" hidden><div class=\"sk-item\"><div class=\"sk-estimator fitted sk-toggleable\"><input class=\"sk-toggleable__control sk-hidden--visually\" id=\"sk-estimator-id-1\" type=\"checkbox\" checked><label for=\"sk-estimator-id-1\" class=\"sk-toggleable__label fitted sk-toggleable__label-arrow\"><div><div>SGDClassifier</div></div><div><a class=\"sk-estimator-doc-link fitted\" rel=\"noreferrer\" target=\"_blank\" href=\"https://scikit-learn.org/1.6/modules/generated/sklearn.linear_model.SGDClassifier.html\">?<span>Documentation for SGDClassifier</span></a><span class=\"sk-estimator-doc-link fitted\">i<span>Fitted</span></span></div></label><div class=\"sk-toggleable__content fitted\"><pre>SGDClassifier(random_state=42)</pre></div> </div></div></div></div>"
            ]
          },
          "metadata": {},
          "execution_count": 7
        }
      ],
      "source": [
        "from sklearn.linear_model import SGDClassifier\n",
        "\n",
        "sgd_clf = SGDClassifier(random_state=42)\n",
        "sgd_clf.fit(X_train, y_train_5)"
      ]
    },
    {
      "cell_type": "markdown",
      "metadata": {
        "id": "VhaToK7c0wEd"
      },
      "source": [
        "Setelah melatih classifier, kita bisa menggunakannya untuk mendeteksi gambar angka 5."
      ]
    },
    {
      "cell_type": "code",
      "execution_count": 8,
      "metadata": {
        "colab": {
          "base_uri": "https://localhost:8080/"
        },
        "id": "0spARW8K0wEe",
        "outputId": "84887c29-9c20-4e99-d0d5-b851ebbe2abf"
      },
      "outputs": [
        {
          "output_type": "stream",
          "name": "stdout",
          "text": [
            "Prediksi untuk some_digit (yang adalah 5): [ True]\n"
          ]
        }
      ],
      "source": [
        "some_digit_pred = sgd_clf.predict([some_digit])\n",
        "print(f\"Prediksi untuk some_digit (yang adalah 5): {some_digit_pred}\")"
      ]
    },
    {
      "cell_type": "markdown",
      "metadata": {
        "id": "Mbpn00wd0wEe"
      },
      "source": [
        "## 3.3 Performance Measures (Pengukuran Kinerja)\n",
        "\n",
        "Mengevaluasi classifier seringkali jauh lebih rumit daripada mengevaluasi regressor."
      ]
    },
    {
      "cell_type": "markdown",
      "metadata": {
        "id": "irDOKAfj0wEf"
      },
      "source": [
        "### 3.3.1 Measuring Accuracy Using Cross-Validation (Mengukur Akurasi Menggunakan Cross-Validation)\n",
        "\n",
        "Salah satu cara yang baik untuk mengevaluasi model adalah dengan menggunakan cross-validation, seperti yang Anda lakukan di Bab 2."
      ]
    },
    {
      "cell_type": "code",
      "execution_count": 9,
      "metadata": {
        "colab": {
          "base_uri": "https://localhost:8080/"
        },
        "id": "y71aKitw0wEf",
        "outputId": "fd674260-6676-439f-d27e-2b9bdaaf7daa"
      },
      "outputs": [
        {
          "output_type": "stream",
          "name": "stdout",
          "text": [
            "Skor akurasi cross-validation: [0.95035 0.96035 0.9604 ]\n"
          ]
        }
      ],
      "source": [
        "from sklearn.model_selection import cross_val_score\n",
        "\n",
        "# Menggunakan cross_val_score untuk SGDClassifier\n",
        "scores = cross_val_score(sgd_clf, X_train, y_train_5, cv=3, scoring=\"accuracy\")\n",
        "print(f\"Skor akurasi cross-validation: {scores}\")"
      ]
    },
    {
      "cell_type": "markdown",
      "metadata": {
        "id": "hvQcB_X20wEf"
      },
      "source": [
        "Hasil ini mungkin terlihat sangat tinggi (misalnya, di atas 93% akurasi). Namun, akurasi bukanlah ukuran kinerja yang disukai untuk classifier, terutama ketika Anda berhadapan dengan dataset yang miring (yaitu, ketika beberapa kelas jauh lebih sering daripada yang lain).\n",
        "\n",
        "Untuk menunjukkan ini, mari kita lihat classifier yang sangat sederhana yang selalu mengklasifikasikan setiap gambar dalam kelas \"bukan-5\"."
      ]
    },
    {
      "cell_type": "code",
      "execution_count": 10,
      "metadata": {
        "colab": {
          "base_uri": "https://localhost:8080/"
        },
        "id": "Fu08Rzz10wEf",
        "outputId": "4e498278-a687-48ed-ac0c-0b8f191bbb76"
      },
      "outputs": [
        {
          "output_type": "stream",
          "name": "stdout",
          "text": [
            "Skor akurasi Never5Classifier: [0.91125 0.90855 0.90915]\n"
          ]
        }
      ],
      "source": [
        "from sklearn.base import BaseEstimator\n",
        "\n",
        "class Never5Classifier(BaseEstimator):\n",
        "    def fit(self, X, y=None):\n",
        "        return self\n",
        "    def predict(self, X):\n",
        "        return np.zeros((len(X), 1), dtype=bool)\n",
        "\n",
        "never_5_clf = Never5Classifier()\n",
        "never_5_scores = cross_val_score(never_5_clf, X_train, y_train_5, cv=3, scoring=\"accuracy\")\n",
        "print(f\"Skor akurasi Never5Classifier: {never_5_scores}\")"
      ]
    },
    {
      "cell_type": "markdown",
      "metadata": {
        "id": "SYcu6sTn0wEg"
      },
      "source": [
        "Classifier ini memiliki akurasi di atas 90% karena hanya sekitar 10% gambar yang merupakan angka 5. Jika Anda selalu menebak bahwa sebuah gambar bukan angka 5, Anda akan benar sekitar 90% dari waktu."
      ]
    },
    {
      "cell_type": "markdown",
      "metadata": {
        "id": "wyFIP3HH0wEg"
      },
      "source": [
        "### 3.3.2 Confusion Matrix\n",
        "\n",
        "Cara yang jauh lebih baik untuk mengevaluasi kinerja classifier adalah dengan melihat *confusion matrix*. Ide umumnya adalah menghitung berapa kali instance dari kelas A diklasifikasikan sebagai kelas B."
      ]
    },
    {
      "cell_type": "code",
      "execution_count": 11,
      "metadata": {
        "colab": {
          "base_uri": "https://localhost:8080/"
        },
        "id": "mNWUq6f90wEg",
        "outputId": "87db9633-4072-4db0-ad8c-c16fb6be961f"
      },
      "outputs": [
        {
          "output_type": "stream",
          "name": "stdout",
          "text": [
            "Confusion Matrix:\n",
            "[[53892   687]\n",
            " [ 1891  3530]]\n"
          ]
        }
      ],
      "source": [
        "from sklearn.model_selection import cross_val_predict\n",
        "from sklearn.metrics import confusion_matrix\n",
        "\n",
        "y_train_pred = cross_val_predict(sgd_clf, X_train, y_train_5, cv=3)\n",
        "conf_mx = confusion_matrix(y_train_5, y_train_pred)\n",
        "print(\"Confusion Matrix:\")\n",
        "print(conf_mx)"
      ]
    },
    {
      "cell_type": "markdown",
      "metadata": {
        "id": "7rrtpDaH0wEg"
      },
      "source": [
        "Setiap baris dalam confusion matrix mewakili kelas aktual, sedangkan setiap kolom mewakili kelas yang diprediksi.\n",
        "\n",
        "* Baris pertama (kelas negatif, \"bukan-5\"):\n",
        "    * **True Negatives (TN):** Jumlah instance yang diklasifikasikan dengan benar sebagai bukan-5.\n",
        "    * **False Positives (FP):** Jumlah instance yang salah diklasifikasikan sebagai 5.\n",
        "* Baris kedua (kelas positif, \"5\"):\n",
        "    * **False Negatives (FN):** Jumlah instance yang salah diklasifikasikan sebagai bukan-5.\n",
        "    * **True Positives (TP):** Jumlah instance yang diklasifikasikan dengan benar sebagai 5.\n",
        "\n",
        "Classifier yang sempurna hanya akan memiliki true positives dan true negatives, sehingga confusion matrix-nya hanya akan memiliki nilai bukan-nol pada diagonal utamanya."
      ]
    },
    {
      "cell_type": "code",
      "execution_count": 12,
      "metadata": {
        "colab": {
          "base_uri": "https://localhost:8080/"
        },
        "id": "cjHRNzqn0wEg",
        "outputId": "b71ff3f2-5151-4b2d-ff86-058d051f68cc"
      },
      "outputs": [
        {
          "output_type": "stream",
          "name": "stdout",
          "text": [
            "\n",
            "Confusion Matrix (Sempurna):\n",
            "[[54579     0]\n",
            " [    0  5421]]\n"
          ]
        }
      ],
      "source": [
        "# Contoh confusion matrix untuk classifier sempurna\n",
        "y_train_perfect_predictions = y_train_5  # Pura-pura mencapai kesempurnaan\n",
        "perfect_conf_mx = confusion_matrix(y_train_5, y_train_perfect_predictions)\n",
        "print(\"\\nConfusion Matrix (Sempurna):\")\n",
        "print(perfect_conf_mx)"
      ]
    },
    {
      "cell_type": "markdown",
      "metadata": {
        "id": "YexM0ObT0wEh"
      },
      "source": [
        "### 3.3.3 Precision and Recall (Presisi dan Recall)\n",
        "\n",
        "Salah satu yang menarik untuk dilihat adalah akurasi prediksi positif; ini disebut *precision* (presisi) classifier."
      ]
    },
    {
      "cell_type": "code",
      "execution_count": 13,
      "metadata": {
        "colab": {
          "base_uri": "https://localhost:8080/"
        },
        "id": "M3j7UcR70wEh",
        "outputId": "a6ff6579-1714-4d8c-8785-0e2fa74b58ba"
      },
      "outputs": [
        {
          "output_type": "stream",
          "name": "stdout",
          "text": [
            "\n",
            "Presisi: 0.8370879772350012\n",
            "Recall: 0.6511713705958311\n"
          ]
        }
      ],
      "source": [
        "from sklearn.metrics import precision_score, recall_score\n",
        "\n",
        "precision = precision_score(y_train_5, y_train_pred)\n",
        "recall = recall_score(y_train_5, y_train_pred)\n",
        "\n",
        "print(f\"\\nPresisi: {precision}\")\n",
        "print(f\"Recall: {recall}\")"
      ]
    },
    {
      "cell_type": "markdown",
      "metadata": {
        "id": "do8ynrKP0wEh"
      },
      "source": [
        "Seringkali nyaman untuk menggabungkan presisi dan recall ke dalam satu metrik yang disebut *F1 score*, terutama jika Anda memerlukan cara sederhana untuk membandingkan dua classifier. F1 score adalah *harmonic mean* dari presisi dan recall."
      ]
    },
    {
      "cell_type": "code",
      "execution_count": 14,
      "metadata": {
        "colab": {
          "base_uri": "https://localhost:8080/"
        },
        "id": "NJay0Vjh0wEh",
        "outputId": "a2219e17-e415-4834-c6c2-83427d18e130"
      },
      "outputs": [
        {
          "output_type": "stream",
          "name": "stdout",
          "text": [
            "F1 Score: 0.7325171197343847\n"
          ]
        }
      ],
      "source": [
        "from sklearn.metrics import f1_score\n",
        "\n",
        "f1 = f1_score(y_train_5, y_train_pred)\n",
        "print(f\"F1 Score: {f1}\")"
      ]
    },
    {
      "cell_type": "markdown",
      "metadata": {
        "id": "KmQX8tuH0wEh"
      },
      "source": [
        "### 3.3.4 Precision/Recall Trade-off (Trade-off Presisi/Recall)\n",
        "\n",
        "Sayangnya, Anda tidak bisa mendapatkan keduanya: meningkatkan presisi mengurangi recall, dan sebaliknya. Ini disebut *precision/recall trade-off*.\n",
        "\n",
        "Classifier seperti `SGDClassifier` membuat keputusan klasifikasinya berdasarkan fungsi keputusan. Jika skor dari fungsi keputusan ini lebih besar dari ambang batas tertentu, ia menetapkan instance ke kelas positif; jika tidak, ia menetapkannya ke kelas negatif."
      ]
    },
    {
      "cell_type": "code",
      "execution_count": 15,
      "metadata": {
        "colab": {
          "base_uri": "https://localhost:8080/"
        },
        "id": "4ss_ODcs0wEi",
        "outputId": "f7242a3e-dd74-4862-fb0c-98045c38ad03"
      },
      "outputs": [
        {
          "output_type": "stream",
          "name": "stdout",
          "text": [
            "Skor keputusan untuk some_digit: [2164.22030239]\n",
            "Prediksi dengan ambang batas 0: [ True]\n",
            "Prediksi dengan ambang batas 8000: [False]\n"
          ]
        }
      ],
      "source": [
        "y_scores = sgd_clf.decision_function([some_digit])\n",
        "print(f\"Skor keputusan untuk some_digit: {y_scores}\")\n",
        "\n",
        "threshold = 0\n",
        "y_some_digit_pred_thresh0 = (y_scores > threshold)\n",
        "print(f\"Prediksi dengan ambang batas 0: {y_some_digit_pred_thresh0}\")\n",
        "\n",
        "threshold = 8000\n",
        "y_some_digit_pred_thresh8k = (y_scores > threshold)\n",
        "print(f\"Prediksi dengan ambang batas 8000: {y_some_digit_pred_thresh8k}\")"
      ]
    },
    {
      "cell_type": "markdown",
      "metadata": {
        "id": "a-od5Idt0wEi"
      },
      "source": [
        "Untuk memutuskan ambang batas mana yang akan digunakan, kita bisa menggunakan fungsi `precision_recall_curve()` untuk menghitung presisi dan recall untuk semua kemungkinan ambang batas."
      ]
    },
    {
      "cell_type": "code",
      "execution_count": 16,
      "metadata": {
        "colab": {
          "base_uri": "https://localhost:8080/",
          "height": 564
        },
        "id": "noUw0JW20wEi",
        "outputId": "57ce75fd-d5e5-4930-9fa2-7ae50d2ad448"
      },
      "outputs": [
        {
          "output_type": "display_data",
          "data": {
            "text/plain": [
              "<Figure size 1000x600 with 1 Axes>"
            ],
            "image/png": "[encoded data removed]"
          },
          "metadata": {}
        }
      ],
      "source": [
        "from sklearn.metrics import precision_recall_curve\n",
        "\n",
        "y_scores_train = cross_val_predict(sgd_clf, X_train, y_train_5, cv=3, method=\"decision_function\")\n",
        "precisions, recalls, thresholds = precision_recall_curve(y_train_5, y_scores_train)\n",
        "\n",
        "# Plot presisi dan recall sebagai fungsi dari nilai ambang batas\n",
        "plt.figure(figsize=(10, 6))\n",
        "plt.plot(thresholds, precisions[:-1], \"b--\", label=\"Precision\")\n",
        "plt.plot(thresholds, recalls[:-1], \"g-\", label=\"Recall\")\n",
        "plt.xlabel(\"Threshold\")\n",
        "plt.legend(loc=\"center left\")\n",
        "plt.grid(True)\n",
        "plt.title(\"Precision and Recall vs. Decision Threshold\")\n",
        "plt.show()"
      ]
    },
    {
      "cell_type": "markdown",
      "metadata": {
        "id": "mdg84Q270wEi"
      },
      "source": [
        "Cara lain untuk memilih trade-off presisi/recall yang baik adalah dengan memplot presisi langsung terhadap recall."
      ]
    },
    {
      "cell_type": "code",
      "execution_count": 17,
      "metadata": {
        "colab": {
          "base_uri": "https://localhost:8080/",
          "height": 564
        },
        "id": "qe6G5lNk0wEi",
        "outputId": "ac50f639-d190-4041-dcfb-cef55872e033"
      },
      "outputs": [
        {
          "output_type": "display_data",
          "data": {
            "text/plain": [
              "<Figure size 800x600 with 1 Axes>"
            ],
            "image/png": "[encoded data removed]"
          },
          "metadata": {}
        }
      ],
      "source": [
        "plt.figure(figsize=(8, 6))\n",
        "plt.plot(recalls, precisions, \"b-\", linewidth=2)\n",
        "plt.xlabel(\"Recall\")\n",
        "plt.ylabel(\"Precision\")\n",
        "plt.grid(True)\n",
        "plt.title(\"Precision vs. Recall Curve\")\n",
        "plt.show()"
      ]
    },
    {
      "cell_type": "markdown",
      "metadata": {
        "id": "UDXbryk_0wEi"
      },
      "source": [
        "### 3.3.5 The ROC Curve (Kurva ROC)\n",
        "\n",
        "Kurva *Receiver Operating Characteristic (ROC)* adalah alat umum lainnya yang digunakan dengan classifier biner. Kurva ROC memplot *true positive rate (TPR)* (recall) terhadap *false positive rate (FPR)*. FPR adalah rasio instance negatif yang salah diklasifikasikan sebagai positif. Ini sama dengan 1 – *true negative rate (TNR)*, yang merupakan rasio instance negatif yang diklasifikasikan dengan benar sebagai negatif (TNR juga disebut *specificity*)."
      ]
    },
    {
      "cell_type": "code",
      "execution_count": 18,
      "metadata": {
        "colab": {
          "base_uri": "https://localhost:8080/",
          "height": 564
        },
        "id": "fnWUZ09d0wEn",
        "outputId": "151daee8-2af0-428d-a66e-e2462ba34653"
      },
      "outputs": [
        {
          "output_type": "display_data",
          "data": {
            "text/plain": [
              "<Figure size 800x600 with 1 Axes>"
            ],
            "image/png": "[encoded data removed]"
          },
          "metadata": {}
        }
      ],
      "source": [
        "from sklearn.metrics import roc_curve\n",
        "\n",
        "fpr, tpr, thresholds_roc = roc_curve(y_train_5, y_scores_train)\n",
        "\n",
        "plt.figure(figsize=(8, 6))\n",
        "plt.plot(fpr, tpr, linewidth=2, label=\"SGD Classifier\")\n",
        "plt.plot([0, 1], [0, 1], 'k--', label=\"Random Classifier\") # Dashed diagonal\n",
        "plt.xlabel(\"False Positive Rate (FPR)\")\n",
        "plt.ylabel(\"True Positive Rate (TPR) / Recall\")\n",
        "plt.grid(True)\n",
        "plt.legend(loc=\"lower right\")\n",
        "plt.title(\"ROC Curve\")\n",
        "plt.show()"
      ]
    },
    {
      "cell_type": "markdown",
      "metadata": {
        "id": "sNW15bR80wEn"
      },
      "source": [
        "Salah satu cara untuk membandingkan classifier adalah dengan mengukur *area under the curve (AUC)*. Classifier yang sempurna akan memiliki ROC AUC sama dengan 1, sedangkan classifier yang sepenuhnya acak akan memiliki ROC AUC sama dengan 0.5."
      ]
    },
    {
      "cell_type": "code",
      "execution_count": 19,
      "metadata": {
        "colab": {
          "base_uri": "https://localhost:8080/"
        },
        "id": "9HO0Ox4m0wEn",
        "outputId": "0a171ccb-d1a6-45ab-fe54-5f5312a9842e"
      },
      "outputs": [
        {
          "output_type": "stream",
          "name": "stdout",
          "text": [
            "ROC AUC Score (SGDClassifier): 0.9604938554008616\n"
          ]
        }
      ],
      "source": [
        "from sklearn.metrics import roc_auc_score\n",
        "\n",
        "roc_auc = roc_auc_score(y_train_5, y_scores_train)\n",
        "print(f\"ROC AUC Score (SGDClassifier): {roc_auc}\")"
      ]
    },
    {
      "cell_type": "markdown",
      "metadata": {
        "id": "wMfbeZ-a0wEo"
      },
      "source": [
        "Mari kita latih `RandomForestClassifier` dan bandingkan kurva ROC dan skor ROC AUC-nya dengan `SGDClassifier`. `RandomForestClassifier` tidak memiliki metode `decision_function()`, melainkan metode `predict_proba()`. Metode `predict_proba()` mengembalikan array yang berisi baris per instance dan kolom per kelas, masing-masing berisi probabilitas bahwa instance yang diberikan termasuk dalam kelas yang diberikan."
      ]
    },
    {
      "cell_type": "code",
      "execution_count": 20,
      "metadata": {
        "colab": {
          "base_uri": "https://localhost:8080/",
          "height": 581
        },
        "id": "0I6MEReS0wEo",
        "outputId": "ed50587b-6ede-48ef-a99d-ef5fb7708e38"
      },
      "outputs": [
        {
          "output_type": "display_data",
          "data": {
            "text/plain": [
              "<Figure size 800x600 with 1 Axes>"
            ],
            "image/png": "[encoded data removed]"
          },
          "metadata": {}
        },
        {
          "output_type": "stream",
          "name": "stdout",
          "text": [
            "ROC AUC Score (RandomForestClassifier): 0.9983436731328145\n"
          ]
        }
      ],
      "source": [
        "from sklearn.ensemble import RandomForestClassifier\n",
        "\n",
        "forest_clf = RandomForestClassifier(random_state=42)\n",
        "y_probas_forest = cross_val_predict(forest_clf, X_train, y_train_5, cv=3, method=\"predict_proba\")\n",
        "\n",
        "# Kita gunakan probabilitas kelas positif sebagai skor\n",
        "y_scores_forest = y_probas_forest[:, 1]\n",
        "fpr_forest, tpr_forest, thresholds_forest = roc_curve(y_train_5, y_scores_forest)\n",
        "\n",
        "# Plot perbandingan kurva ROC\n",
        "plt.figure(figsize=(8, 6))\n",
        "plt.plot(fpr, tpr, \"b:\", linewidth=2, label=\"SGD Classifier\")\n",
        "plt.plot(fpr_forest, tpr_forest, linewidth=2, label=\"Random Forest Classifier\")\n",
        "plt.plot([0, 1], [0, 1], 'k--') # Dashed diagonal\n",
        "plt.xlabel(\"False Positive Rate (FPR)\")\n",
        "plt.ylabel(\"True Positive Rate (TPR) / Recall\")\n",
        "plt.grid(True)\n",
        "plt.legend(loc=\"lower right\")\n",
        "plt.title(\"ROC Curve Comparison\")\n",
        "plt.show()\n",
        "\n",
        "roc_auc_forest = roc_auc_score(y_train_5, y_scores_forest)\n",
        "print(f\"ROC AUC Score (RandomForestClassifier): {roc_auc_forest}\")"
      ]
    },
    {
      "cell_type": "markdown",
      "metadata": {
        "id": "T3i2bVzo0wEo"
      },
      "source": [
        "## 3.4 Multiclass Classification (Klasifikasi Multikelas)\n",
        "\n",
        "Sementara classifier biner membedakan antara dua kelas, *multiclass classifiers* (juga disebut *multinomial classifiers*) dapat membedakan antara lebih dari dua kelas.\n",
        "\n",
        "Beberapa algoritma (seperti classifier SGD, classifier Random Forest, dan classifier Naive Bayes) mampu menangani banyak kelas secara native. Yang lain (seperti Logistic Regression atau Support Vector Machine classifiers) adalah classifier biner. Namun, ada berbagai strategi yang dapat Anda gunakan untuk melakukan klasifikasi multikelas dengan beberapa classifier biner.\n",
        "\n",
        "* **One-versus-the-rest (OvR) / One-versus-all:** Latih 10 classifier biner, satu untuk setiap digit (detektor-0, detektor-1, detektor-2, dan seterusnya). Ketika Anda ingin mengklasifikasikan sebuah gambar, Anda mendapatkan skor keputusan dari setiap classifier untuk gambar itu dan Anda memilih kelas yang classifier-nya menghasilkan skor tertinggi.\n",
        "* **One-versus-one (OvO):** Latih classifier biner untuk setiap pasangan digit: satu untuk membedakan 0s dan 1s, satu lagi untuk membedakan 0s dan 2s, satu lagi untuk 1s dan 2s, dan seterusnya. Jika ada N kelas, Anda perlu melatih N × (N – 1) / 2 classifier.\n",
        "\n",
        "Scikit-Learn mendeteksi ketika Anda mencoba menggunakan algoritma klasifikasi biner untuk tugas klasifikasi multikelas, dan secara otomatis menjalankan OvR atau OvO, tergantung pada algoritma."
      ]
    },
    {
      "cell_type": "code",
      "execution_count": 21,
      "metadata": {
        "colab": {
          "base_uri": "https://localhost:8080/"
        },
        "id": "Zb5BU1bX0wEo",
        "outputId": "cd781077-6249-4a01-92b7-f8eaafd0d87d"
      },
      "outputs": [
        {
          "output_type": "stream",
          "name": "stdout",
          "text": [
            "Prediksi SVC untuk some_digit: [5]\n",
            "Skor keputusan SVC untuk some_digit: [[ 1.72501977  2.72809088  7.2510018   8.3076379  -0.31087254  9.3132482\n",
            "   1.70975103  2.76765202  6.23049537  4.84771048]]\n",
            "Kelas dengan skor tertinggi: 5\n",
            "Daftar kelas: [0 1 2 3 4 5 6 7 8 9]\n"
          ]
        }
      ],
      "source": [
        "from sklearn.svm import SVC\n",
        "\n",
        "# Melatih SVC pada training set menggunakan kelas target asli (y_train)\n",
        "svm_clf = SVC()\n",
        "svm_clf.fit(X_train, y_train) # y_train, bukan y_train_5\n",
        "\n",
        "# Prediksi untuk some_digit\n",
        "some_digit_pred_multiclass = svm_clf.predict([some_digit])\n",
        "print(f\"Prediksi SVC untuk some_digit: {some_digit_pred_multiclass}\")\n",
        "\n",
        "# Melihat skor keputusan (10 skor per instance, satu per kelas)\n",
        "some_digit_scores = svm_clf.decision_function([some_digit])\n",
        "print(f\"Skor keputusan SVC untuk some_digit: {some_digit_scores}\")\n",
        "print(f\"Kelas dengan skor tertinggi: {np.argmax(some_digit_scores)}\")\n",
        "print(f\"Daftar kelas: {svm_clf.classes_}\")"
      ]
    },
    {
      "cell_type": "markdown",
      "metadata": {
        "id": "4xBZBdk40wEo"
      },
      "source": [
        "Melatih `SGDClassifier` (atau `RandomForestClassifier`) sama mudahnya, dan mereka dapat langsung mengklasifikasikan instance ke dalam banyak kelas."
      ]
    },
    {
      "cell_type": "code",
      "execution_count": 22,
      "metadata": {
        "colab": {
          "base_uri": "https://localhost:8080/"
        },
        "id": "S_fN6O6t0wEo",
        "outputId": "9769fb14-e8fd-492d-a587-787130fed353"
      },
      "outputs": [
        {
          "output_type": "stream",
          "name": "stdout",
          "text": [
            "Prediksi SGDClassifier untuk some_digit: [3]\n",
            "Skor akurasi multikelas SGDClassifier: [0.87365 0.85835 0.8689 ]\n"
          ]
        }
      ],
      "source": [
        "# Melatih SGDClassifier untuk klasifikasi multikelas\n",
        "sgd_clf.fit(X_train, y_train)\n",
        "sgd_digit_pred_multiclass = sgd_clf.predict([some_digit])\n",
        "print(f\"Prediksi SGDClassifier untuk some_digit: {sgd_digit_pred_multiclass}\")\n",
        "\n",
        "# Mengevaluasi akurasi SGDClassifier menggunakan cross-validation\n",
        "sgd_multiclass_scores = cross_val_score(sgd_clf, X_train, y_train, cv=3, scoring=\"accuracy\")\n",
        "print(f\"Skor akurasi multikelas SGDClassifier: {sgd_multiclass_scores}\")"
      ]
    },
    {
      "cell_type": "markdown",
      "metadata": {
        "id": "f0UlkOoh0wEp"
      },
      "source": [
        "Akurasi di atas 84% pada semua *test folds* tidak terlalu buruk, tetapi kita masih bisa melakukan yang lebih baik. Menskalakan input (seperti yang dibahas di Bab 2) meningkatkan akurasi di atas 89%."
      ]
    },
    {
      "cell_type": "code",
      "execution_count": 23,
      "metadata": {
        "colab": {
          "base_uri": "https://localhost:8080/"
        },
        "id": "dCagfxHz0wEp",
        "outputId": "d19adbea-5ce3-47a5-a2b1-d3575d1b2159"
      },
      "outputs": [
        {
          "output_type": "stream",
          "name": "stdout",
          "text": [
            "Skor akurasi multikelas SGDClassifier (scaled): [0.8983 0.891  0.9018]\n"
          ]
        }
      ],
      "source": [
        "from sklearn.preprocessing import StandardScaler\n",
        "\n",
        "scaler = StandardScaler()\n",
        "X_train_scaled = scaler.fit_transform(X_train.astype(np.float64))\n",
        "\n",
        "sgd_scaled_scores = cross_val_score(sgd_clf, X_train_scaled, y_train, cv=3, scoring=\"accuracy\")\n",
        "print(f\"Skor akurasi multikelas SGDClassifier (scaled): {sgd_scaled_scores}\")"
      ]
    },
    {
      "cell_type": "markdown",
      "metadata": {
        "id": "IiYyM0gH0wEp"
      },
      "source": [
        "## 3.5 Error Analysis (Analisis Kesalahan)\n",
        "\n",
        "Jika ini adalah proyek nyata, Anda sekarang akan mengikuti langkah-langkah dalam daftar periksa proyek Machine Learning Anda (lihat Apendiks B). Anda akan menjelajahi opsi persiapan data, mencoba beberapa model, dan menyempurnakan hyperparameter mereka. Di sini, kita akan mengasumsikan bahwa Anda telah menemukan model yang menjanjikan dan Anda ingin mencari cara untuk memperbaikinya. Salah satu cara untuk melakukannya adalah dengan menganalisis jenis kesalahan yang dibuatnya."
      ]
    },
    {
      "cell_type": "markdown",
      "metadata": {
        "id": "EyMWgfyc0wEp"
      },
      "source": [
        "### Visualisasi Confusion Matrix"
      ]
    },
    {
      "cell_type": "code",
      "execution_count": 24,
      "metadata": {
        "colab": {
          "base_uri": "https://localhost:8080/",
          "height": 459
        },
        "id": "gIJ6ta1i0wEp",
        "outputId": "f9ba7f8b-80d4-4bdf-ec75-70b31fcfe173"
      },
      "outputs": [
        {
          "output_type": "display_data",
          "data": {
            "text/plain": [
              "<Figure size 480x480 with 1 Axes>"
            ],
            "image/png": "[encoded data removed]"
          },
          "metadata": {}
        }
      ],
      "source": [
        "y_train_pred_scaled = cross_val_predict(sgd_clf, X_train_scaled, y_train, cv=3)\n",
        "conf_mx_scaled = confusion_matrix(y_train, y_train_pred_scaled)\n",
        "\n",
        "plt.matshow(conf_mx_scaled, cmap=plt.cm.gray)\n",
        "plt.title(\"Confusion Matrix (Scaled Data)\")\n",
        "plt.show()"
      ]
    },
    {
      "cell_type": "markdown",
      "metadata": {
        "id": "aAmQXpTV0wEp"
      },
      "source": [
        "Confusion matrix ini terlihat cukup bagus, karena sebagian besar gambar berada pada diagonal utama, yang berarti diklasifikasikan dengan benar. Angka 5 terlihat sedikit lebih gelap daripada digit lain, yang bisa berarti ada lebih sedikit gambar angka 5 dalam dataset atau bahwa classifier tidak bekerja sebaik pada angka 5 seperti pada digit lainnya.\n",
        "\n",
        "Untuk fokus pada kesalahan, kita bisa membagi setiap nilai dalam confusion matrix dengan jumlah gambar di kelas yang sesuai, sehingga kita dapat membandingkan tingkat kesalahan alih-alih jumlah kesalahan absolut."
      ]
    },
    {
      "cell_type": "code",
      "execution_count": 25,
      "metadata": {
        "colab": {
          "base_uri": "https://localhost:8080/",
          "height": 459
        },
        "id": "eY99duDv0wEq",
        "outputId": "f953bcea-343e-4779-ccbd-c17f60825951"
      },
      "outputs": [
        {
          "output_type": "display_data",
          "data": {
            "text/plain": [
              "<Figure size 480x480 with 1 Axes>"
            ],
            "image/png": "[encoded data removed]"
          },
          "metadata": {}
        }
      ],
      "source": [
        "row_sums = conf_mx_scaled.sum(axis=1, keepdims=True)\n",
        "norm_conf_mx = conf_mx_scaled / row_sums\n",
        "\n",
        "# Isi diagonal dengan nol untuk hanya menyimpan kesalahan\n",
        "np.fill_diagonal(norm_conf_mx, 0)\n",
        "\n",
        "plt.matshow(norm_conf_mx, cmap=plt.cm.gray)\n",
        "plt.title(\"Confusion Matrix (Errors Only, Normalized)\")\n",
        "plt.show()"
      ]
    },
    {
      "cell_type": "markdown",
      "metadata": {
        "id": "JVTSmTWz0wEq"
      },
      "source": [
        "## 3.6 Multilabel Classification (Klasifikasi Multilabel)\n",
        "\n",
        "Hingga saat ini, setiap instance selalu ditetapkan ke hanya satu kelas. Dalam beberapa kasus, Anda mungkin ingin classifier Anda mengeluarkan banyak kelas untuk setiap instance. Sistem klasifikasi yang mengeluarkan banyak tag biner disebut *multilabel classification system*."
      ]
    },
    {
      "cell_type": "code",
      "execution_count": 26,
      "metadata": {
        "colab": {
          "base_uri": "https://localhost:8080/"
        },
        "id": "pW8atnGl0wEq",
        "outputId": "17001111-07d9-4847-fe3e-d8716dac5907"
      },
      "outputs": [
        {
          "output_type": "stream",
          "name": "stdout",
          "text": [
            "Prediksi multilabel untuk some_digit (5): [[False  True]]\n"
          ]
        }
      ],
      "source": [
        "from sklearn.neighbors import KNeighborsClassifier\n",
        "\n",
        "# Membuat target multilabel: digit besar (7, 8, atau 9) dan digit ganjil\n",
        "y_train_large = (y_train >= 7)\n",
        "y_train_odd = (y_train % 2 == 1)\n",
        "y_multilabel = np.c_[y_train_large, y_train_odd]\n",
        "\n",
        "# Melatih KNeighborsClassifier (yang mendukung klasifikasi multilabel)\n",
        "knn_clf = KNeighborsClassifier()\n",
        "knn_clf.fit(X_train, y_multilabel)\n",
        "\n",
        "# Prediksi untuk some_digit (yang adalah 5)\n",
        "some_digit_pred_multilabel = knn_clf.predict([some_digit])\n",
        "print(f\"Prediksi multilabel untuk some_digit (5): {some_digit_pred_multilabel}\")"
      ]
    },
    {
      "cell_type": "markdown",
      "metadata": {
        "id": "yzxQYb860wEq"
      },
      "source": [
        "Ada banyak cara untuk mengevaluasi classifier multilabel. Salah satu pendekatan adalah mengukur F1 score untuk setiap label individual, lalu menghitung skor rata-rata."
      ]
    },
    {
      "cell_type": "code",
      "execution_count": 27,
      "metadata": {
        "colab": {
          "base_uri": "https://localhost:8080/"
        },
        "id": "pCI0_EEd0wEq",
        "outputId": "7bb423b7-f205-44c6-b8ca-e72d3ea4490c"
      },
      "outputs": [
        {
          "output_type": "stream",
          "name": "stdout",
          "text": [
            "F1 Score (multilabel, average='macro'): 0.9764102655606048\n"
          ]
        }
      ],
      "source": [
        "y_train_knn_pred = cross_val_predict(knn_clf, X_train, y_multilabel, cv=3)\n",
        "f1_multilabel = f1_score(y_multilabel, y_train_knn_pred, average=\"macro\")\n",
        "print(f\"F1 Score (multilabel, average='macro'): {f1_multilabel}\")"
      ]
    },
    {
      "cell_type": "markdown",
      "metadata": {
        "id": "HOezSVyW0wEr"
      },
      "source": [
        "## 3.7 Multioutput Classification (Klasifikasi Multioutput)\n",
        "\n",
        "Jenis tugas klasifikasi terakhir yang akan kita bahas di sini disebut *multioutput-multiclass classification* (atau hanya *multioutput classification*). Ini hanyalah generalisasi dari klasifikasi multilabel di mana setiap label dapat berupa multikelas (yaitu, dapat memiliki lebih dari dua nilai yang mungkin)."
      ]
    },
    {
      "cell_type": "code",
      "execution_count": 28,
      "metadata": {
        "colab": {
          "base_uri": "https://localhost:8080/",
          "height": 717
        },
        "id": "JgZ8NWco0wEr",
        "outputId": "b76021b5-4f4a-45a4-dbbd-9f3517819ac9"
      },
      "outputs": [
        {
          "output_type": "display_data",
          "data": {
            "text/plain": [
              "<Figure size 1000x400 with 2 Axes>"
            ],
            "image/png": "[encoded data removed]"
          },
          "metadata": {}
        },
        {
          "output_type": "display_data",
          "data": {
            "text/plain": [
              "<Figure size 400x400 with 1 Axes>"
            ],
            "image/png": "[encoded data removed]"
          },
          "metadata": {}
        }
      ],
      "source": [
        "# Membuat training dan test set dengan menambahkan noise pada gambar MNIST\n",
        "noise = np.random.randint(0, 100, (len(X_train), 784))\n",
        "X_train_mod = X_train + noise\n",
        "noise = np.random.randint(0, 100, (len(X_test), 784))\n",
        "X_test_mod = X_test + noise\n",
        "y_train_mod = X_train\n",
        "y_test_mod = X_test\n",
        "\n",
        "# Fungsi untuk memplot digit (dari notebook asli)\n",
        "def plot_digit(data):\n",
        "    image = data.reshape(28, 28)\n",
        "    plt.imshow(image, cmap=\"binary\", interpolation=\"nearest\")\n",
        "    plt.axis(\"off\")\n",
        "\n",
        "# Melihat contoh gambar ber-noise dan target bersih\n",
        "some_index = 0\n",
        "plt.figure(figsize=(10, 4))\n",
        "plt.subplot(121)\n",
        "plt.title(\"Noisy Image\")\n",
        "plot_digit(X_test_mod[some_index])\n",
        "plt.subplot(122)\n",
        "plt.title(\"Clean Target\")\n",
        "plot_digit(y_test_mod[some_index])\n",
        "plt.show()\n",
        "\n",
        "# Melatih classifier dan membersihkan gambar\n",
        "knn_clf.fit(X_train_mod, y_train_mod)\n",
        "clean_digit_pred = knn_clf.predict([X_test_mod[some_index]])\n",
        "\n",
        "plt.figure(figsize=(4, 4))\n",
        "plt.title(\"Cleaned Image Prediction\")\n",
        "plot_digit(clean_digit_pred)\n",
        "plt.show()"
      ]
    },
    {
      "cell_type": "markdown",
      "metadata": {
        "id": "TbYIojEn0wEr"
      },
      "source": [
        "Terlihat cukup dekat dengan target! Ini mengakhiri tur kita dalam klasifikasi. Anda sekarang harus tahu cara memilih metrik yang baik untuk tugas klasifikasi, memilih trade-off presisi/recall yang sesuai dengan kebutuhan Anda, membandingkan classifier, dan secara lebih umum membangun sistem klasifikasi yang baik untuk berbagai tugas."
      ]
    }
  ],
  "metadata": {
    "kernelspec": {
      "display_name": "Python 3",
      "language": "python",
      "name": "python3"
    },
    "language_info": {
      "codemirror_mode": {
        "name": "ipython",
        "version": 3
      },
      "file_extension": ".py",
      "mimetype": "text/x-python",
      "name": "python",
      "nbconvert_exporter": "python",
      "pygments_lexer": "ipython3",
      "version": "3.9.7"
    },
    "colab": {
      "provenance": []
    }
  },
  "nbformat": 4,
  "nbformat_minor": 0
}