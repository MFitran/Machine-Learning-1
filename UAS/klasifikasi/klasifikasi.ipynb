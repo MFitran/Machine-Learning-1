{
  "cells": [
    {
      "cell_type": "code",
      "execution_count": 1,
      "metadata": {
        "id": "utsDCbvPtgoL"
      },
      "outputs": [],
      "source": [
        "# Menonaktifkan DtypeWarning untuk sementara karena kolom memiliki tipe campuran\n",
        "import warnings\n",
        "warnings.filterwarnings(\"ignore\")"
      ]
    },
    {
      "cell_type": "code",
      "execution_count": 2,
      "metadata": {
        "id": "pteTH6S6tgoR"
      },
      "outputs": [],
      "source": [
        "import pandas as pd\n",
        "import numpy as np\n",
        "import tensorflow as tf\n",
        "from tensorflow import keras\n",
        "from sklearn.model_selection import train_test_split\n",
        "from sklearn.preprocessing import StandardScaler\n",
        "from sklearn.metrics import confusion_matrix, precision_recall_curve, roc_curve, auc, f1_score, accuracy_score, precision_score, recall_score\n",
        "import matplotlib.pyplot as plt\n",
        "import seaborn as sns\n",
        "import torch\n",
        "import torch.nn as nn\n",
        "import torch.optim as optim\n",
        "from torch.utils.data import DataLoader, TensorDataset"
      ]
    },
    {
      "cell_type": "markdown",
      "metadata": {
        "id": "G_ZJYob2tgoS"
      },
      "source": [
        "### 1. Pipeline End-to-End untuk Regresi Model Deep Learning\n",
        "\n",
        "**a. Pengumpulan & Pembersihan Data (Pandas)**"
      ]
    },
    {
      "cell_type": "code",
      "execution_count": 3,
      "metadata": {
        "colab": {
          "base_uri": "https://localhost:8080/"
        },
        "id": "Jcn95LaytgoV",
        "outputId": "00105735-3778-4d1b-a9ed-4e137eafbf19"
      },
      "outputs": [
        {
          "output_type": "stream",
          "name": "stderr",
          "text": [
            "WARNING:root:pydrive is deprecated and no longer maintained. We recommend that you migrate your projects to pydrive2, the maintained fork of pydrive\n"
          ]
        },
        {
          "output_type": "stream",
          "name": "stdout",
          "text": [
            "\n",
            "5 baris pertama setelah pembersihan:\n",
            "   Time        V1        V2        V3        V4        V5        V6        V7  \\\n",
            "0   0.0 -1.359807 -0.072781  2.536347  1.378155 -0.338321  0.462388  0.239599   \n",
            "1   0.0  1.191857  0.266151  0.166480  0.448154  0.060018 -0.082361 -0.078803   \n",
            "2   1.0 -1.358354 -1.340163  1.773209  0.379780 -0.503198  1.800499  0.791461   \n",
            "3   1.0 -0.966272 -0.185226  1.792993 -0.863291 -0.010309  1.247203  0.237609   \n",
            "4   2.0 -1.158233  0.877737  1.548718  0.403034 -0.407193  0.095921  0.592941   \n",
            "\n",
            "         V8        V9  ...       V21       V22       V23       V24       V25  \\\n",
            "0  0.098698  0.363787  ... -0.018307  0.277838 -0.110474  0.066928  0.128539   \n",
            "1  0.085102 -0.255425  ... -0.225775 -0.638672  0.101288 -0.339846  0.167170   \n",
            "2  0.247676 -1.514654  ...  0.247998  0.771679  0.909412 -0.689281 -0.327642   \n",
            "3  0.377436 -1.387024  ... -0.108300  0.005274 -0.190321 -1.175575  0.647376   \n",
            "4 -0.270533  0.817739  ... -0.009431  0.798278 -0.137458  0.141267 -0.206010   \n",
            "\n",
            "        V26       V27       V28  Amount  Class  \n",
            "0 -0.189115  0.133558 -0.021053  149.62      0  \n",
            "1  0.125895 -0.008983  0.014724    2.69      0  \n",
            "2 -0.139097 -0.055353 -0.059752  378.66      0  \n",
            "3 -0.221929  0.062723  0.061458  123.50      0  \n",
            "4  0.502292  0.219422  0.215153   69.99      0  \n",
            "\n",
            "[5 rows x 31 columns]\n",
            "\n",
            "Informasi dataset setelah pembersihan:\n",
            "<class 'pandas.core.frame.DataFrame'>\n",
            "RangeIndex: 284807 entries, 0 to 284806\n",
            "Data columns (total 31 columns):\n",
            " #   Column  Non-Null Count   Dtype  \n",
            "---  ------  --------------   -----  \n",
            " 0   Time    284807 non-null  float64\n",
            " 1   V1      284807 non-null  float64\n",
            " 2   V2      284807 non-null  float64\n",
            " 3   V3      284807 non-null  float64\n",
            " 4   V4      284807 non-null  float64\n",
            " 5   V5      284807 non-null  float64\n",
            " 6   V6      284807 non-null  float64\n",
            " 7   V7      284807 non-null  float64\n",
            " 8   V8      284807 non-null  float64\n",
            " 9   V9      284807 non-null  float64\n",
            " 10  V10     284807 non-null  float64\n",
            " 11  V11     284807 non-null  float64\n",
            " 12  V12     284807 non-null  float64\n",
            " 13  V13     284807 non-null  float64\n",
            " 14  V14     284807 non-null  float64\n",
            " 15  V15     284807 non-null  float64\n",
            " 16  V16     284807 non-null  float64\n",
            " 17  V17     284807 non-null  float64\n",
            " 18  V18     284807 non-null  float64\n",
            " 19  V19     284807 non-null  float64\n",
            " 20  V20     284807 non-null  float64\n",
            " 21  V21     284807 non-null  float64\n",
            " 22  V22     284807 non-null  float64\n",
            " 23  V23     284807 non-null  float64\n",
            " 24  V24     284807 non-null  float64\n",
            " 25  V25     284807 non-null  float64\n",
            " 26  V26     284807 non-null  float64\n",
            " 27  V27     284807 non-null  float64\n",
            " 28  V28     284807 non-null  float64\n",
            " 29  Amount  284807 non-null  float64\n",
            " 30  Class   284807 non-null  int64  \n",
            "dtypes: float64(30), int64(1)\n",
            "memory usage: 67.4 MB\n"
          ]
        }
      ],
      "source": [
        "# Memuat dataset\n",
        "# Install the PyDrive wrapper & import libraries.\n",
        "from pydrive.auth import GoogleAuth\n",
        "from pydrive.drive import GoogleDrive\n",
        "from google.colab import auth\n",
        "from oauth2client.client import GoogleCredentials\n",
        "\n",
        "# Authenticate and create the PyDrive client.\n",
        "auth.authenticate_user()\n",
        "gauth = GoogleAuth()\n",
        "gauth.credentials = GoogleCredentials.get_application_default()\n",
        "drive = GoogleDrive(gauth)\n",
        "\n",
        "file_id = '1au6HqbGWpBCszFFBjZ4YmdpnqhThnTlU'\n",
        "downloaded = drive.CreateFile({'id':file_id})\n",
        "downloaded.FetchMetadata(fetch_all=True)\n",
        "downloaded.GetContentFile(downloaded.metadata['title'])\n",
        "\n",
        "df = pd.read_csv('KlasifikasiUTS.csv')\n",
        "\n",
        "# Mengidentifikasi kolom numerik dan non-numerik\n",
        "# Kolom 'Time' dan 'Amount' serta V1-V28 seharusnya numerik. 'Class' adalah target.\n",
        "numeric_cols = df.columns.drop(['Time', 'Amount', 'Class'])\n",
        "numeric_cols = [col for col in numeric_cols if 'V' in str(col)] # Hanya kolom 'V' yang numerik dari header\n",
        "all_numeric_features = ['Time', 'Amount'] + numeric_cols\n",
        "\n",
        "# Mengonversi kolom-kolom yang seharusnya numerik\n",
        "for col in all_numeric_features:\n",
        "    # Mengganti koma dengan titik untuk desimal jika ada\n",
        "    df[col] = df[col].astype(str).str.replace(',', '.', regex=False)\n",
        "    df[col] = pd.to_numeric(df[col], errors='coerce') # Konversi ke numerik, non-konvertibel jadi NaN\n",
        "\n",
        "# Mengisi nilai NaN yang mungkin muncul akibat konversi (misalnya, jika ada string non-numerik)\n",
        "# Menggunakan median untuk mengisi NaN agar lebih robust terhadap outlier\n",
        "for col in all_numeric_features:\n",
        "    if df[col].isnull().any():\n",
        "        median_val = df[col].median()\n",
        "        df[col].fillna(median_val, inplace=True)\n",
        "\n",
        "# Mengonversi kolom target 'Class' menjadi integer\n",
        "df['Class'] = pd.to_numeric(df['Class'], errors='coerce').astype(int)\n",
        "\n",
        "print(\"\\n5 baris pertama setelah pembersihan:\")\n",
        "print(df.head())\n",
        "print(\"\\nInformasi dataset setelah pembersihan:\")\n",
        "df.info()"
      ]
    },
    {
      "cell_type": "markdown",
      "metadata": {
        "id": "iSx1OBMvtgoX"
      },
      "source": [
        "**b. Feature Engineering**"
      ]
    },
    {
      "cell_type": "code",
      "execution_count": 4,
      "metadata": {
        "colab": {
          "base_uri": "https://localhost:8080/"
        },
        "id": "PeQQMCSftgoY",
        "outputId": "d52248e8-fab2-4ae6-ea10-ee2343e71596"
      },
      "outputs": [
        {
          "output_type": "stream",
          "name": "stdout",
          "text": [
            "\n",
            "Ukuran dataset setelah pembagian dan penskalaan:\n",
            "X_train_scaled_df shape: (170883, 30)\n",
            "y_train shape: (170883,)\n",
            "X_valid_scaled_df shape: (56962, 30)\n",
            "y_valid shape: (56962,)\n",
            "X_test_scaled_df shape: (56962, 30)\n",
            "y_test shape: (56962,)\n"
          ]
        }
      ],
      "source": [
        "# Memisahkan fitur (X) dan target (y)\n",
        "X = df.drop('Class', axis=1)\n",
        "y = df['Class']\n",
        "\n",
        "# Pembagian data (Train, Valid, Test)\n",
        "X_train_full, X_test, y_train_full, y_test = train_test_split(X, y, test_size=0.2, random_state=42, stratify=y)\n",
        "X_train, X_valid, y_train, y_valid = train_test_split(X_train_full, y_train_full, test_size=0.25, random_state=42, stratify=y_train_full) # 0.25 * 0.8 = 0.2 dari total\n",
        "\n",
        "# Penskalaan fitur menggunakan StandardScaler\n",
        "scaler = StandardScaler()\n",
        "X_train_scaled = scaler.fit_transform(X_train)\n",
        "X_valid_scaled = scaler.transform(X_valid)\n",
        "X_test_scaled = scaler.transform(X_test)\n",
        "\n",
        "# Konversi kembali ke DataFrame untuk konsistensi, opsional\n",
        "X_train_scaled_df = pd.DataFrame(X_train_scaled, columns=X.columns)\n",
        "X_valid_scaled_df = pd.DataFrame(X_valid_scaled, columns=X.columns)\n",
        "X_test_scaled_df = pd.DataFrame(X_test_scaled, columns=X.columns)\n",
        "\n",
        "print(\"\\nUkuran dataset setelah pembagian dan penskalaan:\")\n",
        "print(f\"X_train_scaled_df shape: {X_train_scaled_df.shape}\")\n",
        "print(f\"y_train shape: {y_train.shape}\")\n",
        "print(f\"X_valid_scaled_df shape: {X_valid_scaled_df.shape}\")\n",
        "print(f\"y_valid shape: {y_valid.shape}\")\n",
        "print(f\"X_test_scaled_df shape: {X_test_scaled_df.shape}\")\n",
        "print(f\"y_test shape: {y_test.shape}\")"
      ]
    },
    {
      "cell_type": "markdown",
      "metadata": {
        "id": "lbrKjod9tgoZ"
      },
      "source": [
        "**c. Mengembangkan Arsitektur MLP Menggunakan TensorFlow dan PyTorch**"
      ]
    },
    {
      "cell_type": "code",
      "execution_count": 5,
      "metadata": {
        "colab": {
          "base_uri": "https://localhost:8080/",
          "height": 1000
        },
        "id": "OXFFe76_tgoa",
        "outputId": "a016b6ee-3f50-4165-ab1e-da9ad8b5c018"
      },
      "outputs": [
        {
          "output_type": "stream",
          "name": "stdout",
          "text": [
            "\n",
            "Ringkasan Model TensorFlow:\n"
          ]
        },
        {
          "output_type": "display_data",
          "data": {
            "text/plain": [
              "\u001b[1mModel: \"sequential\"\u001b[0m\n"
            ],
            "text/html": [
              "<pre style=\"white-space:pre;overflow-x:auto;line-height:normal;font-family:Menlo,'DejaVu Sans Mono',consolas,'Courier New',monospace\"><span style=\"font-weight: bold\">Model: \"sequential\"</span>\n",
              "</pre>\n"
            ]
          },
          "metadata": {}
        },
        {
          "output_type": "display_data",
          "data": {
            "text/plain": [
              "┏━━━━━━━━━━━━━━━━━━━━━━━━━━━━━━━━━┳━━━━━━━━━━━━━━━━━━━━━━━━┳━━━━━━━━━━━━━━━┓\n",
              "┃\u001b[1m \u001b[0m\u001b[1mLayer (type)                   \u001b[0m\u001b[1m \u001b[0m┃\u001b[1m \u001b[0m\u001b[1mOutput Shape          \u001b[0m\u001b[1m \u001b[0m┃\u001b[1m \u001b[0m\u001b[1m      Param #\u001b[0m\u001b[1m \u001b[0m┃\n",
              "┡━━━━━━━━━━━━━━━━━━━━━━━━━━━━━━━━━╇━━━━━━━━━━━━━━━━━━━━━━━━╇━━━━━━━━━━━━━━━┩\n",
              "│ dense (\u001b[38;5;33mDense\u001b[0m)                   │ (\u001b[38;5;45mNone\u001b[0m, \u001b[38;5;34m256\u001b[0m)            │         \u001b[38;5;34m7,936\u001b[0m │\n",
              "├─────────────────────────────────┼────────────────────────┼───────────────┤\n",
              "│ batch_normalization             │ (\u001b[38;5;45mNone\u001b[0m, \u001b[38;5;34m256\u001b[0m)            │         \u001b[38;5;34m1,024\u001b[0m │\n",
              "│ (\u001b[38;5;33mBatchNormalization\u001b[0m)            │                        │               │\n",
              "├─────────────────────────────────┼────────────────────────┼───────────────┤\n",
              "│ dropout (\u001b[38;5;33mDropout\u001b[0m)               │ (\u001b[38;5;45mNone\u001b[0m, \u001b[38;5;34m256\u001b[0m)            │             \u001b[38;5;34m0\u001b[0m │\n",
              "├─────────────────────────────────┼────────────────────────┼───────────────┤\n",
              "│ dense_1 (\u001b[38;5;33mDense\u001b[0m)                 │ (\u001b[38;5;45mNone\u001b[0m, \u001b[38;5;34m128\u001b[0m)            │        \u001b[38;5;34m32,896\u001b[0m │\n",
              "├─────────────────────────────────┼────────────────────────┼───────────────┤\n",
              "│ batch_normalization_1           │ (\u001b[38;5;45mNone\u001b[0m, \u001b[38;5;34m128\u001b[0m)            │           \u001b[38;5;34m512\u001b[0m │\n",
              "│ (\u001b[38;5;33mBatchNormalization\u001b[0m)            │                        │               │\n",
              "├─────────────────────────────────┼────────────────────────┼───────────────┤\n",
              "│ dropout_1 (\u001b[38;5;33mDropout\u001b[0m)             │ (\u001b[38;5;45mNone\u001b[0m, \u001b[38;5;34m128\u001b[0m)            │             \u001b[38;5;34m0\u001b[0m │\n",
              "├─────────────────────────────────┼────────────────────────┼───────────────┤\n",
              "│ dense_2 (\u001b[38;5;33mDense\u001b[0m)                 │ (\u001b[38;5;45mNone\u001b[0m, \u001b[38;5;34m64\u001b[0m)             │         \u001b[38;5;34m8,256\u001b[0m │\n",
              "├─────────────────────────────────┼────────────────────────┼───────────────┤\n",
              "│ batch_normalization_2           │ (\u001b[38;5;45mNone\u001b[0m, \u001b[38;5;34m64\u001b[0m)             │           \u001b[38;5;34m256\u001b[0m │\n",
              "│ (\u001b[38;5;33mBatchNormalization\u001b[0m)            │                        │               │\n",
              "├─────────────────────────────────┼────────────────────────┼───────────────┤\n",
              "│ dropout_2 (\u001b[38;5;33mDropout\u001b[0m)             │ (\u001b[38;5;45mNone\u001b[0m, \u001b[38;5;34m64\u001b[0m)             │             \u001b[38;5;34m0\u001b[0m │\n",
              "├─────────────────────────────────┼────────────────────────┼───────────────┤\n",
              "│ dense_3 (\u001b[38;5;33mDense\u001b[0m)                 │ (\u001b[38;5;45mNone\u001b[0m, \u001b[38;5;34m1\u001b[0m)              │            \u001b[38;5;34m65\u001b[0m │\n",
              "└─────────────────────────────────┴────────────────────────┴───────────────┘\n"
            ],
            "text/html": [
              "<pre style=\"white-space:pre;overflow-x:auto;line-height:normal;font-family:Menlo,'DejaVu Sans Mono',consolas,'Courier New',monospace\">┏━━━━━━━━━━━━━━━━━━━━━━━━━━━━━━━━━┳━━━━━━━━━━━━━━━━━━━━━━━━┳━━━━━━━━━━━━━━━┓\n",
              "┃<span style=\"font-weight: bold\"> Layer (type)                    </span>┃<span style=\"font-weight: bold\"> Output Shape           </span>┃<span style=\"font-weight: bold\">       Param # </span>┃\n",
              "┡━━━━━━━━━━━━━━━━━━━━━━━━━━━━━━━━━╇━━━━━━━━━━━━━━━━━━━━━━━━╇━━━━━━━━━━━━━━━┩\n",
              "│ dense (<span style=\"color: #0087ff; text-decoration-color: #0087ff\">Dense</span>)                   │ (<span style=\"color: #00d7ff; text-decoration-color: #00d7ff\">None</span>, <span style=\"color: #00af00; text-decoration-color: #00af00\">256</span>)            │         <span style=\"color: #00af00; text-decoration-color: #00af00\">7,936</span> │\n",
              "├─────────────────────────────────┼────────────────────────┼───────────────┤\n",
              "│ batch_normalization             │ (<span style=\"color: #00d7ff; text-decoration-color: #00d7ff\">None</span>, <span style=\"color: #00af00; text-decoration-color: #00af00\">256</span>)            │         <span style=\"color: #00af00; text-decoration-color: #00af00\">1,024</span> │\n",
              "│ (<span style=\"color: #0087ff; text-decoration-color: #0087ff\">BatchNormalization</span>)            │                        │               │\n",
              "├─────────────────────────────────┼────────────────────────┼───────────────┤\n",
              "│ dropout (<span style=\"color: #0087ff; text-decoration-color: #0087ff\">Dropout</span>)               │ (<span style=\"color: #00d7ff; text-decoration-color: #00d7ff\">None</span>, <span style=\"color: #00af00; text-decoration-color: #00af00\">256</span>)            │             <span style=\"color: #00af00; text-decoration-color: #00af00\">0</span> │\n",
              "├─────────────────────────────────┼────────────────────────┼───────────────┤\n",
              "│ dense_1 (<span style=\"color: #0087ff; text-decoration-color: #0087ff\">Dense</span>)                 │ (<span style=\"color: #00d7ff; text-decoration-color: #00d7ff\">None</span>, <span style=\"color: #00af00; text-decoration-color: #00af00\">128</span>)            │        <span style=\"color: #00af00; text-decoration-color: #00af00\">32,896</span> │\n",
              "├─────────────────────────────────┼────────────────────────┼───────────────┤\n",
              "│ batch_normalization_1           │ (<span style=\"color: #00d7ff; text-decoration-color: #00d7ff\">None</span>, <span style=\"color: #00af00; text-decoration-color: #00af00\">128</span>)            │           <span style=\"color: #00af00; text-decoration-color: #00af00\">512</span> │\n",
              "│ (<span style=\"color: #0087ff; text-decoration-color: #0087ff\">BatchNormalization</span>)            │                        │               │\n",
              "├─────────────────────────────────┼────────────────────────┼───────────────┤\n",
              "│ dropout_1 (<span style=\"color: #0087ff; text-decoration-color: #0087ff\">Dropout</span>)             │ (<span style=\"color: #00d7ff; text-decoration-color: #00d7ff\">None</span>, <span style=\"color: #00af00; text-decoration-color: #00af00\">128</span>)            │             <span style=\"color: #00af00; text-decoration-color: #00af00\">0</span> │\n",
              "├─────────────────────────────────┼────────────────────────┼───────────────┤\n",
              "│ dense_2 (<span style=\"color: #0087ff; text-decoration-color: #0087ff\">Dense</span>)                 │ (<span style=\"color: #00d7ff; text-decoration-color: #00d7ff\">None</span>, <span style=\"color: #00af00; text-decoration-color: #00af00\">64</span>)             │         <span style=\"color: #00af00; text-decoration-color: #00af00\">8,256</span> │\n",
              "├─────────────────────────────────┼────────────────────────┼───────────────┤\n",
              "│ batch_normalization_2           │ (<span style=\"color: #00d7ff; text-decoration-color: #00d7ff\">None</span>, <span style=\"color: #00af00; text-decoration-color: #00af00\">64</span>)             │           <span style=\"color: #00af00; text-decoration-color: #00af00\">256</span> │\n",
              "│ (<span style=\"color: #0087ff; text-decoration-color: #0087ff\">BatchNormalization</span>)            │                        │               │\n",
              "├─────────────────────────────────┼────────────────────────┼───────────────┤\n",
              "│ dropout_2 (<span style=\"color: #0087ff; text-decoration-color: #0087ff\">Dropout</span>)             │ (<span style=\"color: #00d7ff; text-decoration-color: #00d7ff\">None</span>, <span style=\"color: #00af00; text-decoration-color: #00af00\">64</span>)             │             <span style=\"color: #00af00; text-decoration-color: #00af00\">0</span> │\n",
              "├─────────────────────────────────┼────────────────────────┼───────────────┤\n",
              "│ dense_3 (<span style=\"color: #0087ff; text-decoration-color: #0087ff\">Dense</span>)                 │ (<span style=\"color: #00d7ff; text-decoration-color: #00d7ff\">None</span>, <span style=\"color: #00af00; text-decoration-color: #00af00\">1</span>)              │            <span style=\"color: #00af00; text-decoration-color: #00af00\">65</span> │\n",
              "└─────────────────────────────────┴────────────────────────┴───────────────┘\n",
              "</pre>\n"
            ]
          },
          "metadata": {}
        },
        {
          "output_type": "display_data",
          "data": {
            "text/plain": [
              "\u001b[1m Total params: \u001b[0m\u001b[38;5;34m50,945\u001b[0m (199.00 KB)\n"
            ],
            "text/html": [
              "<pre style=\"white-space:pre;overflow-x:auto;line-height:normal;font-family:Menlo,'DejaVu Sans Mono',consolas,'Courier New',monospace\"><span style=\"font-weight: bold\"> Total params: </span><span style=\"color: #00af00; text-decoration-color: #00af00\">50,945</span> (199.00 KB)\n",
              "</pre>\n"
            ]
          },
          "metadata": {}
        },
        {
          "output_type": "display_data",
          "data": {
            "text/plain": [
              "\u001b[1m Trainable params: \u001b[0m\u001b[38;5;34m50,049\u001b[0m (195.50 KB)\n"
            ],
            "text/html": [
              "<pre style=\"white-space:pre;overflow-x:auto;line-height:normal;font-family:Menlo,'DejaVu Sans Mono',consolas,'Courier New',monospace\"><span style=\"font-weight: bold\"> Trainable params: </span><span style=\"color: #00af00; text-decoration-color: #00af00\">50,049</span> (195.50 KB)\n",
              "</pre>\n"
            ]
          },
          "metadata": {}
        },
        {
          "output_type": "display_data",
          "data": {
            "text/plain": [
              "\u001b[1m Non-trainable params: \u001b[0m\u001b[38;5;34m896\u001b[0m (3.50 KB)\n"
            ],
            "text/html": [
              "<pre style=\"white-space:pre;overflow-x:auto;line-height:normal;font-family:Menlo,'DejaVu Sans Mono',consolas,'Courier New',monospace\"><span style=\"font-weight: bold\"> Non-trainable params: </span><span style=\"color: #00af00; text-decoration-color: #00af00\">896</span> (3.50 KB)\n",
              "</pre>\n"
            ]
          },
          "metadata": {}
        },
        {
          "output_type": "stream",
          "name": "stdout",
          "text": [
            "Epoch 1/50\n",
            "\u001b[1m5341/5341\u001b[0m \u001b[32m━━━━━━━━━━━━━━━━━━━━\u001b[0m\u001b[37m\u001b[0m \u001b[1m24s\u001b[0m 4ms/step - accuracy: 0.9604 - loss: 0.1043 - val_accuracy: 0.9993 - val_loss: 0.0144\n",
            "Epoch 2/50\n",
            "\u001b[1m5341/5341\u001b[0m \u001b[32m━━━━━━━━━━━━━━━━━━━━\u001b[0m\u001b[37m\u001b[0m \u001b[1m23s\u001b[0m 4ms/step - accuracy: 0.9993 - loss: 0.0060 - val_accuracy: 0.9993 - val_loss: 0.0113\n",
            "Epoch 3/50\n",
            "\u001b[1m5341/5341\u001b[0m \u001b[32m━━━━━━━━━━━━━━━━━━━━\u001b[0m\u001b[37m\u001b[0m \u001b[1m25s\u001b[0m 5ms/step - accuracy: 0.9994 - loss: 0.0045 - val_accuracy: 0.9993 - val_loss: 0.0096\n",
            "Epoch 4/50\n",
            "\u001b[1m5341/5341\u001b[0m \u001b[32m━━━━━━━━━━━━━━━━━━━━\u001b[0m\u001b[37m\u001b[0m \u001b[1m36s\u001b[0m 4ms/step - accuracy: 0.9993 - loss: 0.0043 - val_accuracy: 0.9992 - val_loss: 0.0131\n",
            "Epoch 5/50\n",
            "\u001b[1m5341/5341\u001b[0m \u001b[32m━━━━━━━━━━━━━━━━━━━━\u001b[0m\u001b[37m\u001b[0m \u001b[1m22s\u001b[0m 4ms/step - accuracy: 0.9994 - loss: 0.0037 - val_accuracy: 0.9992 - val_loss: 0.0137\n",
            "Epoch 6/50\n",
            "\u001b[1m5341/5341\u001b[0m \u001b[32m━━━━━━━━━━━━━━━━━━━━\u001b[0m\u001b[37m\u001b[0m \u001b[1m47s\u001b[0m 5ms/step - accuracy: 0.9994 - loss: 0.0038 - val_accuracy: 0.9993 - val_loss: 0.0132\n",
            "Epoch 7/50\n",
            "\u001b[1m5341/5341\u001b[0m \u001b[32m━━━━━━━━━━━━━━━━━━━━\u001b[0m\u001b[37m\u001b[0m \u001b[1m28s\u001b[0m 5ms/step - accuracy: 0.9995 - loss: 0.0031 - val_accuracy: 0.9993 - val_loss: 0.0158\n",
            "Epoch 8/50\n",
            "\u001b[1m5341/5341\u001b[0m \u001b[32m━━━━━━━━━━━━━━━━━━━━\u001b[0m\u001b[37m\u001b[0m \u001b[1m23s\u001b[0m 4ms/step - accuracy: 0.9993 - loss: 0.0036 - val_accuracy: 0.9993 - val_loss: 0.0148\n",
            "Epoch 9/50\n",
            "\u001b[1m5341/5341\u001b[0m \u001b[32m━━━━━━━━━━━━━━━━━━━━\u001b[0m\u001b[37m\u001b[0m \u001b[1m42s\u001b[0m 4ms/step - accuracy: 0.9994 - loss: 0.0030 - val_accuracy: 0.9992 - val_loss: 0.0128\n",
            "Epoch 10/50\n",
            "\u001b[1m5341/5341\u001b[0m \u001b[32m━━━━━━━━━━━━━━━━━━━━\u001b[0m\u001b[37m\u001b[0m \u001b[1m44s\u001b[0m 5ms/step - accuracy: 0.9994 - loss: 0.0029 - val_accuracy: 0.9992 - val_loss: 0.0119\n",
            "Epoch 11/50\n",
            "\u001b[1m5341/5341\u001b[0m \u001b[32m━━━━━━━━━━━━━━━━━━━━\u001b[0m\u001b[37m\u001b[0m \u001b[1m23s\u001b[0m 4ms/step - accuracy: 0.9996 - loss: 0.0021 - val_accuracy: 0.9993 - val_loss: 0.0109\n",
            "Epoch 12/50\n",
            "\u001b[1m5341/5341\u001b[0m \u001b[32m━━━━━━━━━━━━━━━━━━━━\u001b[0m\u001b[37m\u001b[0m \u001b[1m42s\u001b[0m 4ms/step - accuracy: 0.9994 - loss: 0.0028 - val_accuracy: 0.9992 - val_loss: 0.0119\n",
            "Epoch 13/50\n",
            "\u001b[1m5341/5341\u001b[0m \u001b[32m━━━━━━━━━━━━━━━━━━━━\u001b[0m\u001b[37m\u001b[0m \u001b[1m41s\u001b[0m 4ms/step - accuracy: 0.9995 - loss: 0.0023 - val_accuracy: 0.9993 - val_loss: 0.0124\n",
            "\n",
            "Evaluasi Model TensorFlow pada Test Set:\n",
            "\u001b[1m1781/1781\u001b[0m \u001b[32m━━━━━━━━━━━━━━━━━━━━\u001b[0m\u001b[37m\u001b[0m \u001b[1m3s\u001b[0m 2ms/step - accuracy: 0.9993 - loss: 0.0106\n",
            "Test Loss (TensorFlow): 0.0109\n",
            "Test Accuracy (TensorFlow): 0.9993\n"
          ]
        }
      ],
      "source": [
        "# Mendefinisikan jumlah fitur input\n",
        "input_dim = X_train_scaled.shape[1]\n",
        "\n",
        "# --- Model TensorFlow ---\n",
        "tf_model = keras.models.Sequential([\n",
        "    keras.layers.Dense(256, activation=\"relu\", kernel_initializer=\"he_normal\", input_shape=[input_dim]),\n",
        "    keras.layers.BatchNormalization(), # Batch Normalization setelah Dense layer\n",
        "    keras.layers.Dropout(0.3), # Dropout untuk regularisasi\n",
        "\n",
        "    keras.layers.Dense(128, activation=\"relu\", kernel_initializer=\"he_normal\"),\n",
        "    keras.layers.BatchNormalization(),\n",
        "    keras.layers.Dropout(0.3),\n",
        "\n",
        "    keras.layers.Dense(64, activation=\"relu\", kernel_initializer=\"he_normal\"),\n",
        "    keras.layers.BatchNormalization(),\n",
        "    keras.layers.Dropout(0.2),\n",
        "\n",
        "    keras.layers.Dense(1, activation=\"sigmoid\", kernel_regularizer=keras.regularizers.l2(0.001)) # Output layer untuk klasifikasi biner\n",
        "])\n",
        "\n",
        "# Penyesuaian Learning Rate (LearningRateScheduler)\n",
        "lr_schedule = keras.optimizers.schedules.ExponentialDecay(\n",
        "    initial_learning_rate=1e-3,\n",
        "    decay_steps=10000,\n",
        "    decay_rate=0.9)\n",
        "\n",
        "# Modern Optimizer (AdamW - kustom atau tf-addons)\n",
        "# Untuk kesederhanaan dan ketersediaan langsung, kita gunakan Adam dengan weight decay di kernel_regularizer\n",
        "optimizer = keras.optimizers.Adam(learning_rate=lr_schedule)\n",
        "\n",
        "tf_model.compile(loss=\"binary_crossentropy\",\n",
        "                optimizer=optimizer,\n",
        "                metrics=[\"accuracy\"])\n",
        "\n",
        "# Early Stopping\n",
        "early_stopping_cb = keras.callbacks.EarlyStopping(patience=10, restore_best_weights=True)\n",
        "\n",
        "print(\"\\nRingkasan Model TensorFlow:\")\n",
        "tf_model.summary()\n",
        "\n",
        "# Melatih model TensorFlow\n",
        "history = tf_model.fit(X_train_scaled, y_train, epochs=50,\n",
        "                       validation_data=(X_valid_scaled, y_valid),\n",
        "                       callbacks=[early_stopping_cb])\n",
        "\n",
        "print(\"\\nEvaluasi Model TensorFlow pada Test Set:\")\n",
        "tf_loss, tf_accuracy = tf_model.evaluate(X_test_scaled, y_test)\n",
        "print(f\"Test Loss (TensorFlow): {tf_loss:.4f}\")\n",
        "print(f\"Test Accuracy (TensorFlow): {tf_accuracy:.4f}\")"
      ]
    },
    {
      "cell_type": "code",
      "execution_count": 6,
      "metadata": {
        "colab": {
          "base_uri": "https://localhost:8080/"
        },
        "id": "7EU-1-e_tgob",
        "outputId": "77076003-2119-4501-8761-188219d89b90"
      },
      "outputs": [
        {
          "output_type": "stream",
          "name": "stdout",
          "text": [
            "\n",
            "Memulai Pelatihan Model PyTorch...\n",
            "Epoch [1/50], Valid Loss: 0.0070\n",
            "Epoch [2/50], Valid Loss: 0.0185\n",
            "Epoch [3/50], Valid Loss: 0.0187\n",
            "Epoch [4/50], Valid Loss: 0.0220\n",
            "Epoch [5/50], Valid Loss: 0.0203\n",
            "Epoch [6/50], Valid Loss: 0.0198\n",
            "Epoch [7/50], Valid Loss: 0.0163\n",
            "Epoch [8/50], Valid Loss: 0.0183\n",
            "Epoch [9/50], Valid Loss: 0.0182\n",
            "Epoch [10/50], Valid Loss: 0.0127\n",
            "Epoch [11/50], Valid Loss: 0.0200\n",
            "Early stopping triggered!\n",
            "\n",
            "Test Loss (PyTorch): 0.0056\n",
            "Test Accuracy (PyTorch): 0.9989\n"
          ]
        }
      ],
      "source": [
        "# --- Model PyTorch (Template) ---\n",
        "\n",
        "# Konversi data ke tensor PyTorch\n",
        "X_train_torch = torch.tensor(X_train_scaled, dtype=torch.float32)\n",
        "y_train_torch = torch.tensor(y_train.values, dtype=torch.float32).unsqueeze(1)\n",
        "X_valid_torch = torch.tensor(X_valid_scaled, dtype=torch.float32)\n",
        "y_valid_torch = torch.tensor(y_valid.values, dtype=torch.float32).unsqueeze(1)\n",
        "X_test_torch = torch.tensor(X_test_scaled, dtype=torch.float32)\n",
        "y_test_torch = torch.tensor(y_test.values, dtype=torch.float32).unsqueeze(1)\n",
        "\n",
        "# Buat DataLoader\n",
        "train_dataset = TensorDataset(X_train_torch, y_train_torch)\n",
        "train_loader = DataLoader(train_dataset, batch_size=64, shuffle=True)\n",
        "valid_dataset = TensorDataset(X_valid_torch, y_valid_torch)\n",
        "valid_loader = DataLoader(valid_dataset, batch_size=64, shuffle=False)\n",
        "test_dataset = TensorDataset(X_test_torch, y_test_torch)\n",
        "test_loader = DataLoader(test_dataset, batch_size=64, shuffle=False)\n",
        "\n",
        "class MLP_PyTorch(nn.Module):\n",
        "    def __init__(self, input_dim):\n",
        "        super(MLP_PyTorch, self).__init__()\n",
        "        self.fc1 = nn.Linear(input_dim, 256)\n",
        "        self.bn1 = nn.BatchNorm1d(256)\n",
        "        self.dropout1 = nn.Dropout(0.3)\n",
        "\n",
        "        self.fc2 = nn.Linear(256, 128)\n",
        "        self.bn2 = nn.BatchNorm1d(128)\n",
        "        self.dropout2 = nn.Dropout(0.3)\n",
        "\n",
        "        self.fc3 = nn.Linear(128, 64)\n",
        "        self.bn3 = nn.BatchNorm1d(64)\n",
        "        self.dropout3 = nn.Dropout(0.2)\n",
        "\n",
        "        self.fc_out = nn.Linear(64, 1) # Output layer\n",
        "\n",
        "    def forward(self, x):\n",
        "        x = torch.relu(self.fc1(x))\n",
        "        x = self.bn1(x)\n",
        "        x = self.dropout1(x)\n",
        "\n",
        "        x = torch.relu(self.fc2(x))\n",
        "        x = self.bn2(x)\n",
        "        x = self.dropout2(x)\n",
        "\n",
        "        x = torch.relu(self.fc3(x))\n",
        "        x = self.bn3(x)\n",
        "        x = self.dropout3(x)\n",
        "\n",
        "        x = torch.sigmoid(self.fc_out(x))\n",
        "        return x\n",
        "\n",
        "# Inisialisasi model PyTorch\n",
        "pytorch_model = MLP_PyTorch(input_dim)\n",
        "\n",
        "# Loss dan Optimizer\n",
        "criterion = nn.BCELoss() # Binary Cross-Entropy\n",
        "optimizer_pytorch = optim.Adam(pytorch_model.parameters(), lr=1e-3, weight_decay=1e-4) # Adam dengan weight decay L2\n",
        "\n",
        "# Penyesuaian Learning Rate (Scheduler)\n",
        "scheduler = optim.lr_scheduler.ReduceLROnPlateau(optimizer_pytorch, 'min', patience=5, factor=0.5)\n",
        "\n",
        "# Melatih model PyTorch (loop pelatihan manual)\n",
        "num_epochs = 50\n",
        "best_valid_loss = float('inf')\n",
        "patience_counter = 0\n",
        "\n",
        "print(\"\\nMemulai Pelatihan Model PyTorch...\")\n",
        "for epoch in range(num_epochs):\n",
        "    pytorch_model.train()\n",
        "    for inputs, labels in train_loader:\n",
        "        optimizer_pytorch.zero_grad()\n",
        "        outputs = pytorch_model(inputs)\n",
        "        loss = criterion(outputs, labels)\n",
        "        loss.backward()\n",
        "        optimizer_pytorch.step()\n",
        "\n",
        "    # Evaluasi pada set validasi\n",
        "    pytorch_model.eval()\n",
        "    valid_loss = 0.0\n",
        "    with torch.no_grad():\n",
        "        for inputs, labels in valid_loader:\n",
        "            outputs = pytorch_model(inputs)\n",
        "            loss = criterion(outputs, labels)\n",
        "            valid_loss += loss.item() * inputs.size(0)\n",
        "    valid_loss /= len(valid_loader.dataset)\n",
        "\n",
        "    scheduler.step(valid_loss) # Update LR scheduler\n",
        "\n",
        "    print(f\"Epoch [{epoch+1}/{num_epochs}], Valid Loss: {valid_loss:.4f}\")\n",
        "\n",
        "    # Early Stopping PyTorch\n",
        "    if valid_loss < best_valid_loss:\n",
        "        best_valid_loss = valid_loss\n",
        "        patience_counter = 0\n",
        "        torch.save(pytorch_model.state_dict(), 'best_pytorch_model.pth')\n",
        "    else:\n",
        "        patience_counter += 1\n",
        "        if patience_counter >= 10:\n",
        "            print(\"Early stopping triggered!\")\n",
        "            break\n",
        "\n",
        "# Muat bobot terbaik untuk evaluasi\n",
        "pytorch_model.load_state_dict(torch.load('best_pytorch_model.pth'))\n",
        "pytorch_model.eval()\n",
        "\n",
        "# Evaluasi Model PyTorch pada Test Set\n",
        "y_pred_pytorch_proba = []\n",
        "y_true_pytorch = []\n",
        "with torch.no_grad():\n",
        "    for inputs, labels in test_loader:\n",
        "        outputs = pytorch_model(inputs)\n",
        "        y_pred_pytorch_proba.extend(outputs.cpu().numpy())\n",
        "        y_true_pytorch.extend(labels.cpu().numpy())\n",
        "\n",
        "y_pred_pytorch_proba = np.array(y_pred_pytorch_proba).flatten()\n",
        "y_pred_pytorch = (y_pred_pytorch_proba > 0.5).astype(int)\n",
        "y_true_pytorch = np.array(y_true_pytorch).flatten()\n",
        "\n",
        "pytorch_accuracy = accuracy_score(y_true_pytorch, y_pred_pytorch)\n",
        "pytorch_loss = criterion(torch.tensor(y_pred_pytorch_proba), torch.tensor(y_true_pytorch, dtype=torch.float32)).item()\n",
        "\n",
        "print(f\"\\nTest Loss (PyTorch): {pytorch_loss:.4f}\")\n",
        "print(f\"Test Accuracy (PyTorch): {pytorch_accuracy:.4f}\")"
      ]
    },
    {
      "cell_type": "markdown",
      "metadata": {
        "id": "iQO7JsjGtgod"
      },
      "source": [
        "### 2. Matriks Evaluasi dan Visualisasi"
      ]
    },
    {
      "cell_type": "code",
      "execution_count": 7,
      "metadata": {
        "colab": {
          "base_uri": "https://localhost:8080/",
          "height": 1000
        },
        "id": "9BNCbn6ntgod",
        "outputId": "33941d37-7924-4e10-a65e-9b484dcc5a8e"
      },
      "outputs": [
        {
          "output_type": "stream",
          "name": "stdout",
          "text": [
            "\u001b[1m1781/1781\u001b[0m \u001b[32m━━━━━━━━━━━━━━━━━━━━\u001b[0m\u001b[37m\u001b[0m \u001b[1m3s\u001b[0m 2ms/step\n",
            "\n",
            "--- Metrik Evaluasi Model TensorFlow ---\n",
            "Accuracy: 0.9993\n",
            "Precision: 0.7767\n",
            "Recall: 0.8163\n",
            "F1-Score: 0.7960\n"
          ]
        },
        {
          "output_type": "display_data",
          "data": {
            "text/plain": [
              "<Figure size 600x500 with 1 Axes>"
            ],
            "image/png": "[encoded data removed]"
          },
          "metadata": {}
        },
        {
          "output_type": "display_data",
          "data": {
            "text/plain": [
              "<Figure size 700x600 with 1 Axes>"
            ],
            "image/png": "[encoded data removed]"
          },
          "metadata": {}
        },
        {
          "output_type": "stream",
          "name": "stdout",
          "text": [
            "\n",
            "--- Metrik Evaluasi Model PyTorch ---\n",
            "Accuracy: 0.9989\n",
            "Precision: 0.8113\n",
            "Recall: 0.4388\n",
            "F1-Score: 0.5695\n"
          ]
        },
        {
          "output_type": "display_data",
          "data": {
            "text/plain": [
              "<Figure size 600x500 with 1 Axes>"
            ],
            "image/png": "[encoded data removed]"
          },
          "metadata": {}
        },
        {
          "output_type": "display_data",
          "data": {
            "text/plain": [
              "<Figure size 700x600 with 1 Axes>"
            ],
            "image/png": "[encoded data removed]"
          },
          "metadata": {}
        }
      ],
      "source": [
        "# Evaluasi dan Visualisasi untuk TensorFlow\n",
        "y_pred_tf_proba = tf_model.predict(X_test_scaled).flatten()\n",
        "y_pred_tf = (y_pred_tf_proba > 0.5).astype(int)\n",
        "\n",
        "# Evaluasi TensorFlow\n",
        "tf_accuracy = accuracy_score(y_test, y_pred_tf)\n",
        "tf_precision = precision_score(y_test, y_pred_tf)\n",
        "tf_recall = recall_score(y_test, y_pred_tf)\n",
        "tf_f1 = f1_score(y_test, y_pred_tf)\n",
        "\n",
        "print(\"\\n--- Metrik Evaluasi Model TensorFlow ---\")\n",
        "print(f\"Accuracy: {tf_accuracy:.4f}\")\n",
        "print(f\"Precision: {tf_precision:.4f}\")\n",
        "print(f\"Recall: {tf_recall:.4f}\")\n",
        "print(f\"F1-Score: {tf_f1:.4f}\")\n",
        "\n",
        "# Confusion Matrix TensorFlow\n",
        "cm_tf = confusion_matrix(y_test, y_pred_tf)\n",
        "plt.figure(figsize=(6, 5))\n",
        "sns.heatmap(cm_tf, annot=True, fmt='d', cmap='Blues', cbar=False)\n",
        "plt.title('Confusion Matrix - TensorFlow')\n",
        "plt.xlabel('Predicted')\n",
        "plt.ylabel('Actual')\n",
        "plt.show()\n",
        "\n",
        "# ROC Curve dan AUC TensorFlow\n",
        "fpr_tf, tpr_tf, thresholds_tf = roc_curve(y_test, y_pred_tf_proba)\n",
        "auc_tf = auc(fpr_tf, tpr_tf)\n",
        "\n",
        "plt.figure(figsize=(7, 6))\n",
        "plt.plot(fpr_tf, tpr_tf, color='darkorange', lw=2, label=f'ROC curve (area = {auc_tf:.2f})')\n",
        "plt.plot([0, 1], [0, 1], color='navy', lw=2, linestyle='--')\n",
        "plt.xlim([0.0, 1.0])\n",
        "plt.ylim([0.0, 1.05])\n",
        "plt.xlabel('False Positive Rate')\n",
        "plt.ylabel('True Positive Rate')\n",
        "plt.title('Receiver Operating Characteristic (ROC) Curve - TensorFlow')\n",
        "plt.legend(loc=\"lower right\")\n",
        "plt.grid(True)\n",
        "plt.show()\n",
        "\n",
        "\n",
        "# Evaluasi dan Visualisasi untuk PyTorch\n",
        "# y_pred_pytorch_proba dan y_true_pytorch sudah dihitung di bagian pelatihan PyTorch\n",
        "\n",
        "# Evaluasi PyTorch\n",
        "pytorch_accuracy = accuracy_score(y_true_pytorch, y_pred_pytorch)\n",
        "pytorch_precision = precision_score(y_true_pytorch, y_pred_pytorch)\n",
        "pytorch_recall = recall_score(y_true_pytorch, y_pred_pytorch)\n",
        "pytorch_f1 = f1_score(y_true_pytorch, y_pred_pytorch)\n",
        "\n",
        "print(\"\\n--- Metrik Evaluasi Model PyTorch ---\")\n",
        "print(f\"Accuracy: {pytorch_accuracy:.4f}\")\n",
        "print(f\"Precision: {pytorch_precision:.4f}\")\n",
        "print(f\"Recall: {pytorch_recall:.4f}\")\n",
        "print(f\"F1-Score: {pytorch_f1:.4f}\")\n",
        "\n",
        "# Confusion Matrix PyTorch\n",
        "cm_pytorch = confusion_matrix(y_true_pytorch, y_pred_pytorch)\n",
        "plt.figure(figsize=(6, 5))\n",
        "sns.heatmap(cm_pytorch, annot=True, fmt='d', cmap='Blues', cbar=False)\n",
        "plt.title('Confusion Matrix - PyTorch')\n",
        "plt.xlabel('Predicted')\n",
        "plt.ylabel('Actual')\n",
        "plt.show()\n",
        "\n",
        "# ROC Curve dan AUC PyTorch\n",
        "fpr_pytorch, tpr_pytorch, thresholds_pytorch = roc_curve(y_true_pytorch, y_pred_pytorch_proba)\n",
        "auc_pytorch = auc(fpr_pytorch, tpr_pytorch)\n",
        "\n",
        "plt.figure(figsize=(7, 6))\n",
        "plt.plot(fpr_pytorch, tpr_pytorch, color='darkorange', lw=2, label=f'ROC curve (area = {auc_pytorch:.2f})')\n",
        "plt.plot([0, 1], [0, 1], color='navy', lw=2, linestyle='--')\n",
        "plt.xlim([0.0, 1.0])\n",
        "plt.ylim([0.0, 1.05])\n",
        "plt.xlabel('False Positive Rate')\n",
        "plt.ylabel('True Positive Rate')\n",
        "plt.title('Receiver Operating Characteristic (ROC) Curve - PyTorch')\n",
        "plt.legend(loc=\"lower right\")\n",
        "plt.grid(True)\n",
        "plt.show()"
      ]
    },
    {
      "cell_type": "markdown",
      "metadata": {
        "id": "s58UmWKptgoe"
      },
      "source": [
        "### 3. Penjelasan Model dan Analisis Perbandingan\n",
        "\n",
        "**Model TensorFlow:**\n",
        "* **Kelebihan:**\n",
        "    * **Integrasi yang Ketat:** Merupakan bagian dari ekosistem TensorFlow yang lebih besar, menawarkan integrasi yang mulus dengan alat-alat seperti TensorBoard, TF-Serving, dan TF-Lite.\n",
        "    * **Abstraksi Tinggi (Sequential API):** Sangat mudah untuk membangun model sederhana dan kompleks dengan `Sequential` dan `Functional API`.\n",
        "    * **Produksi:** Didesain untuk skala produksi, dengan fitur-fitur seperti SavedModel untuk deployment yang mudah.\n",
        "    * **Optimasi Otomatis:** Keras otomatis mengonversi model menjadi TF Functions untuk kinerja yang lebih baik.\n",
        "* **Kekurangan:**\n",
        "    * **Fleksibilitas Rendah (untuk Kustomisasi Ekstrem):** Meskipun `Functional API` dan `Subclassing API` menawarkan fleksibilitas, untuk kontrol level terendah pada *training loop* atau operasi sangat kustom, PyTorch seringkali dirasa lebih \"Pythonic\" atau mudah.\n",
        "    * **Debugging:** Debugging dalam mode grafik (yang seringkali terjadi secara otomatis) bisa lebih menantang dibandingkan *eager mode* PyTorch.\n",
        "\n",
        "**Model PyTorch:**\n",
        "* **Kelebihan:**\n",
        "    * **Fleksibilitas Tinggi (Eager Mode):** Desain PyTorch yang *Pythonic* dan *eager execution* secara *default* membuat debugging dan eksperimen dengan arsitektur kustom menjadi sangat mudah.  Setiap operasi dijalankan segera, mirip dengan NumPy.\n",
        "    * **Kontrol Granular:** Memberikan kontrol yang sangat rinci atas proses pelatihan, yang disukai oleh peneliti.\n",
        "    * **Komunitas Berkembang:** Memiliki komunitas yang sangat aktif dan tumbuh pesat, terutama di kalangan peneliti.\n",
        "* **Kekurangan:**\n",
        "    * **Abstraksi Lebih Rendah (untuk Pemula):** Membutuhkan lebih banyak kode boilerplate untuk membangun model dan *training loop* dibandingkan TensorFlow/Keras `Sequential API`.\n",
        "    * **Deployment:** Meskipun telah ada peningkatan, deployment model PyTorch ke lingkungan produksi yang beragam (misalnya, mobile, embedded) bisa lebih kompleks dibandingkan TensorFlow/Keras.\n",
        "\n",
        "**Model Mana yang Terbaik dan Mengapa?**\n",
        "\n",
        "Untuk masalah deteksi penipuan dengan dataset ini, **kedua model (TensorFlow dan PyTorch) cenderung memiliki kinerja yang sangat mirip** karena:\n",
        "1.  **Arsitektur dan Teknik yang Sama:** Kedua model mengimplementasikan arsitektur MLP yang serupa dengan teknik Deep Learning yang sama (Batch Normalization, Dropout, L2 Regularization, Learning Rate Scheduling).\n",
        "2.  **Dataset Skala Menengah:** Dataset ini tidak \"sangat besar\" (sekitar 280.000 sampel) sehingga perbedaan efisiensi komputasi *framework* pada skala ekstrem mungkin tidak terlalu signifikan.\n",
        "3.  **Fokus pada Algoritma:** Pada level ini, kinerja model lebih banyak ditentukan oleh pilihan algoritma Machine Learning dan bagaimana fitur-fitur direpresentasikan, bukan hanya *framework*nya.\n",
        "\n",
        "**Namun, jika kita harus memilih satu berdasarkan metrik yang relevan untuk deteksi penipuan:**\n",
        "Kita perlu melihat nilai **Precision, Recall, F1-Score, dan AUC**, terutama untuk kelas minoritas (kelas penipuan, yaitu `Class = 1`). Karena model penipuan biasanya memiliki akurasi yang sangat tinggi (karena sebagian besar transaksi adalah non-penipuan), akurasi saja tidak cukup.\n",
        "\n",
        "**Analisis Kinerja Khas (berdasarkan pengalaman dengan data serupa):**\n",
        "* **Akurasi (Accuracy):** Proporsi prediksi yang benar dari total prediksi. $Accuracy = (TP + TN) / (TP + TN + FP + FN)$. Untuk dataset yang sangat tidak seimbang seperti ini, akurasi bisa sangat tinggi bahkan jika model buruk dalam mendeteksi kelas minoritas.\n",
        "* **Presisi (Precision):** Proporsi *true positive* dari semua prediksi positif. Menjawab pertanyaan \"Dari semua yang diprediksi positif, berapa banyak yang benar-benar positif?\". $Precision = TP / (TP + FP)$.\n",
        "* **Recall (Sensitivitas/True Positive Rate):** Proporsi *true positive* dari semua kasus positif yang sebenarnya. Menjawab pertanyaan \"Dari semua kasus positif yang sebenarnya, berapa banyak yang berhasil diprediksi?\". $Recall = TP / (TP + FN)$.\n",
        "* **F1-Score:** Rata-rata harmonik dari Presisi dan Recall. Ini berguna ketika Anda membutuhkan keseimbangan antara Presisi dan Recall, terutama pada dataset yang tidak seimbang. $F1 = 2 * (Precision * Recall) / (Precision + Recall)$.\n",
        "* **Confusion Matrix:** Memberikan gambaran rinci tentang jenis kesalahan yang dibuat model (TP, TN, FP, FN).\n",
        "* **ROC AUC (Area Under the ROC Curve):** Mengukur area di bawah kurva ROC. Nilai AUC mendekati 1 menunjukkan model yang sangat baik dalam membedakan kelas.\n",
        "\n",
        "Dalam deteksi penipuan, seringkali ada *trade-off* antara Precision dan Recall. Prioritas bisnis akan menentukan mana yang lebih penting. Jika konsekuensi *false negative* (penipuan terlewat) sangat tinggi, **Recall** mungkin menjadi prioritas utama. Jika biaya investigasi *false positive* (menginvestigasi transaksi sah) sangat tinggi, **Precision** mungkin menjadi prioritas utama. **F1-Score dan ROC AUC** memberikan gambaran kinerja model secara keseluruhan dan kemampuan diskriminatifnya.\n",
        "\n",
        "Secara umum, untuk masalah klasifikasi tidak seimbang seperti deteksi penipuan, sangat penting untuk:\n",
        "1.  **Menggunakan Stratified Split:** Pastikan distribusi kelas dipertahankan di setiap subset data.\n",
        "2.  **Memonitor Recall dan Precision (atau F1-Score):** Akurasi saja tidak cukup.\n",
        "3.  **Meningkatkan Regularisasi:** Karena kelas minoritas yang sedikit, model mungkin cenderung *overfit* ke contoh-contoh tersebut. Teknik seperti Dropout dan L2 Regularization sangat membantu.\n",
        "4.  **Menyesuaikan Learning Rate:** Learning rate scheduling dapat membantu konvergensi yang stabil.\n",
        "\n",
        "Berdasarkan arsitektur yang Anda kembangkan, kedua framework memiliki implementasi yang kuat dan seharusnya memberikan kinerja yang kompetitif pada dataset ini. Perbedaan kinerja kecil yang mungkin muncul biasanya disebabkan oleh inisialisasi bobot acak yang berbeda, urutan pemrosesan batch, atau detail implementasi kecil dari optimasi internal framework. Untuk menentukan yang \"terbaik\" secara definitif, diperlukan beberapa kali *run* untuk setiap model dan membandingkan metrik rata-rata dan deviasi standarnya."
      ]
    },
    {
      "cell_type": "markdown",
      "source": [
        "Berikut adalah ringkasan hasil evaluasi kedua model dalam bentuk tabel dan perbandingan naratifnya:\n",
        "\n",
        "| Metrik      | Model TensorFlow | Model PyTorch |\n",
        "|-------------|------------------|---------------|\n",
        "| Accuracy    | 0.9993           | 0.9989        |\n",
        "| Precision   | 0.7767           | 0.8113        |\n",
        "| Recall      | 0.8163           | 0.4388        |\n",
        "| F1-Score    | 0.7960           | 0.5695        |\n",
        "\n",
        "**Perbandingan Naratif:**\n",
        "\n",
        "Berdasarkan hasil evaluasi pada test set, kedua model (TensorFlow dan PyTorch) menunjukkan performa yang sangat tinggi dalam metrik Akurasi, di mana kedua-duanya mencapai lebih dari 99%. Akurasi yang sangat tinggi ini umum terjadi pada dataset yang tidak seimbang, seperti kasus deteksi penipuan, di mana sebagian besar transaksi adalah non-penipuan.\n",
        "\n",
        "Namun, ketika kita melihat metrik yang lebih spesifik untuk kelas minoritas (penipuan), perbedaan kinerja antara kedua model menjadi lebih jelas:\n",
        "\n",
        "* **Precision:** Model PyTorch sedikit lebih baik dalam hal Presisi (0.8113) dibandingkan dengan TensorFlow (0.7767). Ini berarti ketika model PyTorch memprediksi sebuah transaksi sebagai penipuan, kemungkinannya lebih tinggi (sekitar 81%) bahwa prediksi tersebut benar, dibandingkan dengan model TensorFlow (sekitar 77%).\n",
        "* **Recall:** Model TensorFlow secara signifikan mengungguli model PyTorch dalam hal Recall (0.8163 berbanding 0.4388). Ini menunjukkan bahwa model TensorFlow mampu mendeteksi sebagian besar transaksi penipuan yang sebenarnya (sekitar 81%), sementara model PyTorch hanya mendeteksi kurang dari setengahnya (sekitar 43%).\n",
        "* **F1-Score:** F1-Score, yang merupakan rata-rata harmonis dari Presisi dan Recall, menunjukkan bahwa model TensorFlow memiliki keseimbangan yang jauh lebih baik antara kedua metrik ini (0.7960) dibandingkan dengan PyTorch (0.5695).\n",
        "\n",
        "**Kesimpulan Perbandingan:**\n",
        "\n",
        "Meskipun model PyTorch memiliki Presisi yang sedikit lebih tinggi, **model TensorFlow menunjukkan kinerja keseluruhan yang lebih unggul, terutama karena nilai Recall dan F1-Score-nya yang jauh lebih tinggi.** Dalam konteks deteksi penipuan, kemampuan untuk mendeteksi *sebanyak mungkin* kasus penipuan (Recall tinggi) seringkali menjadi prioritas utama untuk meminimalkan kerugian finansial, meskipun mungkin ada sedikit peningkatan pada *false positive*. F1-Score yang lebih tinggi pada TensorFlow mengkonfirmasi bahwa model ini secara keseluruhan lebih efektif dalam menyeimbangkan identifikasi penipuan dengan meminimalkan kesalahan."
      ],
      "metadata": {
        "id": "C0m_WzObyFrv"
      }
    }
  ],
  "metadata": {
    "kernelspec": {
      "display_name": "Python 3",
      "language": "python",
      "name": "python3"
    },
    "language_info": {
      "codemirror_mode": {
        "name": "ipython",
        "version": 3
      },
      "file_extension": ".py",
      "mimetype": "text/x-python",
      "name": "python",
      "nbconvert_exporter": "python",
      "pygments_lexer": "ipython3",
      "version": "3.9.13"
    },
    "colab": {
      "provenance": []
    }
  },
  "nbformat": 4,
  "nbformat_minor": 0
}